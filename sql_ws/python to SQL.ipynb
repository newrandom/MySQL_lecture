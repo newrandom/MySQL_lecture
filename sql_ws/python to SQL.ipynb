{
 "cells": [
  {
   "cell_type": "code",
   "execution_count": 1,
   "metadata": {},
   "outputs": [],
   "source": [
    "import mysql.connector"
   ]
  },
  {
   "cell_type": "markdown",
   "metadata": {},
   "source": [
    "#### 1. Create Connection"
   ]
  },
  {
   "cell_type": "code",
   "execution_count": 3,
   "metadata": {},
   "outputs": [],
   "source": [
    "mydb = mysql.connector.connect(\n",
    "    host='192.168.35.159', \n",
    "    port=3306,\n",
    "    user='newrandom', \n",
    "    password=input()\n",
    "    )"
   ]
  },
  {
   "cell_type": "markdown",
   "metadata": {},
   "source": [
    "#### Create Connection 예제 1\n",
    "- Local Database 연결"
   ]
  },
  {
   "cell_type": "code",
   "execution_count": 5,
   "metadata": {},
   "outputs": [],
   "source": [
    "local = mysql.connector.connect(\n",
    "    host='localhost',\n",
    "    user = 'root',\n",
    "    password=input()\n",
    "\n",
    ")"
   ]
  },
  {
   "cell_type": "markdown",
   "metadata": {},
   "source": [
    "#### Create Connection 예제2\n",
    "- AWS RDS(database -1) 연결"
   ]
  },
  {
   "cell_type": "code",
   "execution_count": 6,
   "metadata": {},
   "outputs": [
    {
     "ename": "InterfaceError",
     "evalue": "2003: Can't connect to MySQL server on '%-.100s:%u' (%s) (Warning: %u format: a real number is required, not str)",
     "output_type": "error",
     "traceback": [
      "\u001b[0;31m---------------------------------------------------------------------------\u001b[0m",
      "\u001b[0;31mgaierror\u001b[0m                                  Traceback (most recent call last)",
      "File \u001b[0;32m~/miniforge3/envs/practice/lib/python3.10/site-packages/mysql/connector/network.py:547\u001b[0m, in \u001b[0;36mMySQLTCPSocket.open_connection\u001b[0;34m(self)\u001b[0m\n\u001b[1;32m    546\u001b[0m \u001b[39mtry\u001b[39;00m:\n\u001b[0;32m--> 547\u001b[0m     addrinfos \u001b[39m=\u001b[39m socket\u001b[39m.\u001b[39;49mgetaddrinfo(\u001b[39mself\u001b[39;49m\u001b[39m.\u001b[39;49mserver_host,\n\u001b[1;32m    548\u001b[0m                                    \u001b[39mself\u001b[39;49m\u001b[39m.\u001b[39;49mserver_port,\n\u001b[1;32m    549\u001b[0m                                    \u001b[39m0\u001b[39;49m, socket\u001b[39m.\u001b[39;49mSOCK_STREAM,\n\u001b[1;32m    550\u001b[0m                                    socket\u001b[39m.\u001b[39;49mSOL_TCP)\n\u001b[1;32m    551\u001b[0m     \u001b[39m# If multiple results we favor IPv4, unless IPv6 was forced.\u001b[39;00m\n",
      "File \u001b[0;32m~/miniforge3/envs/practice/lib/python3.10/socket.py:955\u001b[0m, in \u001b[0;36mgetaddrinfo\u001b[0;34m(host, port, family, type, proto, flags)\u001b[0m\n\u001b[1;32m    954\u001b[0m addrlist \u001b[39m=\u001b[39m []\n\u001b[0;32m--> 955\u001b[0m \u001b[39mfor\u001b[39;00m res \u001b[39min\u001b[39;00m _socket\u001b[39m.\u001b[39;49mgetaddrinfo(host, port, family, \u001b[39mtype\u001b[39;49m, proto, flags):\n\u001b[1;32m    956\u001b[0m     af, socktype, proto, canonname, sa \u001b[39m=\u001b[39m res\n",
      "\u001b[0;31mgaierror\u001b[0m: [Errno 8] nodename nor servname provided, or not known",
      "\nDuring handling of the above exception, another exception occurred:\n",
      "\u001b[0;31mInterfaceError\u001b[0m                            Traceback (most recent call last)",
      "\u001b[1;32m/Users/newrandom/Documents/GitHub/MySQL/sql_ws/python.ipynb 셀 7\u001b[0m in \u001b[0;36m<cell line: 1>\u001b[0;34m()\u001b[0m\n\u001b[0;32m----> <a href='vscode-notebook-cell:/Users/newrandom/Documents/GitHub/MySQL/sql_ws/python.ipynb#ch0000009?line=0'>1</a>\u001b[0m remote \u001b[39m=\u001b[39m mysql\u001b[39m.\u001b[39;49mconnector\u001b[39m.\u001b[39;49mconnect(\n\u001b[1;32m      <a href='vscode-notebook-cell:/Users/newrandom/Documents/GitHub/MySQL/sql_ws/python.ipynb#ch0000009?line=1'>2</a>\u001b[0m     host \u001b[39m=\u001b[39;49m \u001b[39m'\u001b[39;49m\u001b[39mEND POINT\u001b[39;49m\u001b[39m'\u001b[39;49m,\n\u001b[1;32m      <a href='vscode-notebook-cell:/Users/newrandom/Documents/GitHub/MySQL/sql_ws/python.ipynb#ch0000009?line=2'>3</a>\u001b[0m     port \u001b[39m=\u001b[39;49m \u001b[39m3306\u001b[39;49m,\n\u001b[1;32m      <a href='vscode-notebook-cell:/Users/newrandom/Documents/GitHub/MySQL/sql_ws/python.ipynb#ch0000009?line=3'>4</a>\u001b[0m     user \u001b[39m=\u001b[39;49m \u001b[39m'\u001b[39;49m\u001b[39mroot\u001b[39;49m\u001b[39m'\u001b[39;49m,\n\u001b[1;32m      <a href='vscode-notebook-cell:/Users/newrandom/Documents/GitHub/MySQL/sql_ws/python.ipynb#ch0000009?line=4'>5</a>\u001b[0m     password \u001b[39m=\u001b[39;49m \u001b[39m'\u001b[39;49m\u001b[39mpassword\u001b[39;49m\u001b[39m'\u001b[39;49m       \u001b[39m# AWS 접속 시 해당 문구들 변경할 것.\u001b[39;49;00m\n\u001b[1;32m      <a href='vscode-notebook-cell:/Users/newrandom/Documents/GitHub/MySQL/sql_ws/python.ipynb#ch0000009?line=5'>6</a>\u001b[0m )\n",
      "File \u001b[0;32m~/miniforge3/envs/practice/lib/python3.10/site-packages/mysql/connector/__init__.py:273\u001b[0m, in \u001b[0;36mconnect\u001b[0;34m(*args, **kwargs)\u001b[0m\n\u001b[1;32m    271\u001b[0m \u001b[39mif\u001b[39;00m HAVE_CEXT \u001b[39mand\u001b[39;00m \u001b[39mnot\u001b[39;00m use_pure:\n\u001b[1;32m    272\u001b[0m     \u001b[39mreturn\u001b[39;00m CMySQLConnection(\u001b[39m*\u001b[39margs, \u001b[39m*\u001b[39m\u001b[39m*\u001b[39mkwargs)\n\u001b[0;32m--> 273\u001b[0m \u001b[39mreturn\u001b[39;00m MySQLConnection(\u001b[39m*\u001b[39;49margs, \u001b[39m*\u001b[39;49m\u001b[39m*\u001b[39;49mkwargs)\n",
      "File \u001b[0;32m~/miniforge3/envs/practice/lib/python3.10/site-packages/mysql/connector/connection.py:116\u001b[0m, in \u001b[0;36mMySQLConnection.__init__\u001b[0;34m(self, *args, **kwargs)\u001b[0m\n\u001b[1;32m    114\u001b[0m \u001b[39mif\u001b[39;00m kwargs:\n\u001b[1;32m    115\u001b[0m     \u001b[39mtry\u001b[39;00m:\n\u001b[0;32m--> 116\u001b[0m         \u001b[39mself\u001b[39;49m\u001b[39m.\u001b[39;49mconnect(\u001b[39m*\u001b[39;49m\u001b[39m*\u001b[39;49mkwargs)\n\u001b[1;32m    117\u001b[0m     \u001b[39mexcept\u001b[39;00m:\n\u001b[1;32m    118\u001b[0m         \u001b[39m# Tidy-up underlying socket on failure\u001b[39;00m\n\u001b[1;32m    119\u001b[0m         \u001b[39mself\u001b[39m\u001b[39m.\u001b[39mclose()\n",
      "File \u001b[0;32m~/miniforge3/envs/practice/lib/python3.10/site-packages/mysql/connector/abstracts.py:1052\u001b[0m, in \u001b[0;36mMySQLConnectionAbstract.connect\u001b[0;34m(self, **kwargs)\u001b[0m\n\u001b[1;32m   1049\u001b[0m     \u001b[39mself\u001b[39m\u001b[39m.\u001b[39mconfig(\u001b[39m*\u001b[39m\u001b[39m*\u001b[39mkwargs)\n\u001b[1;32m   1051\u001b[0m \u001b[39mself\u001b[39m\u001b[39m.\u001b[39mdisconnect()\n\u001b[0;32m-> 1052\u001b[0m \u001b[39mself\u001b[39;49m\u001b[39m.\u001b[39;49m_open_connection()\n\u001b[1;32m   1053\u001b[0m \u001b[39m# Server does not allow to run any other statement different from ALTER\u001b[39;00m\n\u001b[1;32m   1054\u001b[0m \u001b[39m# when user's password has been expired.\u001b[39;00m\n\u001b[1;32m   1055\u001b[0m \u001b[39mif\u001b[39;00m \u001b[39mnot\u001b[39;00m \u001b[39mself\u001b[39m\u001b[39m.\u001b[39m_client_flags \u001b[39m&\u001b[39m ClientFlag\u001b[39m.\u001b[39mCAN_HANDLE_EXPIRED_PASSWORDS:\n",
      "File \u001b[0;32m~/miniforge3/envs/practice/lib/python3.10/site-packages/mysql/connector/connection.py:494\u001b[0m, in \u001b[0;36mMySQLConnection._open_connection\u001b[0;34m(self)\u001b[0m\n\u001b[1;32m    492\u001b[0m \u001b[39mself\u001b[39m\u001b[39m.\u001b[39m_socket \u001b[39m=\u001b[39m \u001b[39mself\u001b[39m\u001b[39m.\u001b[39m_get_connection()\n\u001b[1;32m    493\u001b[0m \u001b[39mtry\u001b[39;00m:\n\u001b[0;32m--> 494\u001b[0m     \u001b[39mself\u001b[39;49m\u001b[39m.\u001b[39;49m_socket\u001b[39m.\u001b[39;49mopen_connection()\n\u001b[1;32m    495\u001b[0m     \u001b[39mself\u001b[39m\u001b[39m.\u001b[39m_do_handshake()\n\u001b[1;32m    496\u001b[0m     \u001b[39mself\u001b[39m\u001b[39m.\u001b[39m_do_auth(\u001b[39mself\u001b[39m\u001b[39m.\u001b[39m_user, \u001b[39mself\u001b[39m\u001b[39m.\u001b[39m_password,\n\u001b[1;32m    497\u001b[0m                   \u001b[39mself\u001b[39m\u001b[39m.\u001b[39m_database, \u001b[39mself\u001b[39m\u001b[39m.\u001b[39m_client_flags, \u001b[39mself\u001b[39m\u001b[39m.\u001b[39m_charset_id,\n\u001b[1;32m    498\u001b[0m                   \u001b[39mself\u001b[39m\u001b[39m.\u001b[39m_ssl, \u001b[39mself\u001b[39m\u001b[39m.\u001b[39m_conn_attrs)\n",
      "File \u001b[0;32m~/miniforge3/envs/practice/lib/python3.10/site-packages/mysql/connector/network.py:565\u001b[0m, in \u001b[0;36mMySQLTCPSocket.open_connection\u001b[0;34m(self)\u001b[0m\n\u001b[1;32m    563\u001b[0m         addrinfo \u001b[39m=\u001b[39m addrinfos[\u001b[39m0\u001b[39m]\n\u001b[1;32m    564\u001b[0m \u001b[39mexcept\u001b[39;00m \u001b[39mIOError\u001b[39;00m \u001b[39mas\u001b[39;00m err:\n\u001b[0;32m--> 565\u001b[0m     \u001b[39mraise\u001b[39;00m errors\u001b[39m.\u001b[39mInterfaceError(\n\u001b[1;32m    566\u001b[0m         errno\u001b[39m=\u001b[39m\u001b[39m2003\u001b[39m, values\u001b[39m=\u001b[39m(\u001b[39mself\u001b[39m\u001b[39m.\u001b[39mget_address(), _strioerror(err)))\n\u001b[1;32m    567\u001b[0m \u001b[39melse\u001b[39;00m:\n\u001b[1;32m    568\u001b[0m     (\u001b[39mself\u001b[39m\u001b[39m.\u001b[39m_family, socktype, proto, _, sockaddr) \u001b[39m=\u001b[39m addrinfo\n",
      "\u001b[0;31mInterfaceError\u001b[0m: 2003: Can't connect to MySQL server on '%-.100s:%u' (%s) (Warning: %u format: a real number is required, not str)"
     ]
    }
   ],
   "source": [
    "remote = mysql.connector.connect(\n",
    "    host = 'END POINT',\n",
    "    port = 3306,\n",
    "    user = 'root',\n",
    "    password = 'password'       # AWS 접속 시 해당 문구들 변경할 것.\n",
    ")"
   ]
  },
  {
   "cell_type": "markdown",
   "metadata": {},
   "source": [
    "#### Close Database\n"
   ]
  },
  {
   "cell_type": "code",
   "execution_count": 7,
   "metadata": {},
   "outputs": [],
   "source": [
    "local.close()"
   ]
  },
  {
   "cell_type": "code",
   "execution_count": 9,
   "metadata": {},
   "outputs": [],
   "source": [
    "mydb.close()"
   ]
  },
  {
   "cell_type": "markdown",
   "metadata": {},
   "source": [
    "#### Create Connection 예제 1\n",
    "- Local MySQL 의 zerobase 에 연결"
   ]
  },
  {
   "cell_type": "code",
   "execution_count": 10,
   "metadata": {},
   "outputs": [
    {
     "ename": "ProgrammingError",
     "evalue": "1049 (42000): Unknown database 'zerobase'",
     "output_type": "error",
     "traceback": [
      "\u001b[0;31m---------------------------------------------------------------------------\u001b[0m",
      "\u001b[0;31mProgrammingError\u001b[0m                          Traceback (most recent call last)",
      "\u001b[1;32m/Users/newrandom/Documents/GitHub/MySQL/sql_ws/python.ipynb 셀 12\u001b[0m in \u001b[0;36m<cell line: 1>\u001b[0;34m()\u001b[0m\n\u001b[0;32m----> <a href='vscode-notebook-cell:/Users/newrandom/Documents/GitHub/MySQL/sql_ws/python.ipynb#ch0000016?line=0'>1</a>\u001b[0m local \u001b[39m=\u001b[39m mysql\u001b[39m.\u001b[39;49mconnector\u001b[39m.\u001b[39;49mconnect(\n\u001b[1;32m      <a href='vscode-notebook-cell:/Users/newrandom/Documents/GitHub/MySQL/sql_ws/python.ipynb#ch0000016?line=1'>2</a>\u001b[0m     host \u001b[39m=\u001b[39;49m \u001b[39m'\u001b[39;49m\u001b[39mlocalhost\u001b[39;49m\u001b[39m'\u001b[39;49m,\n\u001b[1;32m      <a href='vscode-notebook-cell:/Users/newrandom/Documents/GitHub/MySQL/sql_ws/python.ipynb#ch0000016?line=2'>3</a>\u001b[0m     user \u001b[39m=\u001b[39;49m \u001b[39m'\u001b[39;49m\u001b[39mroot\u001b[39;49m\u001b[39m'\u001b[39;49m,\n\u001b[1;32m      <a href='vscode-notebook-cell:/Users/newrandom/Documents/GitHub/MySQL/sql_ws/python.ipynb#ch0000016?line=3'>4</a>\u001b[0m     password \u001b[39m=\u001b[39;49m \u001b[39minput\u001b[39;49m(),\n\u001b[1;32m      <a href='vscode-notebook-cell:/Users/newrandom/Documents/GitHub/MySQL/sql_ws/python.ipynb#ch0000016?line=4'>5</a>\u001b[0m     database \u001b[39m=\u001b[39;49m \u001b[39m'\u001b[39;49m\u001b[39mzerobase\u001b[39;49m\u001b[39m'\u001b[39;49m\n\u001b[1;32m      <a href='vscode-notebook-cell:/Users/newrandom/Documents/GitHub/MySQL/sql_ws/python.ipynb#ch0000016?line=5'>6</a>\u001b[0m )\n",
      "File \u001b[0;32m~/miniforge3/envs/practice/lib/python3.10/site-packages/mysql/connector/__init__.py:273\u001b[0m, in \u001b[0;36mconnect\u001b[0;34m(*args, **kwargs)\u001b[0m\n\u001b[1;32m    271\u001b[0m \u001b[39mif\u001b[39;00m HAVE_CEXT \u001b[39mand\u001b[39;00m \u001b[39mnot\u001b[39;00m use_pure:\n\u001b[1;32m    272\u001b[0m     \u001b[39mreturn\u001b[39;00m CMySQLConnection(\u001b[39m*\u001b[39margs, \u001b[39m*\u001b[39m\u001b[39m*\u001b[39mkwargs)\n\u001b[0;32m--> 273\u001b[0m \u001b[39mreturn\u001b[39;00m MySQLConnection(\u001b[39m*\u001b[39;49margs, \u001b[39m*\u001b[39;49m\u001b[39m*\u001b[39;49mkwargs)\n",
      "File \u001b[0;32m~/miniforge3/envs/practice/lib/python3.10/site-packages/mysql/connector/connection.py:116\u001b[0m, in \u001b[0;36mMySQLConnection.__init__\u001b[0;34m(self, *args, **kwargs)\u001b[0m\n\u001b[1;32m    114\u001b[0m \u001b[39mif\u001b[39;00m kwargs:\n\u001b[1;32m    115\u001b[0m     \u001b[39mtry\u001b[39;00m:\n\u001b[0;32m--> 116\u001b[0m         \u001b[39mself\u001b[39;49m\u001b[39m.\u001b[39;49mconnect(\u001b[39m*\u001b[39;49m\u001b[39m*\u001b[39;49mkwargs)\n\u001b[1;32m    117\u001b[0m     \u001b[39mexcept\u001b[39;00m:\n\u001b[1;32m    118\u001b[0m         \u001b[39m# Tidy-up underlying socket on failure\u001b[39;00m\n\u001b[1;32m    119\u001b[0m         \u001b[39mself\u001b[39m\u001b[39m.\u001b[39mclose()\n",
      "File \u001b[0;32m~/miniforge3/envs/practice/lib/python3.10/site-packages/mysql/connector/abstracts.py:1052\u001b[0m, in \u001b[0;36mMySQLConnectionAbstract.connect\u001b[0;34m(self, **kwargs)\u001b[0m\n\u001b[1;32m   1049\u001b[0m     \u001b[39mself\u001b[39m\u001b[39m.\u001b[39mconfig(\u001b[39m*\u001b[39m\u001b[39m*\u001b[39mkwargs)\n\u001b[1;32m   1051\u001b[0m \u001b[39mself\u001b[39m\u001b[39m.\u001b[39mdisconnect()\n\u001b[0;32m-> 1052\u001b[0m \u001b[39mself\u001b[39;49m\u001b[39m.\u001b[39;49m_open_connection()\n\u001b[1;32m   1053\u001b[0m \u001b[39m# Server does not allow to run any other statement different from ALTER\u001b[39;00m\n\u001b[1;32m   1054\u001b[0m \u001b[39m# when user's password has been expired.\u001b[39;00m\n\u001b[1;32m   1055\u001b[0m \u001b[39mif\u001b[39;00m \u001b[39mnot\u001b[39;00m \u001b[39mself\u001b[39m\u001b[39m.\u001b[39m_client_flags \u001b[39m&\u001b[39m ClientFlag\u001b[39m.\u001b[39mCAN_HANDLE_EXPIRED_PASSWORDS:\n",
      "File \u001b[0;32m~/miniforge3/envs/practice/lib/python3.10/site-packages/mysql/connector/connection.py:496\u001b[0m, in \u001b[0;36mMySQLConnection._open_connection\u001b[0;34m(self)\u001b[0m\n\u001b[1;32m    494\u001b[0m \u001b[39mself\u001b[39m\u001b[39m.\u001b[39m_socket\u001b[39m.\u001b[39mopen_connection()\n\u001b[1;32m    495\u001b[0m \u001b[39mself\u001b[39m\u001b[39m.\u001b[39m_do_handshake()\n\u001b[0;32m--> 496\u001b[0m \u001b[39mself\u001b[39;49m\u001b[39m.\u001b[39;49m_do_auth(\u001b[39mself\u001b[39;49m\u001b[39m.\u001b[39;49m_user, \u001b[39mself\u001b[39;49m\u001b[39m.\u001b[39;49m_password,\n\u001b[1;32m    497\u001b[0m               \u001b[39mself\u001b[39;49m\u001b[39m.\u001b[39;49m_database, \u001b[39mself\u001b[39;49m\u001b[39m.\u001b[39;49m_client_flags, \u001b[39mself\u001b[39;49m\u001b[39m.\u001b[39;49m_charset_id,\n\u001b[1;32m    498\u001b[0m               \u001b[39mself\u001b[39;49m\u001b[39m.\u001b[39;49m_ssl, \u001b[39mself\u001b[39;49m\u001b[39m.\u001b[39;49m_conn_attrs)\n\u001b[1;32m    499\u001b[0m \u001b[39mself\u001b[39m\u001b[39m.\u001b[39mset_converter_class(\u001b[39mself\u001b[39m\u001b[39m.\u001b[39m_converter_class)\n\u001b[1;32m    500\u001b[0m \u001b[39mif\u001b[39;00m \u001b[39mself\u001b[39m\u001b[39m.\u001b[39m_client_flags \u001b[39m&\u001b[39m ClientFlag\u001b[39m.\u001b[39mCOMPRESS:\n",
      "File \u001b[0;32m~/miniforge3/envs/practice/lib/python3.10/site-packages/mysql/connector/connection.py:242\u001b[0m, in \u001b[0;36mMySQLConnection._do_auth\u001b[0;34m(self, username, password, database, client_flags, charset, ssl_options, conn_attrs)\u001b[0m\n\u001b[1;32m    234\u001b[0m packet \u001b[39m=\u001b[39m \u001b[39mself\u001b[39m\u001b[39m.\u001b[39m_protocol\u001b[39m.\u001b[39mmake_auth(\n\u001b[1;32m    235\u001b[0m     handshake\u001b[39m=\u001b[39m\u001b[39mself\u001b[39m\u001b[39m.\u001b[39m_handshake,\n\u001b[1;32m    236\u001b[0m     username\u001b[39m=\u001b[39musername, password\u001b[39m=\u001b[39mpassword, database\u001b[39m=\u001b[39mdatabase,\n\u001b[0;32m   (...)\u001b[0m\n\u001b[1;32m    239\u001b[0m     auth_plugin\u001b[39m=\u001b[39m\u001b[39mself\u001b[39m\u001b[39m.\u001b[39m_auth_plugin,\n\u001b[1;32m    240\u001b[0m     conn_attrs\u001b[39m=\u001b[39mconn_attrs)\n\u001b[1;32m    241\u001b[0m \u001b[39mself\u001b[39m\u001b[39m.\u001b[39m_socket\u001b[39m.\u001b[39msend(packet)\n\u001b[0;32m--> 242\u001b[0m \u001b[39mself\u001b[39;49m\u001b[39m.\u001b[39;49m_auth_switch_request(username, password)\n\u001b[1;32m    244\u001b[0m \u001b[39mif\u001b[39;00m \u001b[39mnot\u001b[39;00m (client_flags \u001b[39m&\u001b[39m ClientFlag\u001b[39m.\u001b[39mCONNECT_WITH_DB) \u001b[39mand\u001b[39;00m database:\n\u001b[1;32m    245\u001b[0m     \u001b[39mself\u001b[39m\u001b[39m.\u001b[39mcmd_init_db(database)\n",
      "File \u001b[0;32m~/miniforge3/envs/practice/lib/python3.10/site-packages/mysql/connector/connection.py:288\u001b[0m, in \u001b[0;36mMySQLConnection._auth_switch_request\u001b[0;34m(self, username, password)\u001b[0m\n\u001b[1;32m    286\u001b[0m     \u001b[39mreturn\u001b[39;00m \u001b[39mself\u001b[39m\u001b[39m.\u001b[39m_handle_mfa(packet)\n\u001b[1;32m    287\u001b[0m \u001b[39melif\u001b[39;00m packet[\u001b[39m4\u001b[39m] \u001b[39m==\u001b[39m \u001b[39m255\u001b[39m:\n\u001b[0;32m--> 288\u001b[0m     \u001b[39mraise\u001b[39;00m errors\u001b[39m.\u001b[39mget_exception(packet)\n\u001b[1;32m    289\u001b[0m \u001b[39mreturn\u001b[39;00m \u001b[39mNone\u001b[39;00m\n",
      "\u001b[0;31mProgrammingError\u001b[0m: 1049 (42000): Unknown database 'zerobase'"
     ]
    }
   ],
   "source": [
    "local = mysql.connector.connect(\n",
    "    host = 'localhost',\n",
    "    user = 'root',\n",
    "    password = input(),\n",
    "    database = 'zerobase'       # zerobase database가 있을 때 가능\n",
    ")"
   ]
  },
  {
   "cell_type": "code",
   "execution_count": 11,
   "metadata": {},
   "outputs": [],
   "source": [
    "local.close()"
   ]
  },
  {
   "cell_type": "markdown",
   "metadata": {},
   "source": [
    "- AWS RDS(database-1)의 zerobase 에 연결"
   ]
  },
  {
   "cell_type": "code",
   "execution_count": 12,
   "metadata": {},
   "outputs": [
    {
     "ename": "InterfaceError",
     "evalue": "2003: Can't connect to MySQL server on '%-.100s:%u' (%s) (Warning: %u format: a real number is required, not str)",
     "output_type": "error",
     "traceback": [
      "\u001b[0;31m---------------------------------------------------------------------------\u001b[0m",
      "\u001b[0;31mgaierror\u001b[0m                                  Traceback (most recent call last)",
      "File \u001b[0;32m~/miniforge3/envs/practice/lib/python3.10/site-packages/mysql/connector/network.py:547\u001b[0m, in \u001b[0;36mMySQLTCPSocket.open_connection\u001b[0;34m(self)\u001b[0m\n\u001b[1;32m    546\u001b[0m \u001b[39mtry\u001b[39;00m:\n\u001b[0;32m--> 547\u001b[0m     addrinfos \u001b[39m=\u001b[39m socket\u001b[39m.\u001b[39;49mgetaddrinfo(\u001b[39mself\u001b[39;49m\u001b[39m.\u001b[39;49mserver_host,\n\u001b[1;32m    548\u001b[0m                                    \u001b[39mself\u001b[39;49m\u001b[39m.\u001b[39;49mserver_port,\n\u001b[1;32m    549\u001b[0m                                    \u001b[39m0\u001b[39;49m, socket\u001b[39m.\u001b[39;49mSOCK_STREAM,\n\u001b[1;32m    550\u001b[0m                                    socket\u001b[39m.\u001b[39;49mSOL_TCP)\n\u001b[1;32m    551\u001b[0m     \u001b[39m# If multiple results we favor IPv4, unless IPv6 was forced.\u001b[39;00m\n",
      "File \u001b[0;32m~/miniforge3/envs/practice/lib/python3.10/socket.py:955\u001b[0m, in \u001b[0;36mgetaddrinfo\u001b[0;34m(host, port, family, type, proto, flags)\u001b[0m\n\u001b[1;32m    954\u001b[0m addrlist \u001b[39m=\u001b[39m []\n\u001b[0;32m--> 955\u001b[0m \u001b[39mfor\u001b[39;00m res \u001b[39min\u001b[39;00m _socket\u001b[39m.\u001b[39;49mgetaddrinfo(host, port, family, \u001b[39mtype\u001b[39;49m, proto, flags):\n\u001b[1;32m    956\u001b[0m     af, socktype, proto, canonname, sa \u001b[39m=\u001b[39m res\n",
      "\u001b[0;31mgaierror\u001b[0m: [Errno 8] nodename nor servname provided, or not known",
      "\nDuring handling of the above exception, another exception occurred:\n",
      "\u001b[0;31mInterfaceError\u001b[0m                            Traceback (most recent call last)",
      "\u001b[1;32m/Users/newrandom/Documents/GitHub/MySQL/sql_ws/python.ipynb 셀 15\u001b[0m in \u001b[0;36m<cell line: 1>\u001b[0;34m()\u001b[0m\n\u001b[0;32m----> <a href='vscode-notebook-cell:/Users/newrandom/Documents/GitHub/MySQL/sql_ws/python.ipynb#ch0000020?line=0'>1</a>\u001b[0m remote \u001b[39m=\u001b[39m mysql\u001b[39m.\u001b[39;49mconnector\u001b[39m.\u001b[39;49mconnect(\n\u001b[1;32m      <a href='vscode-notebook-cell:/Users/newrandom/Documents/GitHub/MySQL/sql_ws/python.ipynb#ch0000020?line=1'>2</a>\u001b[0m     host \u001b[39m=\u001b[39;49m \u001b[39m'\u001b[39;49m\u001b[39mENDPOINT\u001b[39;49m\u001b[39m'\u001b[39;49m,\n\u001b[1;32m      <a href='vscode-notebook-cell:/Users/newrandom/Documents/GitHub/MySQL/sql_ws/python.ipynb#ch0000020?line=2'>3</a>\u001b[0m     port\u001b[39m=\u001b[39;49m  \u001b[39m3306\u001b[39;49m,\n\u001b[1;32m      <a href='vscode-notebook-cell:/Users/newrandom/Documents/GitHub/MySQL/sql_ws/python.ipynb#ch0000020?line=3'>4</a>\u001b[0m     user \u001b[39m=\u001b[39;49m \u001b[39m'\u001b[39;49m\u001b[39madmin\u001b[39;49m\u001b[39m'\u001b[39;49m, \n\u001b[1;32m      <a href='vscode-notebook-cell:/Users/newrandom/Documents/GitHub/MySQL/sql_ws/python.ipynb#ch0000020?line=4'>5</a>\u001b[0m     password \u001b[39m=\u001b[39;49m \u001b[39m'\u001b[39;49m\u001b[39mzerobase\u001b[39;49m\u001b[39m'\u001b[39;49m,\n\u001b[1;32m      <a href='vscode-notebook-cell:/Users/newrandom/Documents/GitHub/MySQL/sql_ws/python.ipynb#ch0000020?line=5'>6</a>\u001b[0m     database \u001b[39m=\u001b[39;49m \u001b[39m'\u001b[39;49m\u001b[39mzerobase\u001b[39;49m\u001b[39m'\u001b[39;49m\n\u001b[1;32m      <a href='vscode-notebook-cell:/Users/newrandom/Documents/GitHub/MySQL/sql_ws/python.ipynb#ch0000020?line=6'>7</a>\u001b[0m )\n",
      "File \u001b[0;32m~/miniforge3/envs/practice/lib/python3.10/site-packages/mysql/connector/__init__.py:273\u001b[0m, in \u001b[0;36mconnect\u001b[0;34m(*args, **kwargs)\u001b[0m\n\u001b[1;32m    271\u001b[0m \u001b[39mif\u001b[39;00m HAVE_CEXT \u001b[39mand\u001b[39;00m \u001b[39mnot\u001b[39;00m use_pure:\n\u001b[1;32m    272\u001b[0m     \u001b[39mreturn\u001b[39;00m CMySQLConnection(\u001b[39m*\u001b[39margs, \u001b[39m*\u001b[39m\u001b[39m*\u001b[39mkwargs)\n\u001b[0;32m--> 273\u001b[0m \u001b[39mreturn\u001b[39;00m MySQLConnection(\u001b[39m*\u001b[39;49margs, \u001b[39m*\u001b[39;49m\u001b[39m*\u001b[39;49mkwargs)\n",
      "File \u001b[0;32m~/miniforge3/envs/practice/lib/python3.10/site-packages/mysql/connector/connection.py:116\u001b[0m, in \u001b[0;36mMySQLConnection.__init__\u001b[0;34m(self, *args, **kwargs)\u001b[0m\n\u001b[1;32m    114\u001b[0m \u001b[39mif\u001b[39;00m kwargs:\n\u001b[1;32m    115\u001b[0m     \u001b[39mtry\u001b[39;00m:\n\u001b[0;32m--> 116\u001b[0m         \u001b[39mself\u001b[39;49m\u001b[39m.\u001b[39;49mconnect(\u001b[39m*\u001b[39;49m\u001b[39m*\u001b[39;49mkwargs)\n\u001b[1;32m    117\u001b[0m     \u001b[39mexcept\u001b[39;00m:\n\u001b[1;32m    118\u001b[0m         \u001b[39m# Tidy-up underlying socket on failure\u001b[39;00m\n\u001b[1;32m    119\u001b[0m         \u001b[39mself\u001b[39m\u001b[39m.\u001b[39mclose()\n",
      "File \u001b[0;32m~/miniforge3/envs/practice/lib/python3.10/site-packages/mysql/connector/abstracts.py:1052\u001b[0m, in \u001b[0;36mMySQLConnectionAbstract.connect\u001b[0;34m(self, **kwargs)\u001b[0m\n\u001b[1;32m   1049\u001b[0m     \u001b[39mself\u001b[39m\u001b[39m.\u001b[39mconfig(\u001b[39m*\u001b[39m\u001b[39m*\u001b[39mkwargs)\n\u001b[1;32m   1051\u001b[0m \u001b[39mself\u001b[39m\u001b[39m.\u001b[39mdisconnect()\n\u001b[0;32m-> 1052\u001b[0m \u001b[39mself\u001b[39;49m\u001b[39m.\u001b[39;49m_open_connection()\n\u001b[1;32m   1053\u001b[0m \u001b[39m# Server does not allow to run any other statement different from ALTER\u001b[39;00m\n\u001b[1;32m   1054\u001b[0m \u001b[39m# when user's password has been expired.\u001b[39;00m\n\u001b[1;32m   1055\u001b[0m \u001b[39mif\u001b[39;00m \u001b[39mnot\u001b[39;00m \u001b[39mself\u001b[39m\u001b[39m.\u001b[39m_client_flags \u001b[39m&\u001b[39m ClientFlag\u001b[39m.\u001b[39mCAN_HANDLE_EXPIRED_PASSWORDS:\n",
      "File \u001b[0;32m~/miniforge3/envs/practice/lib/python3.10/site-packages/mysql/connector/connection.py:494\u001b[0m, in \u001b[0;36mMySQLConnection._open_connection\u001b[0;34m(self)\u001b[0m\n\u001b[1;32m    492\u001b[0m \u001b[39mself\u001b[39m\u001b[39m.\u001b[39m_socket \u001b[39m=\u001b[39m \u001b[39mself\u001b[39m\u001b[39m.\u001b[39m_get_connection()\n\u001b[1;32m    493\u001b[0m \u001b[39mtry\u001b[39;00m:\n\u001b[0;32m--> 494\u001b[0m     \u001b[39mself\u001b[39;49m\u001b[39m.\u001b[39;49m_socket\u001b[39m.\u001b[39;49mopen_connection()\n\u001b[1;32m    495\u001b[0m     \u001b[39mself\u001b[39m\u001b[39m.\u001b[39m_do_handshake()\n\u001b[1;32m    496\u001b[0m     \u001b[39mself\u001b[39m\u001b[39m.\u001b[39m_do_auth(\u001b[39mself\u001b[39m\u001b[39m.\u001b[39m_user, \u001b[39mself\u001b[39m\u001b[39m.\u001b[39m_password,\n\u001b[1;32m    497\u001b[0m                   \u001b[39mself\u001b[39m\u001b[39m.\u001b[39m_database, \u001b[39mself\u001b[39m\u001b[39m.\u001b[39m_client_flags, \u001b[39mself\u001b[39m\u001b[39m.\u001b[39m_charset_id,\n\u001b[1;32m    498\u001b[0m                   \u001b[39mself\u001b[39m\u001b[39m.\u001b[39m_ssl, \u001b[39mself\u001b[39m\u001b[39m.\u001b[39m_conn_attrs)\n",
      "File \u001b[0;32m~/miniforge3/envs/practice/lib/python3.10/site-packages/mysql/connector/network.py:565\u001b[0m, in \u001b[0;36mMySQLTCPSocket.open_connection\u001b[0;34m(self)\u001b[0m\n\u001b[1;32m    563\u001b[0m         addrinfo \u001b[39m=\u001b[39m addrinfos[\u001b[39m0\u001b[39m]\n\u001b[1;32m    564\u001b[0m \u001b[39mexcept\u001b[39;00m \u001b[39mIOError\u001b[39;00m \u001b[39mas\u001b[39;00m err:\n\u001b[0;32m--> 565\u001b[0m     \u001b[39mraise\u001b[39;00m errors\u001b[39m.\u001b[39mInterfaceError(\n\u001b[1;32m    566\u001b[0m         errno\u001b[39m=\u001b[39m\u001b[39m2003\u001b[39m, values\u001b[39m=\u001b[39m(\u001b[39mself\u001b[39m\u001b[39m.\u001b[39mget_address(), _strioerror(err)))\n\u001b[1;32m    567\u001b[0m \u001b[39melse\u001b[39;00m:\n\u001b[1;32m    568\u001b[0m     (\u001b[39mself\u001b[39m\u001b[39m.\u001b[39m_family, socktype, proto, _, sockaddr) \u001b[39m=\u001b[39m addrinfo\n",
      "\u001b[0;31mInterfaceError\u001b[0m: 2003: Can't connect to MySQL server on '%-.100s:%u' (%s) (Warning: %u format: a real number is required, not str)"
     ]
    }
   ],
   "source": [
    "remote = mysql.connector.connect(\n",
    "    host = 'ENDPOINT',\n",
    "    port=  3306,\n",
    "    user = 'admin', \n",
    "    password = 'zerobase',\n",
    "    database = 'zerobase'\n",
    ")"
   ]
  },
  {
   "cell_type": "code",
   "execution_count": 13,
   "metadata": {},
   "outputs": [
    {
     "ename": "NameError",
     "evalue": "name 'remote' is not defined",
     "output_type": "error",
     "traceback": [
      "\u001b[0;31m---------------------------------------------------------------------------\u001b[0m",
      "\u001b[0;31mNameError\u001b[0m                                 Traceback (most recent call last)",
      "\u001b[1;32m/Users/newrandom/Documents/GitHub/MySQL/sql_ws/python.ipynb 셀 16\u001b[0m in \u001b[0;36m<cell line: 1>\u001b[0;34m()\u001b[0m\n\u001b[0;32m----> <a href='vscode-notebook-cell:/Users/newrandom/Documents/GitHub/MySQL/sql_ws/python.ipynb#ch0000021?line=0'>1</a>\u001b[0m remote\u001b[39m.\u001b[39mclose()\n",
      "\u001b[0;31mNameError\u001b[0m: name 'remote' is not defined"
     ]
    }
   ],
   "source": [
    "remote.close()"
   ]
  },
  {
   "cell_type": "markdown",
   "metadata": {},
   "source": [
    "# Execute SQL\n",
    "쿼리를 실행하기 위한 코드"
   ]
  },
  {
   "cell_type": "code",
   "execution_count": 1,
   "metadata": {},
   "outputs": [],
   "source": [
    "import mysql.connector"
   ]
  },
  {
   "cell_type": "markdown",
   "metadata": {},
   "source": [
    "#### Execute SQL 예제1\n",
    "- table 생성"
   ]
  },
  {
   "cell_type": "code",
   "execution_count": 4,
   "metadata": {},
   "outputs": [],
   "source": [
    "remote = mysql.connector.connect(\n",
    "    host='192.168.35.159',\n",
    "    port = 3306,\n",
    "    user = 'newrandom',\n",
    "    password = input(),\n",
    "    database = 'zerobase'\n",
    ")\n",
    "\n",
    "cur = remote.cursor()\n",
    "cur.execute('CREATE TABLE sql_file (ID int, filename varchar(16))')\n",
    "\n",
    "remote.close()"
   ]
  },
  {
   "cell_type": "markdown",
   "metadata": {},
   "source": [
    "#### Execute SQL 예제2\n",
    "- 테이블 삭제"
   ]
  },
  {
   "cell_type": "code",
   "execution_count": 5,
   "metadata": {},
   "outputs": [],
   "source": [
    "remote = mysql.connector.connect(\n",
    "    host='192.168.35.159',\n",
    "    port = 3306,\n",
    "    user = 'newrandom',\n",
    "    password = input(),\n",
    "    database = 'zerobase'\n",
    ")\n",
    "\n",
    "cur = remote.cursor()\n",
    "cur.execute('DROP TABLE sql_file')\n",
    "\n",
    "remote.close()"
   ]
  },
  {
   "cell_type": "markdown",
   "metadata": {},
   "source": [
    "#### Execute SQL File 예제 1\n",
    "- test03.sql파일 생성"
   ]
  },
  {
   "cell_type": "markdown",
   "metadata": {},
   "source": [
    "- test03.sql 파일 실행"
   ]
  },
  {
   "cell_type": "code",
   "execution_count": 2,
   "metadata": {},
   "outputs": [],
   "source": [
    "remote = mysql.connector.connect(\n",
    "    host='192.168.35.159',\n",
    "    port = 3306,\n",
    "    user = 'newrandom',\n",
    "    password = input(),\n",
    "    database = 'zerobase'\n",
    ")\n",
    "\n",
    "cur = remote.cursor()\n",
    "sql = open('./test03.sql').read()      # 실행할 sql 파일의 경로\n",
    "cur.execute(sql)\n",
    "\n",
    "remote.close()"
   ]
  },
  {
   "cell_type": "markdown",
   "metadata": {},
   "source": [
    "#### Execute SQL File 예제 2\n",
    "- SQL file 내에 Query가 여러개 존재하는 경우"
   ]
  },
  {
   "cell_type": "markdown",
   "metadata": {},
   "source": [
    "- test04.sql 생성"
   ]
  },
  {
   "cell_type": "markdown",
   "metadata": {},
   "source": [
    "- 실행"
   ]
  },
  {
   "cell_type": "code",
   "execution_count": 11,
   "metadata": {},
   "outputs": [],
   "source": [
    "remote = mysql.connector.connect(\n",
    "    host='192.168.35.159',\n",
    "    port = 3306,\n",
    "    user = 'newrandom',\n",
    "    password = input(),\n",
    "    database = 'zerobase'\n",
    ")\n",
    "\n",
    "cur = remote.cursor()\n",
    "sql = open('./test04.sql').read()\n",
    "# cur.execute(sql)      ## 다중쿼리는 일반적인 execute 로 할 수 없음\n",
    "\n",
    "\n",
    "## 다중 쿼리인 경우에는 multi=True 옵션을 넣어주어야 한다.\n",
    "for result_iterator in cur.execute(sql, multi=True):\n",
    "    if result_iterator.with_rows:               ## boolean 형태, row면 True, row가 아니면 False\n",
    "        print(result_iterator.fetchall())       ## 실행된 결과를 한줄씩 보여줌.\n",
    "    else:\n",
    "        print(result_iterator.statement)        ## statement ?\n",
    "\n",
    "remote.commit()\n",
    "remote.close()"
   ]
  }
 ],
 "metadata": {
  "kernelspec": {
   "display_name": "practice310",
   "language": "python",
   "name": "practice310"
  },
  "language_info": {
   "codemirror_mode": {
    "name": "ipython",
    "version": 3
   },
   "file_extension": ".py",
   "mimetype": "text/x-python",
   "name": "python",
   "nbconvert_exporter": "python",
   "pygments_lexer": "ipython3",
   "version": "3.10.4"
  },
  "orig_nbformat": 4,
  "vscode": {
   "interpreter": {
    "hash": "aee8b7b246df8f9039afb4144a1f6fd8d2ca17a180786b69acc140d282b71a49"
   }
  }
 },
 "nbformat": 4,
 "nbformat_minor": 2
}
