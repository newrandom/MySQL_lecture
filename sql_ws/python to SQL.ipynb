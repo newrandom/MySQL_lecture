{
 "cells": [
  {
   "cell_type": "code",
   "execution_count": 1,
   "metadata": {},
   "outputs": [],
   "source": [
    "import mysql.connector"
   ]
  },
  {
   "cell_type": "markdown",
   "metadata": {},
   "source": [
    "#### 1. Create Connection"
   ]
  },
  {
   "cell_type": "code",
   "execution_count": 3,
   "metadata": {},
   "outputs": [],
   "source": [
    "mydb = mysql.connector.connect(\n",
    "    host='192.168.35.159', \n",
    "    port=3306,\n",
    "    user='newrandom', \n",
    "    password=input()\n",
    "    )"
   ]
  },
  {
   "cell_type": "markdown",
   "metadata": {},
   "source": [
    "#### Create Connection 예제 1\n",
    "- Local Database 연결"
   ]
  },
  {
   "cell_type": "code",
   "execution_count": 5,
   "metadata": {},
   "outputs": [],
   "source": [
    "local = mysql.connector.connect(\n",
    "    host='localhost',\n",
    "    user = 'root',\n",
    "    password=input()\n",
    "\n",
    ")"
   ]
  },
  {
   "cell_type": "markdown",
   "metadata": {},
   "source": [
    "#### Create Connection 예제2\n",
    "- AWS RDS(database -1) 연결"
   ]
  },
  {
   "cell_type": "code",
   "execution_count": 6,
   "metadata": {},
   "outputs": [
    {
     "ename": "InterfaceError",
     "evalue": "2003: Can't connect to MySQL server on '%-.100s:%u' (%s) (Warning: %u format: a real number is required, not str)",
     "output_type": "error",
     "traceback": [
      "\u001b[0;31m---------------------------------------------------------------------------\u001b[0m",
      "\u001b[0;31mgaierror\u001b[0m                                  Traceback (most recent call last)",
      "File \u001b[0;32m~/miniforge3/envs/practice/lib/python3.10/site-packages/mysql/connector/network.py:547\u001b[0m, in \u001b[0;36mMySQLTCPSocket.open_connection\u001b[0;34m(self)\u001b[0m\n\u001b[1;32m    546\u001b[0m \u001b[39mtry\u001b[39;00m:\n\u001b[0;32m--> 547\u001b[0m     addrinfos \u001b[39m=\u001b[39m socket\u001b[39m.\u001b[39;49mgetaddrinfo(\u001b[39mself\u001b[39;49m\u001b[39m.\u001b[39;49mserver_host,\n\u001b[1;32m    548\u001b[0m                                    \u001b[39mself\u001b[39;49m\u001b[39m.\u001b[39;49mserver_port,\n\u001b[1;32m    549\u001b[0m                                    \u001b[39m0\u001b[39;49m, socket\u001b[39m.\u001b[39;49mSOCK_STREAM,\n\u001b[1;32m    550\u001b[0m                                    socket\u001b[39m.\u001b[39;49mSOL_TCP)\n\u001b[1;32m    551\u001b[0m     \u001b[39m# If multiple results we favor IPv4, unless IPv6 was forced.\u001b[39;00m\n",
      "File \u001b[0;32m~/miniforge3/envs/practice/lib/python3.10/socket.py:955\u001b[0m, in \u001b[0;36mgetaddrinfo\u001b[0;34m(host, port, family, type, proto, flags)\u001b[0m\n\u001b[1;32m    954\u001b[0m addrlist \u001b[39m=\u001b[39m []\n\u001b[0;32m--> 955\u001b[0m \u001b[39mfor\u001b[39;00m res \u001b[39min\u001b[39;00m _socket\u001b[39m.\u001b[39;49mgetaddrinfo(host, port, family, \u001b[39mtype\u001b[39;49m, proto, flags):\n\u001b[1;32m    956\u001b[0m     af, socktype, proto, canonname, sa \u001b[39m=\u001b[39m res\n",
      "\u001b[0;31mgaierror\u001b[0m: [Errno 8] nodename nor servname provided, or not known",
      "\nDuring handling of the above exception, another exception occurred:\n",
      "\u001b[0;31mInterfaceError\u001b[0m                            Traceback (most recent call last)",
      "\u001b[1;32m/Users/newrandom/Documents/GitHub/MySQL/sql_ws/python.ipynb 셀 7\u001b[0m in \u001b[0;36m<cell line: 1>\u001b[0;34m()\u001b[0m\n\u001b[0;32m----> <a href='vscode-notebook-cell:/Users/newrandom/Documents/GitHub/MySQL/sql_ws/python.ipynb#ch0000009?line=0'>1</a>\u001b[0m remote \u001b[39m=\u001b[39m mysql\u001b[39m.\u001b[39;49mconnector\u001b[39m.\u001b[39;49mconnect(\n\u001b[1;32m      <a href='vscode-notebook-cell:/Users/newrandom/Documents/GitHub/MySQL/sql_ws/python.ipynb#ch0000009?line=1'>2</a>\u001b[0m     host \u001b[39m=\u001b[39;49m \u001b[39m'\u001b[39;49m\u001b[39mEND POINT\u001b[39;49m\u001b[39m'\u001b[39;49m,\n\u001b[1;32m      <a href='vscode-notebook-cell:/Users/newrandom/Documents/GitHub/MySQL/sql_ws/python.ipynb#ch0000009?line=2'>3</a>\u001b[0m     port \u001b[39m=\u001b[39;49m \u001b[39m3306\u001b[39;49m,\n\u001b[1;32m      <a href='vscode-notebook-cell:/Users/newrandom/Documents/GitHub/MySQL/sql_ws/python.ipynb#ch0000009?line=3'>4</a>\u001b[0m     user \u001b[39m=\u001b[39;49m \u001b[39m'\u001b[39;49m\u001b[39mroot\u001b[39;49m\u001b[39m'\u001b[39;49m,\n\u001b[1;32m      <a href='vscode-notebook-cell:/Users/newrandom/Documents/GitHub/MySQL/sql_ws/python.ipynb#ch0000009?line=4'>5</a>\u001b[0m     password \u001b[39m=\u001b[39;49m \u001b[39m'\u001b[39;49m\u001b[39mpassword\u001b[39;49m\u001b[39m'\u001b[39;49m       \u001b[39m# AWS 접속 시 해당 문구들 변경할 것.\u001b[39;49;00m\n\u001b[1;32m      <a href='vscode-notebook-cell:/Users/newrandom/Documents/GitHub/MySQL/sql_ws/python.ipynb#ch0000009?line=5'>6</a>\u001b[0m )\n",
      "File \u001b[0;32m~/miniforge3/envs/practice/lib/python3.10/site-packages/mysql/connector/__init__.py:273\u001b[0m, in \u001b[0;36mconnect\u001b[0;34m(*args, **kwargs)\u001b[0m\n\u001b[1;32m    271\u001b[0m \u001b[39mif\u001b[39;00m HAVE_CEXT \u001b[39mand\u001b[39;00m \u001b[39mnot\u001b[39;00m use_pure:\n\u001b[1;32m    272\u001b[0m     \u001b[39mreturn\u001b[39;00m CMySQLConnection(\u001b[39m*\u001b[39margs, \u001b[39m*\u001b[39m\u001b[39m*\u001b[39mkwargs)\n\u001b[0;32m--> 273\u001b[0m \u001b[39mreturn\u001b[39;00m MySQLConnection(\u001b[39m*\u001b[39;49margs, \u001b[39m*\u001b[39;49m\u001b[39m*\u001b[39;49mkwargs)\n",
      "File \u001b[0;32m~/miniforge3/envs/practice/lib/python3.10/site-packages/mysql/connector/connection.py:116\u001b[0m, in \u001b[0;36mMySQLConnection.__init__\u001b[0;34m(self, *args, **kwargs)\u001b[0m\n\u001b[1;32m    114\u001b[0m \u001b[39mif\u001b[39;00m kwargs:\n\u001b[1;32m    115\u001b[0m     \u001b[39mtry\u001b[39;00m:\n\u001b[0;32m--> 116\u001b[0m         \u001b[39mself\u001b[39;49m\u001b[39m.\u001b[39;49mconnect(\u001b[39m*\u001b[39;49m\u001b[39m*\u001b[39;49mkwargs)\n\u001b[1;32m    117\u001b[0m     \u001b[39mexcept\u001b[39;00m:\n\u001b[1;32m    118\u001b[0m         \u001b[39m# Tidy-up underlying socket on failure\u001b[39;00m\n\u001b[1;32m    119\u001b[0m         \u001b[39mself\u001b[39m\u001b[39m.\u001b[39mclose()\n",
      "File \u001b[0;32m~/miniforge3/envs/practice/lib/python3.10/site-packages/mysql/connector/abstracts.py:1052\u001b[0m, in \u001b[0;36mMySQLConnectionAbstract.connect\u001b[0;34m(self, **kwargs)\u001b[0m\n\u001b[1;32m   1049\u001b[0m     \u001b[39mself\u001b[39m\u001b[39m.\u001b[39mconfig(\u001b[39m*\u001b[39m\u001b[39m*\u001b[39mkwargs)\n\u001b[1;32m   1051\u001b[0m \u001b[39mself\u001b[39m\u001b[39m.\u001b[39mdisconnect()\n\u001b[0;32m-> 1052\u001b[0m \u001b[39mself\u001b[39;49m\u001b[39m.\u001b[39;49m_open_connection()\n\u001b[1;32m   1053\u001b[0m \u001b[39m# Server does not allow to run any other statement different from ALTER\u001b[39;00m\n\u001b[1;32m   1054\u001b[0m \u001b[39m# when user's password has been expired.\u001b[39;00m\n\u001b[1;32m   1055\u001b[0m \u001b[39mif\u001b[39;00m \u001b[39mnot\u001b[39;00m \u001b[39mself\u001b[39m\u001b[39m.\u001b[39m_client_flags \u001b[39m&\u001b[39m ClientFlag\u001b[39m.\u001b[39mCAN_HANDLE_EXPIRED_PASSWORDS:\n",
      "File \u001b[0;32m~/miniforge3/envs/practice/lib/python3.10/site-packages/mysql/connector/connection.py:494\u001b[0m, in \u001b[0;36mMySQLConnection._open_connection\u001b[0;34m(self)\u001b[0m\n\u001b[1;32m    492\u001b[0m \u001b[39mself\u001b[39m\u001b[39m.\u001b[39m_socket \u001b[39m=\u001b[39m \u001b[39mself\u001b[39m\u001b[39m.\u001b[39m_get_connection()\n\u001b[1;32m    493\u001b[0m \u001b[39mtry\u001b[39;00m:\n\u001b[0;32m--> 494\u001b[0m     \u001b[39mself\u001b[39;49m\u001b[39m.\u001b[39;49m_socket\u001b[39m.\u001b[39;49mopen_connection()\n\u001b[1;32m    495\u001b[0m     \u001b[39mself\u001b[39m\u001b[39m.\u001b[39m_do_handshake()\n\u001b[1;32m    496\u001b[0m     \u001b[39mself\u001b[39m\u001b[39m.\u001b[39m_do_auth(\u001b[39mself\u001b[39m\u001b[39m.\u001b[39m_user, \u001b[39mself\u001b[39m\u001b[39m.\u001b[39m_password,\n\u001b[1;32m    497\u001b[0m                   \u001b[39mself\u001b[39m\u001b[39m.\u001b[39m_database, \u001b[39mself\u001b[39m\u001b[39m.\u001b[39m_client_flags, \u001b[39mself\u001b[39m\u001b[39m.\u001b[39m_charset_id,\n\u001b[1;32m    498\u001b[0m                   \u001b[39mself\u001b[39m\u001b[39m.\u001b[39m_ssl, \u001b[39mself\u001b[39m\u001b[39m.\u001b[39m_conn_attrs)\n",
      "File \u001b[0;32m~/miniforge3/envs/practice/lib/python3.10/site-packages/mysql/connector/network.py:565\u001b[0m, in \u001b[0;36mMySQLTCPSocket.open_connection\u001b[0;34m(self)\u001b[0m\n\u001b[1;32m    563\u001b[0m         addrinfo \u001b[39m=\u001b[39m addrinfos[\u001b[39m0\u001b[39m]\n\u001b[1;32m    564\u001b[0m \u001b[39mexcept\u001b[39;00m \u001b[39mIOError\u001b[39;00m \u001b[39mas\u001b[39;00m err:\n\u001b[0;32m--> 565\u001b[0m     \u001b[39mraise\u001b[39;00m errors\u001b[39m.\u001b[39mInterfaceError(\n\u001b[1;32m    566\u001b[0m         errno\u001b[39m=\u001b[39m\u001b[39m2003\u001b[39m, values\u001b[39m=\u001b[39m(\u001b[39mself\u001b[39m\u001b[39m.\u001b[39mget_address(), _strioerror(err)))\n\u001b[1;32m    567\u001b[0m \u001b[39melse\u001b[39;00m:\n\u001b[1;32m    568\u001b[0m     (\u001b[39mself\u001b[39m\u001b[39m.\u001b[39m_family, socktype, proto, _, sockaddr) \u001b[39m=\u001b[39m addrinfo\n",
      "\u001b[0;31mInterfaceError\u001b[0m: 2003: Can't connect to MySQL server on '%-.100s:%u' (%s) (Warning: %u format: a real number is required, not str)"
     ]
    }
   ],
   "source": [
    "remote = mysql.connector.connect(\n",
    "    host = 'END POINT',\n",
    "    port = 3306,\n",
    "    user = 'root',\n",
    "    password = 'password'       # AWS 접속 시 해당 문구들 변경할 것.\n",
    ")"
   ]
  },
  {
   "cell_type": "markdown",
   "metadata": {},
   "source": [
    "#### Close Database\n"
   ]
  },
  {
   "cell_type": "code",
   "execution_count": 7,
   "metadata": {},
   "outputs": [],
   "source": [
    "local.close()"
   ]
  },
  {
   "cell_type": "code",
   "execution_count": 9,
   "metadata": {},
   "outputs": [],
   "source": [
    "mydb.close()"
   ]
  },
  {
   "cell_type": "markdown",
   "metadata": {},
   "source": [
    "#### Create Connection 예제 1\n",
    "- Local MySQL 의 zerobase 에 연결"
   ]
  },
  {
   "cell_type": "code",
   "execution_count": 10,
   "metadata": {},
   "outputs": [
    {
     "ename": "ProgrammingError",
     "evalue": "1049 (42000): Unknown database 'zerobase'",
     "output_type": "error",
     "traceback": [
      "\u001b[0;31m---------------------------------------------------------------------------\u001b[0m",
      "\u001b[0;31mProgrammingError\u001b[0m                          Traceback (most recent call last)",
      "\u001b[1;32m/Users/newrandom/Documents/GitHub/MySQL/sql_ws/python.ipynb 셀 12\u001b[0m in \u001b[0;36m<cell line: 1>\u001b[0;34m()\u001b[0m\n\u001b[0;32m----> <a href='vscode-notebook-cell:/Users/newrandom/Documents/GitHub/MySQL/sql_ws/python.ipynb#ch0000016?line=0'>1</a>\u001b[0m local \u001b[39m=\u001b[39m mysql\u001b[39m.\u001b[39;49mconnector\u001b[39m.\u001b[39;49mconnect(\n\u001b[1;32m      <a href='vscode-notebook-cell:/Users/newrandom/Documents/GitHub/MySQL/sql_ws/python.ipynb#ch0000016?line=1'>2</a>\u001b[0m     host \u001b[39m=\u001b[39;49m \u001b[39m'\u001b[39;49m\u001b[39mlocalhost\u001b[39;49m\u001b[39m'\u001b[39;49m,\n\u001b[1;32m      <a href='vscode-notebook-cell:/Users/newrandom/Documents/GitHub/MySQL/sql_ws/python.ipynb#ch0000016?line=2'>3</a>\u001b[0m     user \u001b[39m=\u001b[39;49m \u001b[39m'\u001b[39;49m\u001b[39mroot\u001b[39;49m\u001b[39m'\u001b[39;49m,\n\u001b[1;32m      <a href='vscode-notebook-cell:/Users/newrandom/Documents/GitHub/MySQL/sql_ws/python.ipynb#ch0000016?line=3'>4</a>\u001b[0m     password \u001b[39m=\u001b[39;49m \u001b[39minput\u001b[39;49m(),\n\u001b[1;32m      <a href='vscode-notebook-cell:/Users/newrandom/Documents/GitHub/MySQL/sql_ws/python.ipynb#ch0000016?line=4'>5</a>\u001b[0m     database \u001b[39m=\u001b[39;49m \u001b[39m'\u001b[39;49m\u001b[39mzerobase\u001b[39;49m\u001b[39m'\u001b[39;49m\n\u001b[1;32m      <a href='vscode-notebook-cell:/Users/newrandom/Documents/GitHub/MySQL/sql_ws/python.ipynb#ch0000016?line=5'>6</a>\u001b[0m )\n",
      "File \u001b[0;32m~/miniforge3/envs/practice/lib/python3.10/site-packages/mysql/connector/__init__.py:273\u001b[0m, in \u001b[0;36mconnect\u001b[0;34m(*args, **kwargs)\u001b[0m\n\u001b[1;32m    271\u001b[0m \u001b[39mif\u001b[39;00m HAVE_CEXT \u001b[39mand\u001b[39;00m \u001b[39mnot\u001b[39;00m use_pure:\n\u001b[1;32m    272\u001b[0m     \u001b[39mreturn\u001b[39;00m CMySQLConnection(\u001b[39m*\u001b[39margs, \u001b[39m*\u001b[39m\u001b[39m*\u001b[39mkwargs)\n\u001b[0;32m--> 273\u001b[0m \u001b[39mreturn\u001b[39;00m MySQLConnection(\u001b[39m*\u001b[39;49margs, \u001b[39m*\u001b[39;49m\u001b[39m*\u001b[39;49mkwargs)\n",
      "File \u001b[0;32m~/miniforge3/envs/practice/lib/python3.10/site-packages/mysql/connector/connection.py:116\u001b[0m, in \u001b[0;36mMySQLConnection.__init__\u001b[0;34m(self, *args, **kwargs)\u001b[0m\n\u001b[1;32m    114\u001b[0m \u001b[39mif\u001b[39;00m kwargs:\n\u001b[1;32m    115\u001b[0m     \u001b[39mtry\u001b[39;00m:\n\u001b[0;32m--> 116\u001b[0m         \u001b[39mself\u001b[39;49m\u001b[39m.\u001b[39;49mconnect(\u001b[39m*\u001b[39;49m\u001b[39m*\u001b[39;49mkwargs)\n\u001b[1;32m    117\u001b[0m     \u001b[39mexcept\u001b[39;00m:\n\u001b[1;32m    118\u001b[0m         \u001b[39m# Tidy-up underlying socket on failure\u001b[39;00m\n\u001b[1;32m    119\u001b[0m         \u001b[39mself\u001b[39m\u001b[39m.\u001b[39mclose()\n",
      "File \u001b[0;32m~/miniforge3/envs/practice/lib/python3.10/site-packages/mysql/connector/abstracts.py:1052\u001b[0m, in \u001b[0;36mMySQLConnectionAbstract.connect\u001b[0;34m(self, **kwargs)\u001b[0m\n\u001b[1;32m   1049\u001b[0m     \u001b[39mself\u001b[39m\u001b[39m.\u001b[39mconfig(\u001b[39m*\u001b[39m\u001b[39m*\u001b[39mkwargs)\n\u001b[1;32m   1051\u001b[0m \u001b[39mself\u001b[39m\u001b[39m.\u001b[39mdisconnect()\n\u001b[0;32m-> 1052\u001b[0m \u001b[39mself\u001b[39;49m\u001b[39m.\u001b[39;49m_open_connection()\n\u001b[1;32m   1053\u001b[0m \u001b[39m# Server does not allow to run any other statement different from ALTER\u001b[39;00m\n\u001b[1;32m   1054\u001b[0m \u001b[39m# when user's password has been expired.\u001b[39;00m\n\u001b[1;32m   1055\u001b[0m \u001b[39mif\u001b[39;00m \u001b[39mnot\u001b[39;00m \u001b[39mself\u001b[39m\u001b[39m.\u001b[39m_client_flags \u001b[39m&\u001b[39m ClientFlag\u001b[39m.\u001b[39mCAN_HANDLE_EXPIRED_PASSWORDS:\n",
      "File \u001b[0;32m~/miniforge3/envs/practice/lib/python3.10/site-packages/mysql/connector/connection.py:496\u001b[0m, in \u001b[0;36mMySQLConnection._open_connection\u001b[0;34m(self)\u001b[0m\n\u001b[1;32m    494\u001b[0m \u001b[39mself\u001b[39m\u001b[39m.\u001b[39m_socket\u001b[39m.\u001b[39mopen_connection()\n\u001b[1;32m    495\u001b[0m \u001b[39mself\u001b[39m\u001b[39m.\u001b[39m_do_handshake()\n\u001b[0;32m--> 496\u001b[0m \u001b[39mself\u001b[39;49m\u001b[39m.\u001b[39;49m_do_auth(\u001b[39mself\u001b[39;49m\u001b[39m.\u001b[39;49m_user, \u001b[39mself\u001b[39;49m\u001b[39m.\u001b[39;49m_password,\n\u001b[1;32m    497\u001b[0m               \u001b[39mself\u001b[39;49m\u001b[39m.\u001b[39;49m_database, \u001b[39mself\u001b[39;49m\u001b[39m.\u001b[39;49m_client_flags, \u001b[39mself\u001b[39;49m\u001b[39m.\u001b[39;49m_charset_id,\n\u001b[1;32m    498\u001b[0m               \u001b[39mself\u001b[39;49m\u001b[39m.\u001b[39;49m_ssl, \u001b[39mself\u001b[39;49m\u001b[39m.\u001b[39;49m_conn_attrs)\n\u001b[1;32m    499\u001b[0m \u001b[39mself\u001b[39m\u001b[39m.\u001b[39mset_converter_class(\u001b[39mself\u001b[39m\u001b[39m.\u001b[39m_converter_class)\n\u001b[1;32m    500\u001b[0m \u001b[39mif\u001b[39;00m \u001b[39mself\u001b[39m\u001b[39m.\u001b[39m_client_flags \u001b[39m&\u001b[39m ClientFlag\u001b[39m.\u001b[39mCOMPRESS:\n",
      "File \u001b[0;32m~/miniforge3/envs/practice/lib/python3.10/site-packages/mysql/connector/connection.py:242\u001b[0m, in \u001b[0;36mMySQLConnection._do_auth\u001b[0;34m(self, username, password, database, client_flags, charset, ssl_options, conn_attrs)\u001b[0m\n\u001b[1;32m    234\u001b[0m packet \u001b[39m=\u001b[39m \u001b[39mself\u001b[39m\u001b[39m.\u001b[39m_protocol\u001b[39m.\u001b[39mmake_auth(\n\u001b[1;32m    235\u001b[0m     handshake\u001b[39m=\u001b[39m\u001b[39mself\u001b[39m\u001b[39m.\u001b[39m_handshake,\n\u001b[1;32m    236\u001b[0m     username\u001b[39m=\u001b[39musername, password\u001b[39m=\u001b[39mpassword, database\u001b[39m=\u001b[39mdatabase,\n\u001b[0;32m   (...)\u001b[0m\n\u001b[1;32m    239\u001b[0m     auth_plugin\u001b[39m=\u001b[39m\u001b[39mself\u001b[39m\u001b[39m.\u001b[39m_auth_plugin,\n\u001b[1;32m    240\u001b[0m     conn_attrs\u001b[39m=\u001b[39mconn_attrs)\n\u001b[1;32m    241\u001b[0m \u001b[39mself\u001b[39m\u001b[39m.\u001b[39m_socket\u001b[39m.\u001b[39msend(packet)\n\u001b[0;32m--> 242\u001b[0m \u001b[39mself\u001b[39;49m\u001b[39m.\u001b[39;49m_auth_switch_request(username, password)\n\u001b[1;32m    244\u001b[0m \u001b[39mif\u001b[39;00m \u001b[39mnot\u001b[39;00m (client_flags \u001b[39m&\u001b[39m ClientFlag\u001b[39m.\u001b[39mCONNECT_WITH_DB) \u001b[39mand\u001b[39;00m database:\n\u001b[1;32m    245\u001b[0m     \u001b[39mself\u001b[39m\u001b[39m.\u001b[39mcmd_init_db(database)\n",
      "File \u001b[0;32m~/miniforge3/envs/practice/lib/python3.10/site-packages/mysql/connector/connection.py:288\u001b[0m, in \u001b[0;36mMySQLConnection._auth_switch_request\u001b[0;34m(self, username, password)\u001b[0m\n\u001b[1;32m    286\u001b[0m     \u001b[39mreturn\u001b[39;00m \u001b[39mself\u001b[39m\u001b[39m.\u001b[39m_handle_mfa(packet)\n\u001b[1;32m    287\u001b[0m \u001b[39melif\u001b[39;00m packet[\u001b[39m4\u001b[39m] \u001b[39m==\u001b[39m \u001b[39m255\u001b[39m:\n\u001b[0;32m--> 288\u001b[0m     \u001b[39mraise\u001b[39;00m errors\u001b[39m.\u001b[39mget_exception(packet)\n\u001b[1;32m    289\u001b[0m \u001b[39mreturn\u001b[39;00m \u001b[39mNone\u001b[39;00m\n",
      "\u001b[0;31mProgrammingError\u001b[0m: 1049 (42000): Unknown database 'zerobase'"
     ]
    }
   ],
   "source": [
    "local = mysql.connector.connect(\n",
    "    host = 'localhost',\n",
    "    user = 'root',\n",
    "    password = input(),\n",
    "    database = 'zerobase'       # zerobase database가 있을 때 가능\n",
    ")"
   ]
  },
  {
   "cell_type": "code",
   "execution_count": 11,
   "metadata": {},
   "outputs": [],
   "source": [
    "local.close()"
   ]
  },
  {
   "cell_type": "markdown",
   "metadata": {},
   "source": [
    "- AWS RDS(database-1)의 zerobase 에 연결"
   ]
  },
  {
   "cell_type": "code",
   "execution_count": 12,
   "metadata": {},
   "outputs": [
    {
     "ename": "InterfaceError",
     "evalue": "2003: Can't connect to MySQL server on '%-.100s:%u' (%s) (Warning: %u format: a real number is required, not str)",
     "output_type": "error",
     "traceback": [
      "\u001b[0;31m---------------------------------------------------------------------------\u001b[0m",
      "\u001b[0;31mgaierror\u001b[0m                                  Traceback (most recent call last)",
      "File \u001b[0;32m~/miniforge3/envs/practice/lib/python3.10/site-packages/mysql/connector/network.py:547\u001b[0m, in \u001b[0;36mMySQLTCPSocket.open_connection\u001b[0;34m(self)\u001b[0m\n\u001b[1;32m    546\u001b[0m \u001b[39mtry\u001b[39;00m:\n\u001b[0;32m--> 547\u001b[0m     addrinfos \u001b[39m=\u001b[39m socket\u001b[39m.\u001b[39;49mgetaddrinfo(\u001b[39mself\u001b[39;49m\u001b[39m.\u001b[39;49mserver_host,\n\u001b[1;32m    548\u001b[0m                                    \u001b[39mself\u001b[39;49m\u001b[39m.\u001b[39;49mserver_port,\n\u001b[1;32m    549\u001b[0m                                    \u001b[39m0\u001b[39;49m, socket\u001b[39m.\u001b[39;49mSOCK_STREAM,\n\u001b[1;32m    550\u001b[0m                                    socket\u001b[39m.\u001b[39;49mSOL_TCP)\n\u001b[1;32m    551\u001b[0m     \u001b[39m# If multiple results we favor IPv4, unless IPv6 was forced.\u001b[39;00m\n",
      "File \u001b[0;32m~/miniforge3/envs/practice/lib/python3.10/socket.py:955\u001b[0m, in \u001b[0;36mgetaddrinfo\u001b[0;34m(host, port, family, type, proto, flags)\u001b[0m\n\u001b[1;32m    954\u001b[0m addrlist \u001b[39m=\u001b[39m []\n\u001b[0;32m--> 955\u001b[0m \u001b[39mfor\u001b[39;00m res \u001b[39min\u001b[39;00m _socket\u001b[39m.\u001b[39;49mgetaddrinfo(host, port, family, \u001b[39mtype\u001b[39;49m, proto, flags):\n\u001b[1;32m    956\u001b[0m     af, socktype, proto, canonname, sa \u001b[39m=\u001b[39m res\n",
      "\u001b[0;31mgaierror\u001b[0m: [Errno 8] nodename nor servname provided, or not known",
      "\nDuring handling of the above exception, another exception occurred:\n",
      "\u001b[0;31mInterfaceError\u001b[0m                            Traceback (most recent call last)",
      "\u001b[1;32m/Users/newrandom/Documents/GitHub/MySQL/sql_ws/python.ipynb 셀 15\u001b[0m in \u001b[0;36m<cell line: 1>\u001b[0;34m()\u001b[0m\n\u001b[0;32m----> <a href='vscode-notebook-cell:/Users/newrandom/Documents/GitHub/MySQL/sql_ws/python.ipynb#ch0000020?line=0'>1</a>\u001b[0m remote \u001b[39m=\u001b[39m mysql\u001b[39m.\u001b[39;49mconnector\u001b[39m.\u001b[39;49mconnect(\n\u001b[1;32m      <a href='vscode-notebook-cell:/Users/newrandom/Documents/GitHub/MySQL/sql_ws/python.ipynb#ch0000020?line=1'>2</a>\u001b[0m     host \u001b[39m=\u001b[39;49m \u001b[39m'\u001b[39;49m\u001b[39mENDPOINT\u001b[39;49m\u001b[39m'\u001b[39;49m,\n\u001b[1;32m      <a href='vscode-notebook-cell:/Users/newrandom/Documents/GitHub/MySQL/sql_ws/python.ipynb#ch0000020?line=2'>3</a>\u001b[0m     port\u001b[39m=\u001b[39;49m  \u001b[39m3306\u001b[39;49m,\n\u001b[1;32m      <a href='vscode-notebook-cell:/Users/newrandom/Documents/GitHub/MySQL/sql_ws/python.ipynb#ch0000020?line=3'>4</a>\u001b[0m     user \u001b[39m=\u001b[39;49m \u001b[39m'\u001b[39;49m\u001b[39madmin\u001b[39;49m\u001b[39m'\u001b[39;49m, \n\u001b[1;32m      <a href='vscode-notebook-cell:/Users/newrandom/Documents/GitHub/MySQL/sql_ws/python.ipynb#ch0000020?line=4'>5</a>\u001b[0m     password \u001b[39m=\u001b[39;49m \u001b[39m'\u001b[39;49m\u001b[39mzerobase\u001b[39;49m\u001b[39m'\u001b[39;49m,\n\u001b[1;32m      <a href='vscode-notebook-cell:/Users/newrandom/Documents/GitHub/MySQL/sql_ws/python.ipynb#ch0000020?line=5'>6</a>\u001b[0m     database \u001b[39m=\u001b[39;49m \u001b[39m'\u001b[39;49m\u001b[39mzerobase\u001b[39;49m\u001b[39m'\u001b[39;49m\n\u001b[1;32m      <a href='vscode-notebook-cell:/Users/newrandom/Documents/GitHub/MySQL/sql_ws/python.ipynb#ch0000020?line=6'>7</a>\u001b[0m )\n",
      "File \u001b[0;32m~/miniforge3/envs/practice/lib/python3.10/site-packages/mysql/connector/__init__.py:273\u001b[0m, in \u001b[0;36mconnect\u001b[0;34m(*args, **kwargs)\u001b[0m\n\u001b[1;32m    271\u001b[0m \u001b[39mif\u001b[39;00m HAVE_CEXT \u001b[39mand\u001b[39;00m \u001b[39mnot\u001b[39;00m use_pure:\n\u001b[1;32m    272\u001b[0m     \u001b[39mreturn\u001b[39;00m CMySQLConnection(\u001b[39m*\u001b[39margs, \u001b[39m*\u001b[39m\u001b[39m*\u001b[39mkwargs)\n\u001b[0;32m--> 273\u001b[0m \u001b[39mreturn\u001b[39;00m MySQLConnection(\u001b[39m*\u001b[39;49margs, \u001b[39m*\u001b[39;49m\u001b[39m*\u001b[39;49mkwargs)\n",
      "File \u001b[0;32m~/miniforge3/envs/practice/lib/python3.10/site-packages/mysql/connector/connection.py:116\u001b[0m, in \u001b[0;36mMySQLConnection.__init__\u001b[0;34m(self, *args, **kwargs)\u001b[0m\n\u001b[1;32m    114\u001b[0m \u001b[39mif\u001b[39;00m kwargs:\n\u001b[1;32m    115\u001b[0m     \u001b[39mtry\u001b[39;00m:\n\u001b[0;32m--> 116\u001b[0m         \u001b[39mself\u001b[39;49m\u001b[39m.\u001b[39;49mconnect(\u001b[39m*\u001b[39;49m\u001b[39m*\u001b[39;49mkwargs)\n\u001b[1;32m    117\u001b[0m     \u001b[39mexcept\u001b[39;00m:\n\u001b[1;32m    118\u001b[0m         \u001b[39m# Tidy-up underlying socket on failure\u001b[39;00m\n\u001b[1;32m    119\u001b[0m         \u001b[39mself\u001b[39m\u001b[39m.\u001b[39mclose()\n",
      "File \u001b[0;32m~/miniforge3/envs/practice/lib/python3.10/site-packages/mysql/connector/abstracts.py:1052\u001b[0m, in \u001b[0;36mMySQLConnectionAbstract.connect\u001b[0;34m(self, **kwargs)\u001b[0m\n\u001b[1;32m   1049\u001b[0m     \u001b[39mself\u001b[39m\u001b[39m.\u001b[39mconfig(\u001b[39m*\u001b[39m\u001b[39m*\u001b[39mkwargs)\n\u001b[1;32m   1051\u001b[0m \u001b[39mself\u001b[39m\u001b[39m.\u001b[39mdisconnect()\n\u001b[0;32m-> 1052\u001b[0m \u001b[39mself\u001b[39;49m\u001b[39m.\u001b[39;49m_open_connection()\n\u001b[1;32m   1053\u001b[0m \u001b[39m# Server does not allow to run any other statement different from ALTER\u001b[39;00m\n\u001b[1;32m   1054\u001b[0m \u001b[39m# when user's password has been expired.\u001b[39;00m\n\u001b[1;32m   1055\u001b[0m \u001b[39mif\u001b[39;00m \u001b[39mnot\u001b[39;00m \u001b[39mself\u001b[39m\u001b[39m.\u001b[39m_client_flags \u001b[39m&\u001b[39m ClientFlag\u001b[39m.\u001b[39mCAN_HANDLE_EXPIRED_PASSWORDS:\n",
      "File \u001b[0;32m~/miniforge3/envs/practice/lib/python3.10/site-packages/mysql/connector/connection.py:494\u001b[0m, in \u001b[0;36mMySQLConnection._open_connection\u001b[0;34m(self)\u001b[0m\n\u001b[1;32m    492\u001b[0m \u001b[39mself\u001b[39m\u001b[39m.\u001b[39m_socket \u001b[39m=\u001b[39m \u001b[39mself\u001b[39m\u001b[39m.\u001b[39m_get_connection()\n\u001b[1;32m    493\u001b[0m \u001b[39mtry\u001b[39;00m:\n\u001b[0;32m--> 494\u001b[0m     \u001b[39mself\u001b[39;49m\u001b[39m.\u001b[39;49m_socket\u001b[39m.\u001b[39;49mopen_connection()\n\u001b[1;32m    495\u001b[0m     \u001b[39mself\u001b[39m\u001b[39m.\u001b[39m_do_handshake()\n\u001b[1;32m    496\u001b[0m     \u001b[39mself\u001b[39m\u001b[39m.\u001b[39m_do_auth(\u001b[39mself\u001b[39m\u001b[39m.\u001b[39m_user, \u001b[39mself\u001b[39m\u001b[39m.\u001b[39m_password,\n\u001b[1;32m    497\u001b[0m                   \u001b[39mself\u001b[39m\u001b[39m.\u001b[39m_database, \u001b[39mself\u001b[39m\u001b[39m.\u001b[39m_client_flags, \u001b[39mself\u001b[39m\u001b[39m.\u001b[39m_charset_id,\n\u001b[1;32m    498\u001b[0m                   \u001b[39mself\u001b[39m\u001b[39m.\u001b[39m_ssl, \u001b[39mself\u001b[39m\u001b[39m.\u001b[39m_conn_attrs)\n",
      "File \u001b[0;32m~/miniforge3/envs/practice/lib/python3.10/site-packages/mysql/connector/network.py:565\u001b[0m, in \u001b[0;36mMySQLTCPSocket.open_connection\u001b[0;34m(self)\u001b[0m\n\u001b[1;32m    563\u001b[0m         addrinfo \u001b[39m=\u001b[39m addrinfos[\u001b[39m0\u001b[39m]\n\u001b[1;32m    564\u001b[0m \u001b[39mexcept\u001b[39;00m \u001b[39mIOError\u001b[39;00m \u001b[39mas\u001b[39;00m err:\n\u001b[0;32m--> 565\u001b[0m     \u001b[39mraise\u001b[39;00m errors\u001b[39m.\u001b[39mInterfaceError(\n\u001b[1;32m    566\u001b[0m         errno\u001b[39m=\u001b[39m\u001b[39m2003\u001b[39m, values\u001b[39m=\u001b[39m(\u001b[39mself\u001b[39m\u001b[39m.\u001b[39mget_address(), _strioerror(err)))\n\u001b[1;32m    567\u001b[0m \u001b[39melse\u001b[39;00m:\n\u001b[1;32m    568\u001b[0m     (\u001b[39mself\u001b[39m\u001b[39m.\u001b[39m_family, socktype, proto, _, sockaddr) \u001b[39m=\u001b[39m addrinfo\n",
      "\u001b[0;31mInterfaceError\u001b[0m: 2003: Can't connect to MySQL server on '%-.100s:%u' (%s) (Warning: %u format: a real number is required, not str)"
     ]
    }
   ],
   "source": [
    "remote = mysql.connector.connect(\n",
    "    host = 'ENDPOINT',\n",
    "    port=  3306,\n",
    "    user = 'admin', \n",
    "    password = 'zerobase',\n",
    "    database = 'zerobase'\n",
    ")"
   ]
  },
  {
   "cell_type": "code",
   "execution_count": 13,
   "metadata": {},
   "outputs": [
    {
     "ename": "NameError",
     "evalue": "name 'remote' is not defined",
     "output_type": "error",
     "traceback": [
      "\u001b[0;31m---------------------------------------------------------------------------\u001b[0m",
      "\u001b[0;31mNameError\u001b[0m                                 Traceback (most recent call last)",
      "\u001b[1;32m/Users/newrandom/Documents/GitHub/MySQL/sql_ws/python.ipynb 셀 16\u001b[0m in \u001b[0;36m<cell line: 1>\u001b[0;34m()\u001b[0m\n\u001b[0;32m----> <a href='vscode-notebook-cell:/Users/newrandom/Documents/GitHub/MySQL/sql_ws/python.ipynb#ch0000021?line=0'>1</a>\u001b[0m remote\u001b[39m.\u001b[39mclose()\n",
      "\u001b[0;31mNameError\u001b[0m: name 'remote' is not defined"
     ]
    }
   ],
   "source": [
    "remote.close()"
   ]
  },
  {
   "cell_type": "markdown",
   "metadata": {},
   "source": [
    "# Execute SQL\n",
    "쿼리를 실행하기 위한 코드"
   ]
  },
  {
   "cell_type": "code",
   "execution_count": 1,
   "metadata": {},
   "outputs": [],
   "source": [
    "import mysql.connector"
   ]
  },
  {
   "cell_type": "markdown",
   "metadata": {},
   "source": [
    "#### Execute SQL 예제1\n",
    "- table 생성"
   ]
  },
  {
   "cell_type": "code",
   "execution_count": 4,
   "metadata": {},
   "outputs": [],
   "source": [
    "remote = mysql.connector.connect(\n",
    "    host='192.168.35.159',\n",
    "    port = 3306,\n",
    "    user = 'newrandom',\n",
    "    password = input(),\n",
    "    database = 'zerobase'\n",
    ")\n",
    "\n",
    "cur = remote.cursor()\n",
    "cur.execute('CREATE TABLE sql_file (ID int, filename varchar(16))')\n",
    "\n",
    "remote.close()"
   ]
  },
  {
   "cell_type": "markdown",
   "metadata": {},
   "source": [
    "#### Execute SQL 예제2\n",
    "- 테이블 삭제"
   ]
  },
  {
   "cell_type": "code",
   "execution_count": 5,
   "metadata": {},
   "outputs": [],
   "source": [
    "remote = mysql.connector.connect(\n",
    "    host='192.168.35.159',\n",
    "    port = 3306,\n",
    "    user = 'newrandom',\n",
    "    password = input(),\n",
    "    database = 'zerobase'\n",
    ")\n",
    "\n",
    "cur = remote.cursor()\n",
    "cur.execute('DROP TABLE sql_file')\n",
    "\n",
    "remote.close()"
   ]
  },
  {
   "cell_type": "markdown",
   "metadata": {},
   "source": [
    "#### Execute SQL File 예제 1\n",
    "- test03.sql파일 생성"
   ]
  },
  {
   "cell_type": "markdown",
   "metadata": {},
   "source": [
    "- test03.sql 파일 실행"
   ]
  },
  {
   "cell_type": "code",
   "execution_count": 2,
   "metadata": {},
   "outputs": [],
   "source": [
    "remote = mysql.connector.connect(\n",
    "    host='192.168.35.159',\n",
    "    port = 3306,\n",
    "    user = 'newrandom',\n",
    "    password = input(),\n",
    "    database = 'zerobase'\n",
    ")\n",
    "\n",
    "cur = remote.cursor()\n",
    "sql = open('./test03.sql').read()      # 실행할 sql 파일의 경로\n",
    "cur.execute(sql)\n",
    "\n",
    "remote.close()"
   ]
  },
  {
   "cell_type": "markdown",
   "metadata": {},
   "source": [
    "#### Execute SQL File 예제 2\n",
    "- SQL file 내에 Query가 여러개 존재하는 경우"
   ]
  },
  {
   "cell_type": "markdown",
   "metadata": {},
   "source": [
    "- test04.sql 생성"
   ]
  },
  {
   "cell_type": "markdown",
   "metadata": {},
   "source": [
    "- 실행"
   ]
  },
  {
   "cell_type": "code",
   "execution_count": 11,
   "metadata": {},
   "outputs": [],
   "source": [
    "remote = mysql.connector.connect(\n",
    "    host='192.168.35.159',\n",
    "    port = 3306,\n",
    "    user = 'newrandom',\n",
    "    password = input(),\n",
    "    database = 'zerobase'\n",
    ")\n",
    "\n",
    "cur = remote.cursor()\n",
    "sql = open('./test04.sql').read()\n",
    "# cur.execute(sql)      ## 다중쿼리는 일반적인 execute 로 할 수 없음\n",
    "\n",
    "\n",
    "## 다중 쿼리인 경우에는 multi=True 옵션을 넣어주어야 한다.\n",
    "for result_iterator in cur.execute(sql, multi=True):\n",
    "    if result_iterator.with_rows:               ## boolean 형태, row면 True, row가 아니면 False\n",
    "        print(result_iterator.fetchall())       ## 실행된 결과를 한줄씩 보여줌.\n",
    "    else:\n",
    "        print(result_iterator.statement)        ## statement ?\n",
    "\n",
    "remote.commit()\n",
    "remote.close()"
   ]
  },
  {
   "cell_type": "markdown",
   "metadata": {},
   "source": [
    "## sql > python > pandas\n"
   ]
  },
  {
   "cell_type": "code",
   "execution_count": 41,
   "metadata": {},
   "outputs": [],
   "source": [
    "remote = mysql.connector.connect(\n",
    "    host = '192.168.35.159',\n",
    "    port = 3306,\n",
    "    user = 'newrandom',\n",
    "    password = input(),\n",
    "    database = 'zerobase'\n",
    ")\n",
    "\n",
    "cur = remote.cursor(buffered=True)\n",
    "cur.execute('select * from sql_file')\n",
    "result = cur.fetchall()\n",
    "\n",
    "remote.close()"
   ]
  },
  {
   "cell_type": "code",
   "execution_count": 44,
   "metadata": {},
   "outputs": [
    {
     "data": {
      "text/html": [
       "<div>\n",
       "<style scoped>\n",
       "    .dataframe tbody tr th:only-of-type {\n",
       "        vertical-align: middle;\n",
       "    }\n",
       "\n",
       "    .dataframe tbody tr th {\n",
       "        vertical-align: top;\n",
       "    }\n",
       "\n",
       "    .dataframe thead th {\n",
       "        text-align: right;\n",
       "    }\n",
       "</style>\n",
       "<table border=\"1\" class=\"dataframe\">\n",
       "  <thead>\n",
       "    <tr style=\"text-align: right;\">\n",
       "      <th></th>\n",
       "      <th>0</th>\n",
       "      <th>1</th>\n",
       "    </tr>\n",
       "  </thead>\n",
       "  <tbody>\n",
       "    <tr>\n",
       "      <th>0</th>\n",
       "      <td>1</td>\n",
       "      <td>test01.sql</td>\n",
       "    </tr>\n",
       "    <tr>\n",
       "      <th>1</th>\n",
       "      <td>2</td>\n",
       "      <td>test02.sql</td>\n",
       "    </tr>\n",
       "    <tr>\n",
       "      <th>2</th>\n",
       "      <td>3</td>\n",
       "      <td>test03.sql</td>\n",
       "    </tr>\n",
       "    <tr>\n",
       "      <th>3</th>\n",
       "      <td>4</td>\n",
       "      <td>test04.sql</td>\n",
       "    </tr>\n",
       "  </tbody>\n",
       "</table>\n",
       "</div>"
      ],
      "text/plain": [
       "   0           1\n",
       "0  1  test01.sql\n",
       "1  2  test02.sql\n",
       "2  3  test03.sql\n",
       "3  4  test04.sql"
      ]
     },
     "execution_count": 44,
     "metadata": {},
     "output_type": "execute_result"
    }
   ],
   "source": [
    "import pandas as pd\n",
    "df = pd.DataFrame(result)\n",
    "df"
   ]
  },
  {
   "cell_type": "markdown",
   "metadata": {},
   "source": [
    "# Read CSV"
   ]
  },
  {
   "cell_type": "markdown",
   "metadata": {},
   "source": [
    "- police_station.csv 파일 pandas로 읽어와 데이터 확인\n"
   ]
  },
  {
   "cell_type": "code",
   "execution_count": 45,
   "metadata": {},
   "outputs": [
    {
     "data": {
      "text/html": [
       "<div>\n",
       "<style scoped>\n",
       "    .dataframe tbody tr th:only-of-type {\n",
       "        vertical-align: middle;\n",
       "    }\n",
       "\n",
       "    .dataframe tbody tr th {\n",
       "        vertical-align: top;\n",
       "    }\n",
       "\n",
       "    .dataframe thead th {\n",
       "        text-align: right;\n",
       "    }\n",
       "</style>\n",
       "<table border=\"1\" class=\"dataframe\">\n",
       "  <thead>\n",
       "    <tr style=\"text-align: right;\">\n",
       "      <th></th>\n",
       "      <th>서울특별시경찰청</th>\n",
       "      <th>서울시 종로구 사직로8길 31</th>\n",
       "    </tr>\n",
       "  </thead>\n",
       "  <tbody>\n",
       "    <tr>\n",
       "      <th>0</th>\n",
       "      <td>서울중부경찰서</td>\n",
       "      <td>서울특별시 중구 수표로 27</td>\n",
       "    </tr>\n",
       "    <tr>\n",
       "      <th>1</th>\n",
       "      <td>서울종로경찰서</td>\n",
       "      <td>서울특별시 종로구 율곡로 46</td>\n",
       "    </tr>\n",
       "    <tr>\n",
       "      <th>2</th>\n",
       "      <td>서울남대문경찰서</td>\n",
       "      <td>서울특별시 중구 한강대로 410</td>\n",
       "    </tr>\n",
       "    <tr>\n",
       "      <th>3</th>\n",
       "      <td>서울서대문경찰서</td>\n",
       "      <td>서울특별시 서대문구 통일로 113</td>\n",
       "    </tr>\n",
       "    <tr>\n",
       "      <th>4</th>\n",
       "      <td>서울혜화경찰서</td>\n",
       "      <td>서울특별시 종로구 창경궁로 112-16</td>\n",
       "    </tr>\n",
       "  </tbody>\n",
       "</table>\n",
       "</div>"
      ],
      "text/plain": [
       "   서울특별시경찰청       서울시 종로구 사직로8길 31\n",
       "0   서울중부경찰서        서울특별시 중구 수표로 27\n",
       "1   서울종로경찰서       서울특별시 종로구 율곡로 46\n",
       "2  서울남대문경찰서      서울특별시 중구 한강대로 410\n",
       "3  서울서대문경찰서     서울특별시 서대문구 통일로 113\n",
       "4   서울혜화경찰서  서울특별시 종로구 창경궁로 112-16"
      ]
     },
     "execution_count": 45,
     "metadata": {},
     "output_type": "execute_result"
    }
   ],
   "source": [
    "import pandas as pd\n",
    "df = pd.read_csv('../csv/police_station.csv', )\n",
    "df.head()"
   ]
  },
  {
   "cell_type": "markdown",
   "metadata": {},
   "source": [
    "#### CSV to SQL"
   ]
  },
  {
   "cell_type": "code",
   "execution_count": 54,
   "metadata": {},
   "outputs": [
    {
     "name": "stdout",
     "output_type": "stream",
     "text": [
      "('서울특별시경찰청', '서울시 종로구 사직로8길 31')\n",
      "('서울중부경찰서', '서울특별시 중구 수표로 27')\n",
      "('서울종로경찰서', '서울특별시 종로구 율곡로 46')\n",
      "('서울남대문경찰서', '서울특별시 중구 한강대로 410')\n",
      "('서울서대문경찰서', '서울특별시 서대문구 통일로 113')\n",
      "('서울혜화경찰서', '서울특별시 종로구 창경궁로 112-16')\n",
      "('서울용산경찰서', '서울특별시 용산구 원효로89길 24')\n",
      "('서울성북경찰서', '서울특별시 성북구 보문로 170')\n",
      "('서울동대문경찰서', '서울특별시 동대문구 약령시로 21길 29')\n",
      "('서울마포경찰서', '서울특별시 마포구 마포대로 183')\n",
      "('서울영등포경찰서', '서울특별시 영등포구 국회대로 608')\n",
      "('서울성동경찰서', '서울특별시 성동구 왕십리광장로 9')\n",
      "('서울동작경찰서', '서울특별시 동작구 노량진로 148')\n",
      "('서울광진경찰서', '서울특별시 광진구 광나루로 447 광진소방서 임시청사 (능동)')\n",
      "('서울서부경찰서', '서울특별시 은평구 은평로9길 15')\n",
      "('서울강북경찰서', '서울특별시 강북구 오패산로 406')\n",
      "('서울금천경찰서', '서울특별시 관악구 남부순환로 1435')\n",
      "('서울중랑경찰서', '서울특별시 중랑구 중랑역로 137')\n",
      "('서울강남경찰서', '서울특별시 강남구 테헤란로 114길 11')\n",
      "('서울관악경찰서', '서울특별시 관악구 관악로5길 33')\n",
      "('서울강서경찰서', '서울특별시 양천구 화곡로 73')\n",
      "('서울강동경찰서', '서울특별시 강동구 성내로 33')\n",
      "('서울종암경찰서', '서울특별시 성북구 종암로 135')\n",
      "('서울구로경찰서', '서울특별시 구로구 가마산로 235')\n",
      "('서울서초경찰서', '서울특별시 서초구 반포대로 179')\n",
      "('서울양천경찰서', '서울특별시 양천구 목동동로 99')\n",
      "('서울송파경찰서', '서울특별시 송파구 중대로 221')\n",
      "('서울노원경찰서', '서울특별시 노원구 노원로 283')\n",
      "('서울방배경찰서', '서울특별시 서초구 방배천로 54')\n",
      "('서울도봉경찰서', '서울특별시 도봉구 노해로 403')\n",
      "('서울수서경찰서', '서울특별시 강남구 개포로 617')\n",
      "('서울은평경찰서', '서울특별시 은평구 연서로 365')\n"
     ]
    }
   ],
   "source": [
    "import mysql.connector\n",
    "import pandas as pd\n",
    "\n",
    "remote = mysql.connector.connect(\n",
    "    host='192.168.35.159',\n",
    "    port = 3306,\n",
    "    user = 'newrandom',\n",
    "    password=input(),\n",
    "    database='zerobase'\n",
    ")\n",
    "\n",
    "cur = remote.cursor(buffered=True)\n",
    "\n",
    "# ===============DataFrame load================== #\n",
    "df = pd.read_csv('../csv/police_station.csv', header=None)\n",
    "\n",
    "query = 'INSERT INTO police_station (name, address) VALUES (%s,%s)'\n",
    "\n",
    "for i , row in df.iterrows():\n",
    "    cur.execute(query, tuple(row))\n",
    "    print(tuple(row))\n",
    "    remote.commit()\n",
    "\n",
    "# cur.execute('SELECT * FROM police_station')\n",
    "\n",
    "# result = cur.fetchall()\n",
    "# for row in result:\n",
    "#     print(row)\n",
    "\n",
    "\n",
    "remote.close()"
   ]
  },
  {
   "cell_type": "code",
   "execution_count": 58,
   "metadata": {},
   "outputs": [
    {
     "name": "stdout",
     "output_type": "stream",
     "text": [
      "('중부', '살인', '발생', 1)\n",
      "('중부', '살인', '검거', 1)\n",
      "('중부', '강도', '발생', 3)\n",
      "('중부', '강도', '검거', 4)\n",
      "('중부', '강간,추행', '발생', 113)\n",
      "('중부', '강간,추행', '검거', 76)\n",
      "('중부', '절도', '발생', 943)\n",
      "('중부', '절도', '검거', 495)\n",
      "('중부', '폭력', '발생', 997)\n",
      "('중부', '폭력', '검거', 830)\n",
      "('종로', '살인', '발생', 9)\n",
      "('종로', '살인', '검거', 6)\n",
      "('종로', '강도', '발생', 4)\n",
      "('종로', '강도', '검거', 4)\n",
      "('종로', '강간,추행', '발생', 115)\n",
      "('종로', '강간,추행', '검거', 93)\n",
      "('종로', '절도', '발생', 602)\n",
      "('종로', '절도', '검거', 284)\n",
      "('종로', '폭력', '발생', 964)\n",
      "('종로', '폭력', '검거', 792)\n",
      "('남대문', '살인', '발생', 1)\n",
      "('남대문', '살인', '검거', 1)\n",
      "('남대문', '강도', '발생', 2)\n",
      "('남대문', '강도', '검거', 2)\n",
      "('남대문', '강간,추행', '발생', 73)\n",
      "('남대문', '강간,추행', '검거', 52)\n",
      "('남대문', '절도', '발생', 699)\n",
      "('남대문', '절도', '검거', 368)\n",
      "('남대문', '폭력', '발생', 579)\n",
      "('남대문', '폭력', '검거', 494)\n",
      "('서대문', '살인', '발생', 3)\n",
      "('서대문', '살인', '검거', 3)\n",
      "('서대문', '강도', '발생', 2)\n",
      "('서대문', '강도', '검거', 1)\n",
      "('서대문', '강간,추행', '발생', 159)\n",
      "('서대문', '강간,추행', '검거', 149)\n",
      "('서대문', '절도', '발생', 1077)\n",
      "('서대문', '절도', '검거', 524)\n",
      "('서대문', '폭력', '발생', 1292)\n",
      "('서대문', '폭력', '검거', 1029)\n",
      "('혜화', '살인', '발생', 0)\n",
      "('혜화', '살인', '검거', 0)\n",
      "('혜화', '강도', '발생', 3)\n",
      "('혜화', '강도', '검거', 3)\n",
      "('혜화', '강간,추행', '발생', 77)\n",
      "('혜화', '강간,추행', '검거', 53)\n",
      "('혜화', '절도', '발생', 581)\n",
      "('혜화', '절도', '검거', 310)\n",
      "('혜화', '폭력', '발생', 747)\n",
      "('혜화', '폭력', '검거', 628)\n",
      "('용산', '살인', '발생', 5)\n",
      "('용산', '살인', '검거', 3)\n",
      "('용산', '강도', '발생', 6)\n",
      "('용산', '강도', '검거', 6)\n",
      "('용산', '강간,추행', '발생', 230)\n",
      "('용산', '강간,추행', '검거', 186)\n",
      "('용산', '절도', '발생', 1111)\n",
      "('용산', '절도', '검거', 534)\n",
      "('용산', '폭력', '발생', 1617)\n",
      "('용산', '폭력', '검거', 1327)\n",
      "('성북', '살인', '발생', 0)\n",
      "('성북', '살인', '검거', 0)\n",
      "('성북', '강도', '발생', 2)\n",
      "('성북', '강도', '검거', 2)\n",
      "('성북', '강간', '발생', 95)\n",
      "('성북', '강간', '검거', 77)\n",
      "('성북', '절도', '발생', 439)\n",
      "('성북', '절도', '검거', 233)\n",
      "('성북', '폭력', '발생', 672)\n",
      "('성북', '폭력', '검거', 610)\n",
      "('동대문', '살인', '발생', 10)\n",
      "('동대문', '살인', '검거', 8)\n",
      "('동대문', '강도', '발생', 6)\n",
      "('동대문', '강도', '검거', 5)\n",
      "('동대문', '강간,추행', '발생', 161)\n",
      "('동대문', '강간,추행', '검거', 142)\n",
      "('동대문', '절도', '발생', 1440)\n",
      "('동대문', '절도', '검거', 713)\n",
      "('동대문', '폭력', '발생', 1784)\n",
      "('동대문', '폭력', '검거', 1597)\n",
      "('마포', '살인', '발생', 9)\n",
      "('마포', '살인', '검거', 8)\n",
      "('마포', '강도', '발생', 4)\n",
      "('마포', '강도', '검거', 3)\n",
      "('마포', '강간,추행', '발생', 348)\n",
      "('마포', '강간,추행', '검거', 287)\n",
      "('마포', '절도', '발생', 1483)\n",
      "('마포', '절도', '검거', 679)\n",
      "('마포', '폭력', '발생', 1844)\n",
      "('마포', '폭력', '검거', 1557)\n",
      "('영등포', '살인', '발생', 7)\n",
      "('영등포', '살인', '검거', 4)\n",
      "('영등포', '강도', '발생', 6)\n",
      "('영등포', '강도', '검거', 5)\n",
      "('영등포', '강간,추행', '발생', 315)\n",
      "('영등포', '강간,추행', '검거', 252)\n",
      "('영등포', '절도', '발생', 2188)\n",
      "('영등포', '절도', '검거', 953)\n",
      "('영등포', '폭력', '발생', 2701)\n",
      "('영등포', '폭력', '검거', 2157)\n",
      "('성동', '살인', '발생', 5)\n",
      "('성동', '살인', '검거', 5)\n",
      "('성동', '강도', '발생', 3)\n",
      "('성동', '강도', '검거', 3)\n",
      "('성동', '강간,추행', '발생', 115)\n",
      "('성동', '강간,추행', '검거', 98)\n",
      "('성동', '절도', '발생', 1016)\n",
      "('성동', '절도', '검거', 565)\n",
      "('성동', '폭력', '발생', 1223)\n",
      "('성동', '폭력', '검거', 1103)\n",
      "('동작', '살인', '발생', 1)\n",
      "('동작', '살인', '검거', 1)\n",
      "('동작', '강도', '발생', 1)\n",
      "('동작', '강도', '검거', 2)\n",
      "('동작', '강간,추행', '발생', 226)\n",
      "('동작', '강간,추행', '검거', 121)\n",
      "('동작', '절도', '발생', 1341)\n",
      "('동작', '절도', '검거', 592)\n",
      "('동작', '폭력', '발생', 1631)\n",
      "('동작', '폭력', '검거', 1370)\n",
      "('광진', '살인', '발생', 2)\n",
      "('광진', '살인', '검거', 2)\n",
      "('광진', '강도', '발생', 4)\n",
      "('광진', '강도', '검거', 4)\n",
      "('광진', '강간,추행', '발생', 255)\n",
      "('광진', '강간,추행', '검거', 224)\n",
      "('광진', '절도', '발생', 1664)\n",
      "('광진', '절도', '검거', 874)\n",
      "('광진', '폭력', '발생', 1676)\n",
      "('광진', '폭력', '검거', 1407)\n",
      "('서부', '살인', '발생', 3)\n",
      "('서부', '살인', '검거', 3)\n",
      "('서부', '강도', '발생', 3)\n",
      "('서부', '강도', '검거', 2)\n",
      "('서부', '강간,추행', '발생', 76)\n",
      "('서부', '강간,추행', '검거', 71)\n",
      "('서부', '절도', '발생', 532)\n",
      "('서부', '절도', '검거', 322)\n",
      "('서부', '폭력', '발생', 748)\n",
      "('서부', '폭력', '검거', 667)\n",
      "('강북', '살인', '발생', 9)\n",
      "('강북', '살인', '검거', 8)\n",
      "('강북', '강도', '발생', 5)\n",
      "('강북', '강도', '검거', 4)\n",
      "('강북', '강간,추행', '발생', 159)\n",
      "('강북', '강간,추행', '검거', 132)\n",
      "('강북', '절도', '발생', 780)\n",
      "('강북', '절도', '검거', 490)\n",
      "('강북', '폭력', '발생', 1817)\n",
      "('강북', '폭력', '검거', 1625)\n",
      "('금천', '살인', '발생', 4)\n",
      "('금천', '살인', '검거', 4)\n",
      "('금천', '강도', '발생', 7)\n",
      "('금천', '강도', '검거', 6)\n",
      "('금천', '강간,추행', '발생', 117)\n",
      "('금천', '강간,추행', '검거', 93)\n",
      "('금천', '절도', '발생', 999)\n",
      "('금천', '절도', '검거', 553)\n",
      "('금천', '폭력', '발생', 1471)\n",
      "('금천', '폭력', '검거', 1310)\n",
      "('중랑', '살인', '발생', 10)\n",
      "('중랑', '살인', '검거', 9)\n",
      "('중랑', '강도', '발생', 5)\n",
      "('중랑', '강도', '검거', 6)\n",
      "('중랑', '강간,추행', '발생', 183)\n",
      "('중랑', '강간,추행', '검거', 153)\n",
      "('중랑', '절도', '발생', 1506)\n",
      "('중랑', '절도', '검거', 889)\n",
      "('중랑', '폭력', '발생', 2022)\n",
      "('중랑', '폭력', '검거', 1724)\n",
      "('강남', '살인', '발생', 5)\n",
      "('강남', '살인', '검거', 3)\n",
      "('강남', '강도', '발생', 12)\n",
      "('강남', '강도', '검거', 10)\n",
      "('강남', '강간,추행', '발생', 513)\n",
      "('강남', '강간,추행', '검거', 433)\n",
      "('강남', '절도', '발생', 1941)\n",
      "('강남', '절도', '검거', 1016)\n",
      "('강남', '폭력', '발생', 2283)\n",
      "('강남', '폭력', '검거', 1911)\n",
      "('관악', '살인', '발생', 12)\n",
      "('관악', '살인', '검거', 12)\n",
      "('관악', '강도', '발생', 3)\n",
      "('관악', '강도', '검거', 3)\n",
      "('관악', '강간,추행', '발생', 403)\n",
      "('관악', '강간,추행', '검거', 351)\n",
      "('관악', '절도', '발생', 2229)\n",
      "('관악', '절도', '검거', 1137)\n",
      "('관악', '폭력', '발생', 2614)\n",
      "('관악', '폭력', '검거', 2355)\n",
      "('강서', '살인', '발생', 10)\n",
      "('강서', '살인', '검거', 9)\n",
      "('강서', '강도', '발생', 6)\n",
      "('강서', '강도', '검거', 5)\n",
      "('강서', '강간,추행', '발생', 265)\n",
      "('강서', '강간,추행', '검거', 222)\n",
      "('강서', '절도', '발생', 1689)\n",
      "('강서', '절도', '검거', 1070)\n",
      "('강서', '폭력', '발생', 2445)\n",
      "('강서', '폭력', '검거', 2087)\n",
      "('강동', '살인', '발생', 3)\n",
      "('강동', '살인', '검거', 3)\n",
      "('강동', '강도', '발생', 15)\n",
      "('강동', '강도', '검거', 14)\n",
      "('강동', '강간,추행', '발생', 188)\n",
      "('강동', '강간,추행', '검거', 167)\n",
      "('강동', '절도', '발생', 1640)\n",
      "('강동', '절도', '검거', 781)\n",
      "('강동', '폭력', '발생', 1942)\n",
      "('강동', '폭력', '검거', 1697)\n",
      "('종암', '살인', '발생', 4)\n",
      "('종암', '살인', '검거', 4)\n",
      "('종암', '강도', '발생', 1)\n",
      "('종암', '강도', '검거', 0)\n",
      "('종암', '강간', '발생', 47)\n",
      "('종암', '강간', '검거', 44)\n",
      "('종암', '절도', '발생', 549)\n",
      "('종암', '절도', '검거', 347)\n",
      "('종암', '폭력', '발생', 758)\n",
      "('종암', '폭력', '검거', 630)\n",
      "('구로', '살인', '발생', 6)\n",
      "('구로', '살인', '검거', 6)\n",
      "('구로', '강도', '발생', 5)\n",
      "('구로', '강도', '검거', 5)\n",
      "('구로', '강간,추행', '발생', 197)\n",
      "('구로', '강간,추행', '검거', 142)\n",
      "('구로', '절도', '발생', 1763)\n",
      "('구로', '절도', '검거', 1008)\n",
      "('구로', '폭력', '발생', 2204)\n",
      "('구로', '폭력', '검거', 1823)\n",
      "('서초', '살인', '발생', 4)\n",
      "('서초', '살인', '검거', 4)\n",
      "('서초', '강도', '발생', 5)\n",
      "('서초', '강도', '검거', 3)\n",
      "('서초', '강간,추행', '발생', 333)\n",
      "('서초', '강간,추행', '검거', 253)\n",
      "('서초', '절도', '발생', 1673)\n",
      "('서초', '절도', '검거', 801)\n",
      "('서초', '폭력', '발생', 1750)\n",
      "('서초', '폭력', '검거', 1415)\n",
      "('양천', '살인', '발생', 5)\n",
      "('양천', '살인', '검거', 5)\n",
      "('양천', '강도', '발생', 3)\n",
      "('양천', '강도', '검거', 3)\n",
      "('양천', '강간', '발생', 109)\n",
      "('양천', '강간', '검거', 90)\n",
      "('양천', '절도', '발생', 1517)\n",
      "('양천', '절도', '검거', 718)\n",
      "('양천', '폭력', '발생', 1582)\n",
      "('양천', '폭력', '검거', 1270)\n",
      "('송파', '살인', '발생', 6)\n",
      "('송파', '살인', '검거', 6)\n",
      "('송파', '강도', '발생', 13)\n",
      "('송파', '강도', '검거', 17)\n",
      "('송파', '강간,추행', '발생', 287)\n",
      "('송파', '강간,추행', '검거', 235)\n",
      "('송파', '절도', '발생', 2429)\n",
      "('송파', '절도', '검거', 1006)\n",
      "('송파', '폭력', '발생', 2675)\n",
      "('송파', '폭력', '검거', 2280)\n",
      "('노원', '살인', '발생', 4)\n",
      "('노원', '살인', '검거', 3)\n",
      "('노원', '강도', '발생', 3)\n",
      "('노원', '강도', '검거', 3)\n",
      "('노원', '강간,추행', '발생', 169)\n",
      "('노원', '강간,추행', '검거', 148)\n",
      "('노원', '절도', '발생', 1404)\n",
      "('노원', '절도', '검거', 646)\n",
      "('노원', '폭력', '발생', 2163)\n",
      "('노원', '폭력', '검거', 1781)\n",
      "('방배', '살인', '발생', 1)\n",
      "('방배', '살인', '검거', 1)\n",
      "('방배', '강도', '발생', 1)\n",
      "('방배', '강도', '검거', 1)\n",
      "('방배', '강간', '발생', 63)\n",
      "('방배', '강간', '검거', 50)\n",
      "('방배', '절도', '발생', 348)\n",
      "('방배', '절도', '검거', 159)\n",
      "('방배', '폭력', '발생', 423)\n",
      "('방배', '폭력', '검거', 365)\n",
      "('은평', '살인', '발생', 1)\n",
      "('은평', '살인', '검거', 1)\n",
      "('은평', '강도', '발생', 1)\n",
      "('은평', '강도', '검거', 1)\n",
      "('은평', '강간,추행', '발생', 95)\n",
      "('은평', '강간,추행', '검거', 74)\n",
      "('은평', '절도', '발생', 839)\n",
      "('은평', '절도', '검거', 434)\n",
      "('은평', '폭력', '발생', 1092)\n",
      "('은평', '폭력', '검거', 956)\n",
      "('도봉', '살인', '발생', 0)\n",
      "('도봉', '살인', '검거', 0)\n",
      "('도봉', '강도', '발생', 2)\n",
      "('도봉', '강도', '검거', 2)\n",
      "('도봉', '강간', '발생', 82)\n",
      "('도봉', '강간', '검거', 87)\n",
      "('도봉', '절도', '발생', 861)\n",
      "('도봉', '절도', '검거', 379)\n",
      "('도봉', '폭력', '발생', 1234)\n",
      "('도봉', '폭력', '검거', 1022)\n",
      "('수서', '살인', '발생', 1)\n",
      "('수서', '살인', '검거', 2)\n",
      "('수서', '강도', '발생', 2)\n",
      "('수서', '강도', '검거', 1)\n",
      "('수서', '강간,추행', '발생', 195)\n",
      "('수서', '강간,추행', '검거', 194)\n",
      "('수서', '절도', '발생', 1010)\n",
      "('수서', '절도', '검거', 475)\n",
      "('수서', '폭력', '발생', 1394)\n",
      "('수서', '폭력', '검거', 1200)\n",
      "============================\n",
      "(2020, '중부', '살인', '발생', 1)\n",
      "(2020, '중부', '살인', '검거', 1)\n",
      "(2020, '중부', '강도', '발생', 3)\n",
      "(2020, '중부', '강도', '검거', 4)\n",
      "(2020, '중부', '강간,추행', '발생', 113)\n",
      "(2020, '중부', '강간,추행', '검거', 76)\n",
      "(2020, '중부', '절도', '발생', 943)\n",
      "(2020, '중부', '절도', '검거', 495)\n",
      "(2020, '중부', '폭력', '발생', 997)\n",
      "(2020, '중부', '폭력', '검거', 830)\n",
      "(2020, '종로', '살인', '발생', 9)\n",
      "(2020, '종로', '살인', '검거', 6)\n",
      "(2020, '종로', '강도', '발생', 4)\n",
      "(2020, '종로', '강도', '검거', 4)\n",
      "(2020, '종로', '강간,추행', '발생', 115)\n",
      "(2020, '종로', '강간,추행', '검거', 93)\n",
      "(2020, '종로', '절도', '발생', 602)\n",
      "(2020, '종로', '절도', '검거', 284)\n",
      "(2020, '종로', '폭력', '발생', 964)\n",
      "(2020, '종로', '폭력', '검거', 792)\n",
      "(2020, '남대문', '살인', '발생', 1)\n",
      "(2020, '남대문', '살인', '검거', 1)\n",
      "(2020, '남대문', '강도', '발생', 2)\n",
      "(2020, '남대문', '강도', '검거', 2)\n",
      "(2020, '남대문', '강간,추행', '발생', 73)\n",
      "(2020, '남대문', '강간,추행', '검거', 52)\n",
      "(2020, '남대문', '절도', '발생', 699)\n",
      "(2020, '남대문', '절도', '검거', 368)\n",
      "(2020, '남대문', '폭력', '발생', 579)\n",
      "(2020, '남대문', '폭력', '검거', 494)\n",
      "(2020, '서대문', '살인', '발생', 3)\n",
      "(2020, '서대문', '살인', '검거', 3)\n",
      "(2020, '서대문', '강도', '발생', 2)\n",
      "(2020, '서대문', '강도', '검거', 1)\n",
      "(2020, '서대문', '강간,추행', '발생', 159)\n",
      "(2020, '서대문', '강간,추행', '검거', 149)\n",
      "(2020, '서대문', '절도', '발생', 1077)\n",
      "(2020, '서대문', '절도', '검거', 524)\n",
      "(2020, '서대문', '폭력', '발생', 1292)\n",
      "(2020, '서대문', '폭력', '검거', 1029)\n",
      "(2020, '혜화', '살인', '발생', 0)\n",
      "(2020, '혜화', '살인', '검거', 0)\n",
      "(2020, '혜화', '강도', '발생', 3)\n",
      "(2020, '혜화', '강도', '검거', 3)\n",
      "(2020, '혜화', '강간,추행', '발생', 77)\n",
      "(2020, '혜화', '강간,추행', '검거', 53)\n",
      "(2020, '혜화', '절도', '발생', 581)\n",
      "(2020, '혜화', '절도', '검거', 310)\n",
      "(2020, '혜화', '폭력', '발생', 747)\n",
      "(2020, '혜화', '폭력', '검거', 628)\n",
      "(2020, '용산', '살인', '발생', 5)\n",
      "(2020, '용산', '살인', '검거', 3)\n",
      "(2020, '용산', '강도', '발생', 6)\n",
      "(2020, '용산', '강도', '검거', 6)\n",
      "(2020, '용산', '강간,추행', '발생', 230)\n",
      "(2020, '용산', '강간,추행', '검거', 186)\n",
      "(2020, '용산', '절도', '발생', 1111)\n",
      "(2020, '용산', '절도', '검거', 534)\n",
      "(2020, '용산', '폭력', '발생', 1617)\n",
      "(2020, '용산', '폭력', '검거', 1327)\n",
      "(2020, '성북', '살인', '발생', 0)\n",
      "(2020, '성북', '살인', '검거', 0)\n",
      "(2020, '성북', '강도', '발생', 2)\n",
      "(2020, '성북', '강도', '검거', 2)\n",
      "(2020, '성북', '강간', '발생', 95)\n",
      "(2020, '성북', '강간', '검거', 77)\n",
      "(2020, '성북', '절도', '발생', 439)\n",
      "(2020, '성북', '절도', '검거', 233)\n",
      "(2020, '성북', '폭력', '발생', 672)\n",
      "(2020, '성북', '폭력', '검거', 610)\n",
      "(2020, '동대문', '살인', '발생', 10)\n",
      "(2020, '동대문', '살인', '검거', 8)\n",
      "(2020, '동대문', '강도', '발생', 6)\n",
      "(2020, '동대문', '강도', '검거', 5)\n",
      "(2020, '동대문', '강간,추행', '발생', 161)\n",
      "(2020, '동대문', '강간,추행', '검거', 142)\n",
      "(2020, '동대문', '절도', '발생', 1440)\n",
      "(2020, '동대문', '절도', '검거', 713)\n",
      "(2020, '동대문', '폭력', '발생', 1784)\n",
      "(2020, '동대문', '폭력', '검거', 1597)\n",
      "(2020, '마포', '살인', '발생', 9)\n",
      "(2020, '마포', '살인', '검거', 8)\n",
      "(2020, '마포', '강도', '발생', 4)\n",
      "(2020, '마포', '강도', '검거', 3)\n",
      "(2020, '마포', '강간,추행', '발생', 348)\n",
      "(2020, '마포', '강간,추행', '검거', 287)\n",
      "(2020, '마포', '절도', '발생', 1483)\n",
      "(2020, '마포', '절도', '검거', 679)\n",
      "(2020, '마포', '폭력', '발생', 1844)\n",
      "(2020, '마포', '폭력', '검거', 1557)\n",
      "(2020, '영등포', '살인', '발생', 7)\n",
      "(2020, '영등포', '살인', '검거', 4)\n",
      "(2020, '영등포', '강도', '발생', 6)\n",
      "(2020, '영등포', '강도', '검거', 5)\n",
      "(2020, '영등포', '강간,추행', '발생', 315)\n",
      "(2020, '영등포', '강간,추행', '검거', 252)\n",
      "(2020, '영등포', '절도', '발생', 2188)\n",
      "(2020, '영등포', '절도', '검거', 953)\n",
      "(2020, '영등포', '폭력', '발생', 2701)\n",
      "(2020, '영등포', '폭력', '검거', 2157)\n",
      "(2020, '성동', '살인', '발생', 5)\n",
      "(2020, '성동', '살인', '검거', 5)\n",
      "(2020, '성동', '강도', '발생', 3)\n",
      "(2020, '성동', '강도', '검거', 3)\n",
      "(2020, '성동', '강간,추행', '발생', 115)\n",
      "(2020, '성동', '강간,추행', '검거', 98)\n",
      "(2020, '성동', '절도', '발생', 1016)\n",
      "(2020, '성동', '절도', '검거', 565)\n",
      "(2020, '성동', '폭력', '발생', 1223)\n",
      "(2020, '성동', '폭력', '검거', 1103)\n",
      "(2020, '동작', '살인', '발생', 1)\n",
      "(2020, '동작', '살인', '검거', 1)\n",
      "(2020, '동작', '강도', '발생', 1)\n",
      "(2020, '동작', '강도', '검거', 2)\n",
      "(2020, '동작', '강간,추행', '발생', 226)\n",
      "(2020, '동작', '강간,추행', '검거', 121)\n",
      "(2020, '동작', '절도', '발생', 1341)\n",
      "(2020, '동작', '절도', '검거', 592)\n",
      "(2020, '동작', '폭력', '발생', 1631)\n",
      "(2020, '동작', '폭력', '검거', 1370)\n",
      "(2020, '광진', '살인', '발생', 2)\n",
      "(2020, '광진', '살인', '검거', 2)\n",
      "(2020, '광진', '강도', '발생', 4)\n",
      "(2020, '광진', '강도', '검거', 4)\n",
      "(2020, '광진', '강간,추행', '발생', 255)\n",
      "(2020, '광진', '강간,추행', '검거', 224)\n",
      "(2020, '광진', '절도', '발생', 1664)\n",
      "(2020, '광진', '절도', '검거', 874)\n",
      "(2020, '광진', '폭력', '발생', 1676)\n",
      "(2020, '광진', '폭력', '검거', 1407)\n",
      "(2020, '서부', '살인', '발생', 3)\n",
      "(2020, '서부', '살인', '검거', 3)\n",
      "(2020, '서부', '강도', '발생', 3)\n",
      "(2020, '서부', '강도', '검거', 2)\n",
      "(2020, '서부', '강간,추행', '발생', 76)\n",
      "(2020, '서부', '강간,추행', '검거', 71)\n",
      "(2020, '서부', '절도', '발생', 532)\n",
      "(2020, '서부', '절도', '검거', 322)\n",
      "(2020, '서부', '폭력', '발생', 748)\n",
      "(2020, '서부', '폭력', '검거', 667)\n",
      "(2020, '강북', '살인', '발생', 9)\n",
      "(2020, '강북', '살인', '검거', 8)\n",
      "(2020, '강북', '강도', '발생', 5)\n",
      "(2020, '강북', '강도', '검거', 4)\n",
      "(2020, '강북', '강간,추행', '발생', 159)\n",
      "(2020, '강북', '강간,추행', '검거', 132)\n",
      "(2020, '강북', '절도', '발생', 780)\n",
      "(2020, '강북', '절도', '검거', 490)\n",
      "(2020, '강북', '폭력', '발생', 1817)\n",
      "(2020, '강북', '폭력', '검거', 1625)\n",
      "(2020, '금천', '살인', '발생', 4)\n",
      "(2020, '금천', '살인', '검거', 4)\n",
      "(2020, '금천', '강도', '발생', 7)\n",
      "(2020, '금천', '강도', '검거', 6)\n",
      "(2020, '금천', '강간,추행', '발생', 117)\n",
      "(2020, '금천', '강간,추행', '검거', 93)\n",
      "(2020, '금천', '절도', '발생', 999)\n",
      "(2020, '금천', '절도', '검거', 553)\n",
      "(2020, '금천', '폭력', '발생', 1471)\n",
      "(2020, '금천', '폭력', '검거', 1310)\n",
      "(2020, '중랑', '살인', '발생', 10)\n",
      "(2020, '중랑', '살인', '검거', 9)\n",
      "(2020, '중랑', '강도', '발생', 5)\n",
      "(2020, '중랑', '강도', '검거', 6)\n",
      "(2020, '중랑', '강간,추행', '발생', 183)\n",
      "(2020, '중랑', '강간,추행', '검거', 153)\n",
      "(2020, '중랑', '절도', '발생', 1506)\n",
      "(2020, '중랑', '절도', '검거', 889)\n",
      "(2020, '중랑', '폭력', '발생', 2022)\n",
      "(2020, '중랑', '폭력', '검거', 1724)\n",
      "(2020, '강남', '살인', '발생', 5)\n",
      "(2020, '강남', '살인', '검거', 3)\n",
      "(2020, '강남', '강도', '발생', 12)\n",
      "(2020, '강남', '강도', '검거', 10)\n",
      "(2020, '강남', '강간,추행', '발생', 513)\n",
      "(2020, '강남', '강간,추행', '검거', 433)\n",
      "(2020, '강남', '절도', '발생', 1941)\n",
      "(2020, '강남', '절도', '검거', 1016)\n",
      "(2020, '강남', '폭력', '발생', 2283)\n",
      "(2020, '강남', '폭력', '검거', 1911)\n",
      "(2020, '관악', '살인', '발생', 12)\n",
      "(2020, '관악', '살인', '검거', 12)\n",
      "(2020, '관악', '강도', '발생', 3)\n",
      "(2020, '관악', '강도', '검거', 3)\n",
      "(2020, '관악', '강간,추행', '발생', 403)\n",
      "(2020, '관악', '강간,추행', '검거', 351)\n",
      "(2020, '관악', '절도', '발생', 2229)\n",
      "(2020, '관악', '절도', '검거', 1137)\n",
      "(2020, '관악', '폭력', '발생', 2614)\n",
      "(2020, '관악', '폭력', '검거', 2355)\n",
      "(2020, '강서', '살인', '발생', 10)\n",
      "(2020, '강서', '살인', '검거', 9)\n",
      "(2020, '강서', '강도', '발생', 6)\n",
      "(2020, '강서', '강도', '검거', 5)\n",
      "(2020, '강서', '강간,추행', '발생', 265)\n",
      "(2020, '강서', '강간,추행', '검거', 222)\n",
      "(2020, '강서', '절도', '발생', 1689)\n",
      "(2020, '강서', '절도', '검거', 1070)\n",
      "(2020, '강서', '폭력', '발생', 2445)\n",
      "(2020, '강서', '폭력', '검거', 2087)\n",
      "(2020, '강동', '살인', '발생', 3)\n",
      "(2020, '강동', '살인', '검거', 3)\n",
      "(2020, '강동', '강도', '발생', 15)\n",
      "(2020, '강동', '강도', '검거', 14)\n",
      "(2020, '강동', '강간,추행', '발생', 188)\n",
      "(2020, '강동', '강간,추행', '검거', 167)\n",
      "(2020, '강동', '절도', '발생', 1640)\n",
      "(2020, '강동', '절도', '검거', 781)\n",
      "(2020, '강동', '폭력', '발생', 1942)\n",
      "(2020, '강동', '폭력', '검거', 1697)\n",
      "(2020, '종암', '살인', '발생', 4)\n",
      "(2020, '종암', '살인', '검거', 4)\n",
      "(2020, '종암', '강도', '발생', 1)\n",
      "(2020, '종암', '강도', '검거', 0)\n",
      "(2020, '종암', '강간', '발생', 47)\n",
      "(2020, '종암', '강간', '검거', 44)\n",
      "(2020, '종암', '절도', '발생', 549)\n",
      "(2020, '종암', '절도', '검거', 347)\n",
      "(2020, '종암', '폭력', '발생', 758)\n",
      "(2020, '종암', '폭력', '검거', 630)\n",
      "(2020, '구로', '살인', '발생', 6)\n",
      "(2020, '구로', '살인', '검거', 6)\n",
      "(2020, '구로', '강도', '발생', 5)\n",
      "(2020, '구로', '강도', '검거', 5)\n",
      "(2020, '구로', '강간,추행', '발생', 197)\n",
      "(2020, '구로', '강간,추행', '검거', 142)\n",
      "(2020, '구로', '절도', '발생', 1763)\n",
      "(2020, '구로', '절도', '검거', 1008)\n",
      "(2020, '구로', '폭력', '발생', 2204)\n",
      "(2020, '구로', '폭력', '검거', 1823)\n",
      "(2020, '서초', '살인', '발생', 4)\n",
      "(2020, '서초', '살인', '검거', 4)\n",
      "(2020, '서초', '강도', '발생', 5)\n",
      "(2020, '서초', '강도', '검거', 3)\n",
      "(2020, '서초', '강간,추행', '발생', 333)\n",
      "(2020, '서초', '강간,추행', '검거', 253)\n",
      "(2020, '서초', '절도', '발생', 1673)\n",
      "(2020, '서초', '절도', '검거', 801)\n",
      "(2020, '서초', '폭력', '발생', 1750)\n",
      "(2020, '서초', '폭력', '검거', 1415)\n",
      "(2020, '양천', '살인', '발생', 5)\n",
      "(2020, '양천', '살인', '검거', 5)\n",
      "(2020, '양천', '강도', '발생', 3)\n",
      "(2020, '양천', '강도', '검거', 3)\n",
      "(2020, '양천', '강간', '발생', 109)\n",
      "(2020, '양천', '강간', '검거', 90)\n",
      "(2020, '양천', '절도', '발생', 1517)\n",
      "(2020, '양천', '절도', '검거', 718)\n",
      "(2020, '양천', '폭력', '발생', 1582)\n",
      "(2020, '양천', '폭력', '검거', 1270)\n",
      "(2020, '송파', '살인', '발생', 6)\n",
      "(2020, '송파', '살인', '검거', 6)\n",
      "(2020, '송파', '강도', '발생', 13)\n",
      "(2020, '송파', '강도', '검거', 17)\n",
      "(2020, '송파', '강간,추행', '발생', 287)\n",
      "(2020, '송파', '강간,추행', '검거', 235)\n",
      "(2020, '송파', '절도', '발생', 2429)\n",
      "(2020, '송파', '절도', '검거', 1006)\n",
      "(2020, '송파', '폭력', '발생', 2675)\n",
      "(2020, '송파', '폭력', '검거', 2280)\n",
      "(2020, '노원', '살인', '발생', 4)\n",
      "(2020, '노원', '살인', '검거', 3)\n",
      "(2020, '노원', '강도', '발생', 3)\n",
      "(2020, '노원', '강도', '검거', 3)\n",
      "(2020, '노원', '강간,추행', '발생', 169)\n",
      "(2020, '노원', '강간,추행', '검거', 148)\n",
      "(2020, '노원', '절도', '발생', 1404)\n",
      "(2020, '노원', '절도', '검거', 646)\n",
      "(2020, '노원', '폭력', '발생', 2163)\n",
      "(2020, '노원', '폭력', '검거', 1781)\n",
      "(2020, '방배', '살인', '발생', 1)\n",
      "(2020, '방배', '살인', '검거', 1)\n",
      "(2020, '방배', '강도', '발생', 1)\n",
      "(2020, '방배', '강도', '검거', 1)\n",
      "(2020, '방배', '강간', '발생', 63)\n",
      "(2020, '방배', '강간', '검거', 50)\n",
      "(2020, '방배', '절도', '발생', 348)\n",
      "(2020, '방배', '절도', '검거', 159)\n",
      "(2020, '방배', '폭력', '발생', 423)\n",
      "(2020, '방배', '폭력', '검거', 365)\n",
      "(2020, '은평', '살인', '발생', 1)\n",
      "(2020, '은평', '살인', '검거', 1)\n",
      "(2020, '은평', '강도', '발생', 1)\n",
      "(2020, '은평', '강도', '검거', 1)\n",
      "(2020, '은평', '강간,추행', '발생', 95)\n",
      "(2020, '은평', '강간,추행', '검거', 74)\n",
      "(2020, '은평', '절도', '발생', 839)\n",
      "(2020, '은평', '절도', '검거', 434)\n",
      "(2020, '은평', '폭력', '발생', 1092)\n",
      "(2020, '은평', '폭력', '검거', 956)\n",
      "(2020, '도봉', '살인', '발생', 0)\n",
      "(2020, '도봉', '살인', '검거', 0)\n",
      "(2020, '도봉', '강도', '발생', 2)\n",
      "(2020, '도봉', '강도', '검거', 2)\n",
      "(2020, '도봉', '강간', '발생', 82)\n",
      "(2020, '도봉', '강간', '검거', 87)\n",
      "(2020, '도봉', '절도', '발생', 861)\n",
      "(2020, '도봉', '절도', '검거', 379)\n",
      "(2020, '도봉', '폭력', '발생', 1234)\n",
      "(2020, '도봉', '폭력', '검거', 1022)\n",
      "(2020, '수서', '살인', '발생', 1)\n",
      "(2020, '수서', '살인', '검거', 2)\n",
      "(2020, '수서', '강도', '발생', 2)\n",
      "(2020, '수서', '강도', '검거', 1)\n",
      "(2020, '수서', '강간,추행', '발생', 195)\n",
      "(2020, '수서', '강간,추행', '검거', 194)\n",
      "(2020, '수서', '절도', '발생', 1010)\n",
      "(2020, '수서', '절도', '검거', 475)\n",
      "(2020, '수서', '폭력', '발생', 1394)\n",
      "(2020, '수서', '폭력', '검거', 1200)\n",
      "======================\n"
     ]
    },
    {
     "data": {
      "text/html": [
       "<div>\n",
       "<style scoped>\n",
       "    .dataframe tbody tr th:only-of-type {\n",
       "        vertical-align: middle;\n",
       "    }\n",
       "\n",
       "    .dataframe tbody tr th {\n",
       "        vertical-align: top;\n",
       "    }\n",
       "\n",
       "    .dataframe thead th {\n",
       "        text-align: right;\n",
       "    }\n",
       "</style>\n",
       "<table border=\"1\" class=\"dataframe\">\n",
       "  <thead>\n",
       "    <tr style=\"text-align: right;\">\n",
       "      <th></th>\n",
       "      <th>0</th>\n",
       "      <th>1</th>\n",
       "      <th>2</th>\n",
       "      <th>3</th>\n",
       "      <th>4</th>\n",
       "    </tr>\n",
       "  </thead>\n",
       "  <tbody>\n",
       "    <tr>\n",
       "      <th>0</th>\n",
       "      <td>2020</td>\n",
       "      <td>중부</td>\n",
       "      <td>살인</td>\n",
       "      <td>발생</td>\n",
       "      <td>1</td>\n",
       "    </tr>\n",
       "    <tr>\n",
       "      <th>1</th>\n",
       "      <td>2020</td>\n",
       "      <td>중부</td>\n",
       "      <td>살인</td>\n",
       "      <td>검거</td>\n",
       "      <td>1</td>\n",
       "    </tr>\n",
       "    <tr>\n",
       "      <th>2</th>\n",
       "      <td>2020</td>\n",
       "      <td>중부</td>\n",
       "      <td>강도</td>\n",
       "      <td>발생</td>\n",
       "      <td>3</td>\n",
       "    </tr>\n",
       "    <tr>\n",
       "      <th>3</th>\n",
       "      <td>2020</td>\n",
       "      <td>중부</td>\n",
       "      <td>강도</td>\n",
       "      <td>검거</td>\n",
       "      <td>4</td>\n",
       "    </tr>\n",
       "    <tr>\n",
       "      <th>4</th>\n",
       "      <td>2020</td>\n",
       "      <td>중부</td>\n",
       "      <td>강간,추행</td>\n",
       "      <td>발생</td>\n",
       "      <td>113</td>\n",
       "    </tr>\n",
       "  </tbody>\n",
       "</table>\n",
       "</div>"
      ],
      "text/plain": [
       "      0   1      2   3    4\n",
       "0  2020  중부     살인  발생    1\n",
       "1  2020  중부     살인  검거    1\n",
       "2  2020  중부     강도  발생    3\n",
       "3  2020  중부     강도  검거    4\n",
       "4  2020  중부  강간,추행  발생  113"
      ]
     },
     "execution_count": 58,
     "metadata": {},
     "output_type": "execute_result"
    }
   ],
   "source": [
    "import mysql.connector\n",
    "import pandas as pd\n",
    "\n",
    "remote = mysql.connector.connect(\n",
    "    host='192.168.35.159',\n",
    "    port = 3306,\n",
    "    user = 'newrandom',\n",
    "    password=input(),\n",
    "    database='zerobase'\n",
    ")\n",
    "\n",
    "cur = remote.cursor(buffered=True)\n",
    "\n",
    "df = pd.read_csv('../csv/2020_crime.csv', encoding='euc-kr')\n",
    "\n",
    "query = 'INSERT INTO crime_status (year, police_station, crime_type, status_type, case_number) VALUES (\"2020\", %s, %s, %s, %s)'\n",
    "\n",
    "for i, row in df.iterrows():\n",
    "    cur.execute(query, tuple(row))\n",
    "    print(tuple(row))\n",
    "    remote.commit()\n",
    "\n",
    "print('============================')\n",
    "cur.execute('SELECT * FROM crime_status')\n",
    "\n",
    "result = cur.fetchall()\n",
    "for row in result:\n",
    "    print(row)\n",
    "\n",
    "print('======================')\n",
    "df_ = pd.DataFrame(result)\n",
    "df_.head()\n",
    "\n",
    "remote.close()"
   ]
  },
  {
   "cell_type": "markdown",
   "metadata": {},
   "source": [
    "## CCTV table 만들기"
   ]
  },
  {
   "cell_type": "code",
   "execution_count": 60,
   "metadata": {},
   "outputs": [],
   "source": [
    "remote = mysql.connector.connect(\n",
    "    host = '192.168.35.159',\n",
    "    port = 3306,\n",
    "    user = 'newrandom',\n",
    "    password = input(),\n",
    "    database = 'zerobase'\n",
    ")\n",
    "\n",
    "cur = remote.cursor(buffered=True)\n",
    "# query = 'CREATE TABLE CCTV (GU CHAR, TOTAL INT, 2013 INT, 2014 INT, 2015 INT, 2016 INT)'\n",
    "query = 'CREATE TABLE cctv (기관명 varchar(8), 소계 int, 2013년도_이전 int, 2014년 int, 2015년 int, 2016년 int)'\n",
    "cur.execute(query)\n",
    "remote.commit()\n",
    "remote.close()"
   ]
  },
  {
   "cell_type": "markdown",
   "metadata": {},
   "source": [
    "### CSV에서 Pandas로 불러오기"
   ]
  },
  {
   "cell_type": "code",
   "execution_count": null,
   "metadata": {},
   "outputs": [
    {
     "data": {
      "text/html": [
       "<div>\n",
       "<style scoped>\n",
       "    .dataframe tbody tr th:only-of-type {\n",
       "        vertical-align: middle;\n",
       "    }\n",
       "\n",
       "    .dataframe tbody tr th {\n",
       "        vertical-align: top;\n",
       "    }\n",
       "\n",
       "    .dataframe thead th {\n",
       "        text-align: right;\n",
       "    }\n",
       "</style>\n",
       "<table border=\"1\" class=\"dataframe\">\n",
       "  <thead>\n",
       "    <tr style=\"text-align: right;\">\n",
       "      <th></th>\n",
       "      <th>기관명</th>\n",
       "      <th>소계</th>\n",
       "      <th>2013년도 이전</th>\n",
       "      <th>2014년</th>\n",
       "      <th>2015년</th>\n",
       "      <th>2016년</th>\n",
       "    </tr>\n",
       "  </thead>\n",
       "  <tbody>\n",
       "    <tr>\n",
       "      <th>0</th>\n",
       "      <td>강남구</td>\n",
       "      <td>3238</td>\n",
       "      <td>1292</td>\n",
       "      <td>430</td>\n",
       "      <td>584</td>\n",
       "      <td>932</td>\n",
       "    </tr>\n",
       "    <tr>\n",
       "      <th>1</th>\n",
       "      <td>강동구</td>\n",
       "      <td>1010</td>\n",
       "      <td>379</td>\n",
       "      <td>99</td>\n",
       "      <td>155</td>\n",
       "      <td>377</td>\n",
       "    </tr>\n",
       "    <tr>\n",
       "      <th>2</th>\n",
       "      <td>강북구</td>\n",
       "      <td>831</td>\n",
       "      <td>369</td>\n",
       "      <td>120</td>\n",
       "      <td>138</td>\n",
       "      <td>204</td>\n",
       "    </tr>\n",
       "    <tr>\n",
       "      <th>3</th>\n",
       "      <td>강서구</td>\n",
       "      <td>911</td>\n",
       "      <td>388</td>\n",
       "      <td>258</td>\n",
       "      <td>184</td>\n",
       "      <td>81</td>\n",
       "    </tr>\n",
       "    <tr>\n",
       "      <th>4</th>\n",
       "      <td>관악구</td>\n",
       "      <td>2109</td>\n",
       "      <td>846</td>\n",
       "      <td>260</td>\n",
       "      <td>390</td>\n",
       "      <td>613</td>\n",
       "    </tr>\n",
       "  </tbody>\n",
       "</table>\n",
       "</div>"
      ],
      "text/plain": [
       "   기관명    소계  2013년도 이전  2014년  2015년  2016년\n",
       "0  강남구  3238       1292    430    584    932\n",
       "1  강동구  1010        379     99    155    377\n",
       "2  강북구   831        369    120    138    204\n",
       "3  강서구   911        388    258    184     81\n",
       "4  관악구  2109        846    260    390    613"
      ]
     },
     "metadata": {},
     "output_type": "display_data"
    }
   ],
   "source": [
    "import mysql.connector\n",
    "import pandas as pd\n",
    "\n",
    "df = pd.read_csv('../csv/01. Seoul_CCTV.csv')\n",
    "df.head()"
   ]
  },
  {
   "cell_type": "markdown",
   "metadata": {},
   "source": [
    "### data를 CCTV SQL에 넣기"
   ]
  },
  {
   "cell_type": "code",
   "execution_count": 61,
   "metadata": {},
   "outputs": [
    {
     "name": "stdout",
     "output_type": "stream",
     "text": [
      "('강남구', 3238, 1292, 430, 584, 932)\n",
      "('강동구', 1010, 379, 99, 155, 377)\n",
      "('강북구', 831, 369, 120, 138, 204)\n",
      "('강서구', 911, 388, 258, 184, 81)\n",
      "('관악구', 2109, 846, 260, 390, 613)\n",
      "('광진구', 878, 573, 78, 53, 174)\n",
      "('구로구', 1884, 1142, 173, 246, 323)\n",
      "('금천구', 1348, 674, 51, 269, 354)\n",
      "('노원구', 1566, 542, 57, 451, 516)\n",
      "('도봉구', 825, 238, 159, 42, 386)\n",
      "('동대문구', 1870, 1070, 23, 198, 579)\n",
      "('동작구', 1302, 544, 341, 103, 314)\n",
      "('마포구', 980, 314, 118, 169, 379)\n",
      "('서대문구', 1254, 844, 50, 68, 292)\n",
      "('서초구', 2297, 1406, 157, 336, 398)\n",
      "('성동구', 1327, 730, 91, 241, 265)\n",
      "('성북구', 1651, 1009, 78, 360, 204)\n",
      "('송파구', 1081, 529, 21, 68, 463)\n",
      "('양천구', 2482, 1843, 142, 30, 467)\n",
      "('영등포구', 1277, 495, 214, 195, 373)\n",
      "('용산구', 2096, 1368, 218, 112, 398)\n",
      "('은평구', 2108, 1138, 224, 278, 468)\n",
      "('종로구', 1619, 464, 314, 211, 630)\n",
      "('중구', 1023, 413, 190, 72, 348)\n",
      "('중랑구', 916, 509, 121, 177, 109)\n"
     ]
    }
   ],
   "source": [
    "remote = mysql.connector.connect(\n",
    "    host = '192.168.35.159',\n",
    "    port = 3306,\n",
    "    user = 'newrandom',\n",
    "    password = input(),\n",
    "    database = 'zerobase'\n",
    ")\n",
    "\n",
    "cur = remote.cursor(buffered=True)\n",
    "query = 'INSERT INTO CCTV VALUES (%s, %s, %s, %s, %s, %s)'\n",
    "\n",
    "for i, row in df.iterrows():\n",
    "    cur.execute(query, tuple(row))\n",
    "    print(tuple(row))\n",
    "    remote.commit()"
   ]
  },
  {
   "cell_type": "markdown",
   "metadata": {},
   "source": [
    "#### cctv 테이블의 데이터 조회를 하여 확인하기"
   ]
  },
  {
   "cell_type": "code",
   "execution_count": 65,
   "metadata": {},
   "outputs": [
    {
     "name": "stdout",
     "output_type": "stream",
     "text": [
      "('강남구', 3238, 1292, 430, 584, 932)\n",
      "('강동구', 1010, 379, 99, 155, 377)\n",
      "('강북구', 831, 369, 120, 138, 204)\n",
      "('강서구', 911, 388, 258, 184, 81)\n",
      "('관악구', 2109, 846, 260, 390, 613)\n",
      "('광진구', 878, 573, 78, 53, 174)\n",
      "('구로구', 1884, 1142, 173, 246, 323)\n",
      "('금천구', 1348, 674, 51, 269, 354)\n",
      "('노원구', 1566, 542, 57, 451, 516)\n",
      "('도봉구', 825, 238, 159, 42, 386)\n",
      "('동대문구', 1870, 1070, 23, 198, 579)\n",
      "('동작구', 1302, 544, 341, 103, 314)\n",
      "('마포구', 980, 314, 118, 169, 379)\n",
      "('서대문구', 1254, 844, 50, 68, 292)\n",
      "('서초구', 2297, 1406, 157, 336, 398)\n",
      "('성동구', 1327, 730, 91, 241, 265)\n",
      "('성북구', 1651, 1009, 78, 360, 204)\n",
      "('송파구', 1081, 529, 21, 68, 463)\n",
      "('양천구', 2482, 1843, 142, 30, 467)\n",
      "('영등포구', 1277, 495, 214, 195, 373)\n",
      "('용산구', 2096, 1368, 218, 112, 398)\n",
      "('은평구', 2108, 1138, 224, 278, 468)\n",
      "('종로구', 1619, 464, 314, 211, 630)\n",
      "('중구', 1023, 413, 190, 72, 348)\n",
      "('중랑구', 916, 509, 121, 177, 109)\n"
     ]
    }
   ],
   "source": [
    "query = 'SELECT * FROM CCTV'\n",
    "cur.execute(query)\n",
    "result = cur.fetchall()\n",
    "\n",
    "for row in result:\n",
    "    print(row)\n",
    "\n",
    "remote.close()"
   ]
  },
  {
   "cell_type": "markdown",
   "metadata": {},
   "source": [
    "#### 조회된 데이터를 Pandas로 변환하여 출력합니다."
   ]
  },
  {
   "cell_type": "code",
   "execution_count": 64,
   "metadata": {},
   "outputs": [
    {
     "data": {
      "text/html": [
       "<div>\n",
       "<style scoped>\n",
       "    .dataframe tbody tr th:only-of-type {\n",
       "        vertical-align: middle;\n",
       "    }\n",
       "\n",
       "    .dataframe tbody tr th {\n",
       "        vertical-align: top;\n",
       "    }\n",
       "\n",
       "    .dataframe thead th {\n",
       "        text-align: right;\n",
       "    }\n",
       "</style>\n",
       "<table border=\"1\" class=\"dataframe\">\n",
       "  <thead>\n",
       "    <tr style=\"text-align: right;\">\n",
       "      <th></th>\n",
       "      <th>0</th>\n",
       "      <th>1</th>\n",
       "      <th>2</th>\n",
       "      <th>3</th>\n",
       "      <th>4</th>\n",
       "      <th>5</th>\n",
       "    </tr>\n",
       "  </thead>\n",
       "  <tbody>\n",
       "    <tr>\n",
       "      <th>0</th>\n",
       "      <td>강남구</td>\n",
       "      <td>3238</td>\n",
       "      <td>1292</td>\n",
       "      <td>430</td>\n",
       "      <td>584</td>\n",
       "      <td>932</td>\n",
       "    </tr>\n",
       "    <tr>\n",
       "      <th>1</th>\n",
       "      <td>강동구</td>\n",
       "      <td>1010</td>\n",
       "      <td>379</td>\n",
       "      <td>99</td>\n",
       "      <td>155</td>\n",
       "      <td>377</td>\n",
       "    </tr>\n",
       "    <tr>\n",
       "      <th>2</th>\n",
       "      <td>강북구</td>\n",
       "      <td>831</td>\n",
       "      <td>369</td>\n",
       "      <td>120</td>\n",
       "      <td>138</td>\n",
       "      <td>204</td>\n",
       "    </tr>\n",
       "    <tr>\n",
       "      <th>3</th>\n",
       "      <td>강서구</td>\n",
       "      <td>911</td>\n",
       "      <td>388</td>\n",
       "      <td>258</td>\n",
       "      <td>184</td>\n",
       "      <td>81</td>\n",
       "    </tr>\n",
       "    <tr>\n",
       "      <th>4</th>\n",
       "      <td>관악구</td>\n",
       "      <td>2109</td>\n",
       "      <td>846</td>\n",
       "      <td>260</td>\n",
       "      <td>390</td>\n",
       "      <td>613</td>\n",
       "    </tr>\n",
       "  </tbody>\n",
       "</table>\n",
       "</div>"
      ],
      "text/plain": [
       "     0     1     2    3    4    5\n",
       "0  강남구  3238  1292  430  584  932\n",
       "1  강동구  1010   379   99  155  377\n",
       "2  강북구   831   369  120  138  204\n",
       "3  강서구   911   388  258  184   81\n",
       "4  관악구  2109   846  260  390  613"
      ]
     },
     "execution_count": 64,
     "metadata": {},
     "output_type": "execute_result"
    }
   ],
   "source": [
    "df_ = pd.DataFrame(result)\n",
    "df_.head()"
   ]
  },
  {
   "cell_type": "markdown",
   "metadata": {},
   "source": [
    "### Primary key and Foreign key Question"
   ]
  },
  {
   "cell_type": "markdown",
   "metadata": {},
   "source": [
    "#### 1. study_id 가 primary key, patient_id 가 person 테이블의 pid와 연결된 foreign key로 지정된 study 테이블 만들기"
   ]
  },
  {
   "cell_type": "code",
   "execution_count": 1,
   "metadata": {},
   "outputs": [],
   "source": [
    "import mysql.connector"
   ]
  },
  {
   "cell_type": "code",
   "execution_count": 10,
   "metadata": {},
   "outputs": [],
   "source": [
    "remote = mysql.connector.connect(\n",
    "    host = '192.168.35.159',\n",
    "    port=3306,\n",
    "    user = 'newrandom',\n",
    "    password=input(),\n",
    "    database = 'zerobase'\n",
    ")\n",
    "cur = remote.cursor(buffered=True)\n",
    "\n",
    "# ===========#\n",
    "query = 'CREATE TABLE study (study_id int not null, study_date date, study_time time, patient_id int, \\\n",
    "        CONSTRAINT PK_study PRIMARY KEY (study_id),\\\n",
    "        CONSTRAINT FK_person FOREIGN KEY (patient_id) REFERENCES person(pid))'\n",
    "\n",
    "cur.execute(query)\n",
    "remote.commit()\n",
    "\n",
    "remote.close()"
   ]
  },
  {
   "cell_type": "markdown",
   "metadata": {},
   "source": [
    "#### 2. 생성한 테이블의 PRIMARY KEY 를 삭제하세요"
   ]
  },
  {
   "cell_type": "code",
   "execution_count": 12,
   "metadata": {},
   "outputs": [],
   "source": [
    "remote = mysql.connector.connect(\n",
    "    host = '192.168.35.159',\n",
    "    port=3306,\n",
    "    user = 'newrandom',\n",
    "    password=input(),\n",
    "    database = 'zerobase'\n",
    ")\n",
    "cur = remote.cursor(buffered=True)\n",
    "\n",
    "# ===========#\n",
    "query = 'ALTER TABLE study DROP PRIMARY KEY'\n",
    "\n",
    "cur.execute(query)\n",
    "remote.commit()\n",
    "\n",
    "remote.close()"
   ]
  },
  {
   "cell_type": "markdown",
   "metadata": {},
   "source": [
    "#### 3. 생성한 테이블의 FOREIGN KEY를 삭제하세요"
   ]
  },
  {
   "cell_type": "code",
   "execution_count": 14,
   "metadata": {},
   "outputs": [
    {
     "ename": "ProgrammingError",
     "evalue": "1091 (42000): Can't DROP 'FK_person'; check that column/key exists",
     "output_type": "error",
     "traceback": [
      "\u001b[0;31m---------------------------------------------------------------------------\u001b[0m",
      "\u001b[0;31mProgrammingError\u001b[0m                          Traceback (most recent call last)",
      "\u001b[1;32m/Users/newrandom/Documents/GitHub/MySQL/sql_ws/python to SQL.ipynb 셀 56\u001b[0m in \u001b[0;36m<cell line: 13>\u001b[0;34m()\u001b[0m\n\u001b[1;32m     <a href='vscode-notebook-cell:/Users/newrandom/Documents/GitHub/MySQL/sql_ws/python%20to%20SQL.ipynb#ch0000061?line=9'>10</a>\u001b[0m \u001b[39m# ===========#\u001b[39;00m\n\u001b[1;32m     <a href='vscode-notebook-cell:/Users/newrandom/Documents/GitHub/MySQL/sql_ws/python%20to%20SQL.ipynb#ch0000061?line=10'>11</a>\u001b[0m query \u001b[39m=\u001b[39m \u001b[39m'\u001b[39m\u001b[39mALTER TABLE study DROP FOREIGN KEY FK_person\u001b[39m\u001b[39m'\u001b[39m\n\u001b[0;32m---> <a href='vscode-notebook-cell:/Users/newrandom/Documents/GitHub/MySQL/sql_ws/python%20to%20SQL.ipynb#ch0000061?line=12'>13</a>\u001b[0m cur\u001b[39m.\u001b[39;49mexecute(query)\n\u001b[1;32m     <a href='vscode-notebook-cell:/Users/newrandom/Documents/GitHub/MySQL/sql_ws/python%20to%20SQL.ipynb#ch0000061?line=13'>14</a>\u001b[0m remote\u001b[39m.\u001b[39mcommit()\n\u001b[1;32m     <a href='vscode-notebook-cell:/Users/newrandom/Documents/GitHub/MySQL/sql_ws/python%20to%20SQL.ipynb#ch0000061?line=15'>16</a>\u001b[0m remote\u001b[39m.\u001b[39mclose()\n",
      "File \u001b[0;32m~/miniforge3/envs/practice/lib/python3.10/site-packages/mysql/connector/cursor.py:572\u001b[0m, in \u001b[0;36mMySQLCursor.execute\u001b[0;34m(self, operation, params, multi)\u001b[0m\n\u001b[1;32m    569\u001b[0m     \u001b[39mreturn\u001b[39;00m \u001b[39mself\u001b[39m\u001b[39m.\u001b[39m_execute_iter(\u001b[39mself\u001b[39m\u001b[39m.\u001b[39m_connection\u001b[39m.\u001b[39mcmd_query_iter(stmt))\n\u001b[1;32m    571\u001b[0m \u001b[39mtry\u001b[39;00m:\n\u001b[0;32m--> 572\u001b[0m     \u001b[39mself\u001b[39m\u001b[39m.\u001b[39m_handle_result(\u001b[39mself\u001b[39;49m\u001b[39m.\u001b[39;49m_connection\u001b[39m.\u001b[39;49mcmd_query(stmt))\n\u001b[1;32m    573\u001b[0m \u001b[39mexcept\u001b[39;00m errors\u001b[39m.\u001b[39mInterfaceError:\n\u001b[1;32m    574\u001b[0m     \u001b[39mif\u001b[39;00m \u001b[39mself\u001b[39m\u001b[39m.\u001b[39m_connection\u001b[39m.\u001b[39m_have_next_result:  \u001b[39m# pylint: disable=W0212\u001b[39;00m\n",
      "File \u001b[0;32m~/miniforge3/envs/practice/lib/python3.10/site-packages/mysql/connector/connection.py:922\u001b[0m, in \u001b[0;36mMySQLConnection.cmd_query\u001b[0;34m(self, query, raw, buffered, raw_as_string)\u001b[0m\n\u001b[1;32m    920\u001b[0m query \u001b[39m=\u001b[39m \u001b[39mbytes\u001b[39m(packet)\n\u001b[1;32m    921\u001b[0m \u001b[39mtry\u001b[39;00m:\n\u001b[0;32m--> 922\u001b[0m     result \u001b[39m=\u001b[39m \u001b[39mself\u001b[39;49m\u001b[39m.\u001b[39;49m_handle_result(\u001b[39mself\u001b[39;49m\u001b[39m.\u001b[39;49m_send_cmd(ServerCmd\u001b[39m.\u001b[39;49mQUERY, query))\n\u001b[1;32m    923\u001b[0m \u001b[39mexcept\u001b[39;00m errors\u001b[39m.\u001b[39mProgrammingError \u001b[39mas\u001b[39;00m err:\n\u001b[1;32m    924\u001b[0m     \u001b[39mif\u001b[39;00m err\u001b[39m.\u001b[39merrno \u001b[39m==\u001b[39m \u001b[39m3948\u001b[39m \u001b[39mand\u001b[39;00m \\\n\u001b[1;32m    925\u001b[0m        \u001b[39m\"\u001b[39m\u001b[39mLoading local data is disabled\u001b[39m\u001b[39m\"\u001b[39m \u001b[39min\u001b[39;00m err\u001b[39m.\u001b[39mmsg:\n",
      "File \u001b[0;32m~/miniforge3/envs/practice/lib/python3.10/site-packages/mysql/connector/connection.py:732\u001b[0m, in \u001b[0;36mMySQLConnection._handle_result\u001b[0;34m(self, packet)\u001b[0m\n\u001b[1;32m    730\u001b[0m     \u001b[39mreturn\u001b[39;00m \u001b[39mself\u001b[39m\u001b[39m.\u001b[39m_handle_eof(packet)\n\u001b[1;32m    731\u001b[0m \u001b[39melif\u001b[39;00m packet[\u001b[39m4\u001b[39m] \u001b[39m==\u001b[39m \u001b[39m255\u001b[39m:\n\u001b[0;32m--> 732\u001b[0m     \u001b[39mraise\u001b[39;00m errors\u001b[39m.\u001b[39mget_exception(packet)\n\u001b[1;32m    734\u001b[0m \u001b[39m# We have a text result set\u001b[39;00m\n\u001b[1;32m    735\u001b[0m column_count \u001b[39m=\u001b[39m \u001b[39mself\u001b[39m\u001b[39m.\u001b[39m_protocol\u001b[39m.\u001b[39mparse_column_count(packet)\n",
      "\u001b[0;31mProgrammingError\u001b[0m: 1091 (42000): Can't DROP 'FK_person'; check that column/key exists"
     ]
    }
   ],
   "source": [
    "remote = mysql.connector.connect(\n",
    "    host = '192.168.35.159',\n",
    "    port=3306,\n",
    "    user = 'newrandom',\n",
    "    password=input(),\n",
    "    database = 'zerobase'\n",
    ")\n",
    "cur = remote.cursor(buffered=True)\n",
    "\n",
    "# ===========#\n",
    "query = 'ALTER TABLE study DROP FOREIGN KEY FK_person'\n",
    "\n",
    "cur.execute(query)\n",
    "remote.commit()\n",
    "\n",
    "remote.close()"
   ]
  },
  {
   "cell_type": "markdown",
   "metadata": {},
   "source": [
    "#### 4. study 테이블의 patient_id를 person 테이블의 pid와 연결된 FOREIGN KEY로 등록하세요"
   ]
  },
  {
   "cell_type": "code",
   "execution_count": 15,
   "metadata": {},
   "outputs": [],
   "source": [
    "remote = mysql.connector.connect(\n",
    "    host = '192.168.35.159',\n",
    "    port=3306,\n",
    "    user = 'newrandom',\n",
    "    password=input(),\n",
    "    database = 'zerobase'\n",
    ")\n",
    "cur = remote.cursor(buffered=True)\n",
    "\n",
    "# ===========#\n",
    "query = 'ALTER TABLE study ADD CONSTRAINT FK_person FOREIGN KEY (patient_id) REFERENCES person(pid)'\n",
    "\n",
    "cur.execute(query)\n",
    "remote.commit()\n",
    "\n",
    "remote.close()"
   ]
  },
  {
   "cell_type": "markdown",
   "metadata": {},
   "source": [
    "#### 5. study 테이블의 study_id 를 PRIMARY KEY 로 등록하세요."
   ]
  },
  {
   "cell_type": "code",
   "execution_count": 16,
   "metadata": {},
   "outputs": [],
   "source": [
    "remote = mysql.connector.connect(\n",
    "    host = '192.168.35.159',\n",
    "    port=3306,\n",
    "    user = 'newrandom',\n",
    "    password=input(),\n",
    "    database = 'zerobase'\n",
    ")\n",
    "cur = remote.cursor(buffered=True)\n",
    "\n",
    "# ===========#\n",
    "query = 'ALTER TABLE study ADD CONSTRAINT PK_study PRIMARY KEY (study_id)'\n",
    "\n",
    "cur.execute(query)\n",
    "remote.commit()\n",
    "\n",
    "remote.close()"
   ]
  },
  {
   "cell_type": "markdown",
   "metadata": {},
   "source": [
    "# Aggregate Functions (집계함수)"
   ]
  },
  {
   "cell_type": "markdown",
   "metadata": {},
   "source": [
    "### 1. Count"
   ]
  },
  {
   "cell_type": "markdown",
   "metadata": {},
   "source": [
    "- crime_status 테이블에서 경찰서는 총 몇군데인가?\n"
   ]
  },
  {
   "cell_type": "code",
   "execution_count": 20,
   "metadata": {},
   "outputs": [
    {
     "name": "stdout",
     "output_type": "stream",
     "text": [
      "[(31,)]\n"
     ]
    }
   ],
   "source": [
    "remote = mysql.connector.connect(\n",
    "    host = '192.168.35.159',\n",
    "    port=3306,\n",
    "    user = 'newrandom',\n",
    "    password=input(),\n",
    "    database = 'zerobase'\n",
    ")\n",
    "cur = remote.cursor(buffered=True)\n",
    "\n",
    "# ===========#\n",
    "query = 'SELECT COUNT(DISTINCT police_station) FROM crime_status'\n",
    "\n",
    "cur.execute(query)\n",
    "answer = cur.fetchall()\n",
    "print(answer)\n",
    "\n",
    "remote.close()"
   ]
  },
  {
   "cell_type": "markdown",
   "metadata": {},
   "source": [
    "- crime_type 은 총 몇가지인가?"
   ]
  },
  {
   "cell_type": "code",
   "execution_count": 21,
   "metadata": {},
   "outputs": [
    {
     "name": "stdout",
     "output_type": "stream",
     "text": [
      "[(6,)]\n"
     ]
    }
   ],
   "source": [
    "remote = mysql.connector.connect(\n",
    "    host = '192.168.35.159',\n",
    "    port=3306,\n",
    "    user = 'newrandom',\n",
    "    password= input(),\n",
    "    database = 'zerobase'\n",
    ")\n",
    "cur = remote.cursor(buffered=True)\n",
    "\n",
    "# ===========#\n",
    "query = 'SELECT COUNT(DISTINCT crime_type) FROM crime_status'\n",
    "\n",
    "cur.execute(query)\n",
    "answer = cur.fetchall()\n",
    "print(answer)\n",
    "\n",
    "remote.close()"
   ]
  },
  {
   "cell_type": "markdown",
   "metadata": {},
   "source": [
    "### 2. Sum"
   ]
  },
  {
   "cell_type": "markdown",
   "metadata": {},
   "source": [
    "- 범죄 총 발생 건수는"
   ]
  },
  {
   "cell_type": "code",
   "execution_count": 23,
   "metadata": {},
   "outputs": [],
   "source": [
    "password = input()"
   ]
  },
  {
   "cell_type": "code",
   "execution_count": 25,
   "metadata": {},
   "outputs": [
    {
     "name": "stdout",
     "output_type": "stream",
     "text": [
      "[(Decimal('92679'),)]\n"
     ]
    }
   ],
   "source": [
    "remote = mysql.connector.connect(\n",
    "    host = '192.168.35.159',\n",
    "    port = 3306,\n",
    "    user = 'newrandom',\n",
    "    password = password,\n",
    "    database = 'zerobase'\n",
    ")\n",
    "\n",
    "cur = remote.cursor(buffered=True)\n",
    "\n",
    "# =============== #\n",
    "query = 'SELECT SUM(case_number) FROM crime_status WHERE status_type = \"발생\"'\n",
    "\n",
    "cur.execute(query)\n",
    "answer = cur.fetchall()\n",
    "print(answer)\n",
    "\n",
    "remote.close()"
   ]
  },
  {
   "cell_type": "markdown",
   "metadata": {},
   "source": [
    "- 살인의 총 발생 건수는"
   ]
  },
  {
   "cell_type": "code",
   "execution_count": 26,
   "metadata": {},
   "outputs": [
    {
     "name": "stdout",
     "output_type": "stream",
     "text": [
      "[(Decimal('141'),)]\n"
     ]
    }
   ],
   "source": [
    "remote = mysql.connector.connect(\n",
    "    host = '192.168.35.159',\n",
    "    port = 3306,\n",
    "    user = 'newrandom',\n",
    "    password = password,\n",
    "    database = 'zerobase'\n",
    ")\n",
    "\n",
    "cur = remote.cursor(buffered=True)\n",
    "\n",
    "# =============== #\n",
    "query = 'SELECT SUM(case_number) FROM crime_status\\\n",
    "        WHERE crime_type LIKE \"%살인%\" AND status_type = \"발생\"'\n",
    "\n",
    "cur.execute(query)\n",
    "answer = cur.fetchall()\n",
    "print(answer)\n",
    "\n",
    "remote.close()"
   ]
  },
  {
   "cell_type": "markdown",
   "metadata": {},
   "source": [
    "- 중부 경찰서에서 검거된 총 범죄 건수는"
   ]
  },
  {
   "cell_type": "code",
   "execution_count": 29,
   "metadata": {},
   "outputs": [
    {
     "name": "stdout",
     "output_type": "stream",
     "text": [
      "[(Decimal('1406'),)]\n"
     ]
    }
   ],
   "source": [
    "remote = mysql.connector.connect(\n",
    "    host = '192.168.35.159',\n",
    "    port = 3306,\n",
    "    user = 'newrandom',\n",
    "    password = password,\n",
    "    database = 'zerobase'\n",
    ")\n",
    "\n",
    "cur = remote.cursor(buffered=True)\n",
    "\n",
    "# =============== #\n",
    "query = 'SELECT SUM(case_number) FROM crime_status\\\n",
    "         WHERE police_station = \"중부\"\\\n",
    "         AND status_type = \\'검거\\''\n",
    "\n",
    "cur.execute(query)\n",
    "answer = cur.fetchall()\n",
    "print(answer)\n",
    "\n",
    "remote.close()"
   ]
  },
  {
   "cell_type": "markdown",
   "metadata": {},
   "source": [
    "#### police_station table에서 경찰서는 총 몇개이고, 각각 경찰서 이름은 무엇인지 확인"
   ]
  },
  {
   "cell_type": "code",
   "execution_count": 33,
   "metadata": {},
   "outputs": [
    {
     "name": "stdout",
     "output_type": "stream",
     "text": [
      "경찰서 개수 :  [(32,)]\n",
      "0 경찰서 이름 : ('서울특별시경찰청',)\n",
      "1 경찰서 이름 : ('서울중부경찰서',)\n",
      "2 경찰서 이름 : ('서울종로경찰서',)\n",
      "3 경찰서 이름 : ('서울남대문경찰서',)\n",
      "4 경찰서 이름 : ('서울서대문경찰서',)\n",
      "5 경찰서 이름 : ('서울혜화경찰서',)\n",
      "6 경찰서 이름 : ('서울용산경찰서',)\n",
      "7 경찰서 이름 : ('서울성북경찰서',)\n",
      "8 경찰서 이름 : ('서울동대문경찰서',)\n",
      "9 경찰서 이름 : ('서울마포경찰서',)\n",
      "10 경찰서 이름 : ('서울영등포경찰서',)\n",
      "11 경찰서 이름 : ('서울성동경찰서',)\n",
      "12 경찰서 이름 : ('서울동작경찰서',)\n",
      "13 경찰서 이름 : ('서울광진경찰서',)\n",
      "14 경찰서 이름 : ('서울서부경찰서',)\n",
      "15 경찰서 이름 : ('서울강북경찰서',)\n",
      "16 경찰서 이름 : ('서울금천경찰서',)\n",
      "17 경찰서 이름 : ('서울중랑경찰서',)\n",
      "18 경찰서 이름 : ('서울강남경찰서',)\n",
      "19 경찰서 이름 : ('서울관악경찰서',)\n",
      "20 경찰서 이름 : ('서울강서경찰서',)\n",
      "21 경찰서 이름 : ('서울강동경찰서',)\n",
      "22 경찰서 이름 : ('서울종암경찰서',)\n",
      "23 경찰서 이름 : ('서울구로경찰서',)\n",
      "24 경찰서 이름 : ('서울서초경찰서',)\n",
      "25 경찰서 이름 : ('서울양천경찰서',)\n",
      "26 경찰서 이름 : ('서울송파경찰서',)\n",
      "27 경찰서 이름 : ('서울노원경찰서',)\n",
      "28 경찰서 이름 : ('서울방배경찰서',)\n",
      "29 경찰서 이름 : ('서울도봉경찰서',)\n",
      "30 경찰서 이름 : ('서울수서경찰서',)\n",
      "31 경찰서 이름 : ('서울은평경찰서',)\n"
     ]
    }
   ],
   "source": [
    "remote = mysql.connector.connect(\n",
    "    host = '192.168.35.159',\n",
    "    port = 3306,\n",
    "    user = 'newrandom',\n",
    "    password = password,\n",
    "    database = 'zerobase'\n",
    ")\n",
    "\n",
    "cur = remote.cursor(buffered=True)\n",
    "\n",
    "# =============== #\n",
    "query = 'SELECT COUNT(DISTINCT name) FROM police_station;'\n",
    "\n",
    "cur.execute(query)\n",
    "answer = cur.fetchall()\n",
    "print('경찰서 개수 : ',answer)\n",
    "\n",
    "query = 'SELECT name FROM police_station;'\n",
    "cur.execute(query)\n",
    "answer = cur.fetchall()\n",
    "for _ in answer:\n",
    "    \n",
    "    print(answer.index(_), '경찰서 이름 :', _)\n",
    "\n",
    "remote.close()"
   ]
  },
  {
   "cell_type": "markdown",
   "metadata": {},
   "source": [
    "#### crime_status 에서 status_type은 총 몇개이고, 각각 타입은 무엇인지 확인하세요."
   ]
  },
  {
   "cell_type": "code",
   "execution_count": 34,
   "metadata": {},
   "outputs": [
    {
     "name": "stdout",
     "output_type": "stream",
     "text": [
      "[(2,)]\n",
      "=========\n",
      "[('발생',), ('검거',)]\n"
     ]
    }
   ],
   "source": [
    "remote = mysql.connector.connect(\n",
    "    host = '192.168.35.159',\n",
    "    port = 3306,\n",
    "    user = 'newrandom',\n",
    "    password = password,\n",
    "    database = 'zerobase'\n",
    ")\n",
    "\n",
    "cur = remote.cursor(buffered=True)\n",
    "\n",
    "query = 'SELECT COUNT(DISTINCT status_type) FROM crime_status'\n",
    "\n",
    "cur.execute(query)\n",
    "answer = cur.fetchall()\n",
    "print(answer)\n",
    "\n",
    "# ================= #\n",
    "print( '=========')\n",
    "query = 'SELECT DISTINCT status_type FROM crime_status'\n",
    "cur.execute(query)\n",
    "answer = cur.fetchall()\n",
    "print(answer)\n",
    "\n",
    "remote.close()"
   ]
  },
  {
   "cell_type": "markdown",
   "metadata": {},
   "source": [
    "#### 종로경찰서와 남대문경찰서의 강도 발생 건수의 합을 구하세요."
   ]
  },
  {
   "cell_type": "code",
   "execution_count": 35,
   "metadata": {},
   "outputs": [
    {
     "name": "stdout",
     "output_type": "stream",
     "text": [
      "[(Decimal('6'),)]\n"
     ]
    }
   ],
   "source": [
    "remote = mysql.connector.connect(\n",
    "    host = '192.168.35.159',\n",
    "    port = 3306,\n",
    "    user = 'newrandom',\n",
    "    password = password,\n",
    "    database = 'zerobase'\n",
    ")\n",
    "\n",
    "cur = remote.cursor(buffered=True)\n",
    "\n",
    "query = 'SELECT SUM(case_number) FROM crime_status \\\n",
    "        WHERE police_station IN (\"종로\", \"남대문\")\\\n",
    "        AND crime_type = \"강도\"\\\n",
    "        AND status_type = \"발생\"'\n",
    "\n",
    "cur.execute(query)\n",
    "answer = cur.fetchall()\n",
    "print(answer)\n",
    "\n",
    "remote.close()\n",
    "\n",
    "\n"
   ]
  },
  {
   "cell_type": "markdown",
   "metadata": {},
   "source": [
    "#### 폭력 범죄의 검거 건수의 합을 구하세요."
   ]
  },
  {
   "cell_type": "code",
   "execution_count": 37,
   "metadata": {},
   "outputs": [
    {
     "name": "stdout",
     "output_type": "stream",
     "text": [
      "[(Decimal('41019'),)]\n"
     ]
    }
   ],
   "source": [
    "remote = mysql.connector.connect(\n",
    "    host = '192.168.35.159',\n",
    "    port = 3306,\n",
    "    user = 'newrandom',\n",
    "    password = password,\n",
    "    database = 'zerobase'\n",
    ")\n",
    "\n",
    "cur = remote.cursor(buffered=True)\n",
    "\n",
    "query = 'SELECT SUM(case_number) FROM crime_status \\\n",
    "        WHERE crime_type = \"폭력\" \\\n",
    "        AND status_type = \"검거\" '\n",
    "\n",
    "cur.execute(query)\n",
    "answer = cur.fetchall()\n",
    "print(answer)\n",
    "\n",
    "remote.close()\n"
   ]
  },
  {
   "cell_type": "markdown",
   "metadata": {},
   "source": [
    "### 3. Avg"
   ]
  },
  {
   "cell_type": "code",
   "execution_count": 38,
   "metadata": {},
   "outputs": [
    {
     "name": "stdout",
     "output_type": "stream",
     "text": [
      "[(Decimal('1323.1935'),)]\n"
     ]
    }
   ],
   "source": [
    "remote = mysql.connector.connect(\n",
    "    host= '192.168.35.159',\n",
    "    port = 3306,\n",
    "    user = 'newrandom',\n",
    "    password=password,\n",
    "    database = 'zerobase'\n",
    ")\n",
    "\n",
    "cur = remote.cursor(buffered=True)\n",
    "\n",
    "# 평균 폭력 검거 건수\n",
    "query = \"SELECT AVG(case_number) FROM crime_status\\\n",
    "        WHERE crime_type LIKE '폭력' \\\n",
    "        AND status_type='검거'\"\n",
    "\n",
    "cur.execute(query)\n",
    "print(cur.fetchall())\n",
    "\n",
    "remote.close()"
   ]
  },
  {
   "cell_type": "code",
   "execution_count": 39,
   "metadata": {},
   "outputs": [
    {
     "name": "stdout",
     "output_type": "stream",
     "text": [
      "[(Decimal('411.4000'),)]\n"
     ]
    }
   ],
   "source": [
    "remote = mysql.connector.connect(\n",
    "    host= '192.168.35.159',\n",
    "    port = 3306,\n",
    "    user = 'newrandom',\n",
    "    password=password,\n",
    "    database = 'zerobase'\n",
    ")\n",
    "\n",
    "cur = remote.cursor(buffered=True)\n",
    "\n",
    "# 중부 경찰서 범죄 평균 발생 건수\n",
    "query = \"SELECT AVG(CASE_NUMBER) FROM CRIME_STATUS\\\n",
    "         WHERE POLICE_STATION = '중부' AND STATUS_TYPE = '발생'\"\n",
    "\n",
    "cur.execute(query)\n",
    "print(cur.fetchall())\n",
    "\n",
    "remote.close()"
   ]
  },
  {
   "cell_type": "markdown",
   "metadata": {},
   "source": [
    "### 4. Min"
   ]
  },
  {
   "cell_type": "code",
   "execution_count": 40,
   "metadata": {},
   "outputs": [
    {
     "name": "stdout",
     "output_type": "stream",
     "text": [
      "[(1,)]\n"
     ]
    }
   ],
   "source": [
    "remote = mysql.connector.connect(\n",
    "    host= '192.168.35.159',\n",
    "    port = 3306,\n",
    "    user = 'newrandom',\n",
    "    password=password,\n",
    "    database = 'zerobase'\n",
    ")\n",
    "\n",
    "cur = remote.cursor(buffered=True)\n",
    "\n",
    "# 강도 발생 건수가 가장 적은 경우 몇 건\n",
    "query = \"SELECT MIN(CASE_NUMBER)\\\n",
    "        FROM CRIME_STATUS\\\n",
    "        WHERE CRIME_TYPE = '강도' AND STATUS_TYPE = '발생'\"\n",
    "\n",
    "cur.execute(query)\n",
    "print(cur.fetchall())\n",
    "\n",
    "remote.close()"
   ]
  },
  {
   "cell_type": "code",
   "execution_count": 41,
   "metadata": {},
   "outputs": [
    {
     "name": "stdout",
     "output_type": "stream",
     "text": [
      "[(1,)]\n"
     ]
    }
   ],
   "source": [
    "remote = mysql.connector.connect(\n",
    "    host= '192.168.35.159',\n",
    "    port = 3306,\n",
    "    user = 'newrandom',\n",
    "    password=password,\n",
    "    database = 'zerobase'\n",
    ")\n",
    "\n",
    "cur = remote.cursor(buffered=True)\n",
    "\n",
    "# 중부경찰서에서 가장 낮은 검거 건수는?\n",
    "query = \"SELECT MIN(CASE_NUMBER) FROM CRIME_STATUS\\\n",
    "        WHERE POLICE_STATION = '중부' AND STATUS_TYPE = '검거'\"\n",
    "\n",
    "cur.execute(query)\n",
    "print(cur.fetchall())\n",
    "\n",
    "remote.close()"
   ]
  },
  {
   "cell_type": "markdown",
   "metadata": {},
   "source": [
    "### 5. Max"
   ]
  },
  {
   "cell_type": "code",
   "execution_count": 42,
   "metadata": {},
   "outputs": [
    {
     "name": "stdout",
     "output_type": "stream",
     "text": [
      "[(12,)]\n"
     ]
    }
   ],
   "source": [
    "remote = mysql.connector.connect(\n",
    "    host= '192.168.35.159',\n",
    "    port = 3306,\n",
    "    user = 'newrandom',\n",
    "    password=password,\n",
    "    database = 'zerobase'\n",
    ")\n",
    "\n",
    "cur = remote.cursor(buffered=True)\n",
    "\n",
    "# 살인이 가장 많이 검거된 건수는\n",
    "query = \"SELECT MAX(CASE_NUMBER) FROM CRIME_STATUS\\\n",
    "        WHERE CRIME_TYPE = '살인' AND STATUS_TYPE='검거'\"\n",
    "\n",
    "cur.execute(query)\n",
    "print(cur.fetchall())\n",
    "\n",
    "remote.close()"
   ]
  },
  {
   "cell_type": "code",
   "execution_count": 43,
   "metadata": {},
   "outputs": [
    {
     "name": "stdout",
     "output_type": "stream",
     "text": [
      "[(2283,)]\n"
     ]
    }
   ],
   "source": [
    "remote = mysql.connector.connect(\n",
    "    host= '192.168.35.159',\n",
    "    port = 3306,\n",
    "    user = 'newrandom',\n",
    "    password=password,\n",
    "    database = 'zerobase'\n",
    ")\n",
    "\n",
    "cur = remote.cursor(buffered=True)\n",
    "\n",
    "# 강남경찰서에서 가장 많이 발생한 범죄 건수는?\n",
    "query = \"SELECT MAX(CASE_NUMBER) FROM CRIME_STATUS\\\n",
    "        WHERE POLICE_STATION = '강남' AND STATUS_TYPE='발생'\"\n",
    "\n",
    "cur.execute(query)\n",
    "print(cur.fetchall())\n",
    "\n",
    "remote.close()"
   ]
  },
  {
   "cell_type": "markdown",
   "metadata": {},
   "source": [
    "### 예제 1."
   ]
  },
  {
   "cell_type": "markdown",
   "metadata": {},
   "source": [
    "#### 살인의 평균 발생 건수를 검색하고 확인하세요."
   ]
  },
  {
   "cell_type": "code",
   "execution_count": 45,
   "metadata": {},
   "outputs": [
    {
     "name": "stdout",
     "output_type": "stream",
     "text": [
      "[(Decimal('4.5484'),)]\n"
     ]
    }
   ],
   "source": [
    "remote = mysql.connector.connect(\n",
    "    host= '192.168.35.159',\n",
    "    port = 3306,\n",
    "    user = 'newrandom',\n",
    "    password=password,\n",
    "    database = 'zerobase'\n",
    ")\n",
    "\n",
    "cur = remote.cursor(buffered=True)\n",
    "\n",
    "\n",
    "query = \"SELECT AVG(CASE_NUMBER) FROM CRIME_STATUS\\\n",
    "        WHERE CRIME_TYPE='살인' AND STATUS_TYPE = '발생'\"\n",
    "\n",
    "cur.execute(query)\n",
    "print(cur.fetchall())\n",
    "\n",
    "remote.close()"
   ]
  },
  {
   "cell_type": "markdown",
   "metadata": {},
   "source": [
    "#### 서초경찰서의 범죄 별 평균 검거 건수를 검색하고 확인하세요."
   ]
  },
  {
   "cell_type": "code",
   "execution_count": 62,
   "metadata": {},
   "outputs": [
    {
     "name": "stdout",
     "output_type": "stream",
     "text": [
      "[('강간,추행', Decimal('253.0000')), ('강도', Decimal('3.0000')), ('살인', Decimal('4.0000')), ('절도', Decimal('801.0000')), ('폭력', Decimal('1415.0000'))]\n"
     ]
    }
   ],
   "source": [
    "remote = mysql.connector.connect(\n",
    "    host= '192.168.35.159',\n",
    "    port = 3306,\n",
    "    user = 'newrandom',\n",
    "    password=password,\n",
    "    database = 'zerobase'\n",
    ")\n",
    "\n",
    "cur = remote.cursor(buffered=True)\n",
    "\n",
    "\n",
    "# query = \"SELECT DISTINCT CRIME_TYPE, AVG(CASE_NUMBER) FROM CRIME_STATUS\\\n",
    "#         WHERE POLICE_STATION = '서초' \\\n",
    "#         AND STATUS_TYPE = '검거'\\\n",
    "#         GROUP BY CRIME_TYPE\"\n",
    "# >> [('강간,추행', Decimal('253.0000')), ('강도', Decimal('3.0000')), ('살인', Decimal('4.0000')), ('절도', Decimal('801.0000')), ('폭력', Decimal('1415.0000'))]\n",
    "\n",
    "query = \"SELECT CRIME_TYPE, AVG(CASE_NUMBER) FROM CRIME_STATUS\\\n",
    "    WHERE POLICE_STATION = '서초'\\\n",
    "    AND STATUS_TYPE = '검거'\\\n",
    "        GROUP BY CRIME_TYPE\"\n",
    "# >> [('강간,추행', Decimal('253.0000')), ('강도', Decimal('3.0000')), ('살인', Decimal('4.0000')), ('절도', Decimal('801.0000')), ('폭력', Decimal('1415.0000'))]\n",
    "\n",
    "cur.execute(query)\n",
    "print(cur.fetchall())\n",
    "\n",
    "remote.close()"
   ]
  },
  {
   "cell_type": "markdown",
   "metadata": {},
   "source": [
    "#### 구로경찰서와 도봉경찰서의 평균 살인 검거 건수를 검색하고 확인하세요."
   ]
  },
  {
   "cell_type": "code",
   "execution_count": 54,
   "metadata": {},
   "outputs": [
    {
     "name": "stdout",
     "output_type": "stream",
     "text": [
      "[(Decimal('3.0000'),)]\n"
     ]
    }
   ],
   "source": [
    "remote = mysql.connector.connect(\n",
    "    host= '192.168.35.159',\n",
    "    port = 3306,\n",
    "    user = 'newrandom',\n",
    "    password=password,\n",
    "    database = 'zerobase'\n",
    ")\n",
    "\n",
    "cur = remote.cursor(buffered=True)\n",
    "\n",
    "\n",
    "query = \"SELECT AVG(CASE_NUMBER) FROM CRIME_STATUS\\\n",
    "        WHERE POLICE_STATION IN ('구로','도봉')\\\n",
    "        AND CRIME_TYPE = '살인'\\\n",
    "        AND STATUS_TYPE = '검거'\"\n",
    "\n",
    "cur.execute(query)\n",
    "print(cur.fetchall())\n",
    "\n",
    "remote.close()"
   ]
  },
  {
   "cell_type": "markdown",
   "metadata": {},
   "source": [
    "#### 광진경찰서에서 가장 낮은 범죄 검거 건수를 검색하고 확인하세요.ㅡ"
   ]
  },
  {
   "cell_type": "code",
   "execution_count": 55,
   "metadata": {},
   "outputs": [
    {
     "name": "stdout",
     "output_type": "stream",
     "text": [
      "[(2,)]\n"
     ]
    }
   ],
   "source": [
    "remote = mysql.connector.connect(\n",
    "    host= '192.168.35.159',\n",
    "    port = 3306,\n",
    "    user = 'newrandom',\n",
    "    password=password,\n",
    "    database = 'zerobase'\n",
    ")\n",
    "\n",
    "cur = remote.cursor(buffered=True)\n",
    "\n",
    "\n",
    "query = \"SELECT MIN(CASE_NUMBER) FROM CRIME_STATUS\\\n",
    "        WHERE POLICE_STATION = '광진'\\\n",
    "        AND STATUS_TYPE='검거'\"\n",
    "\n",
    "cur.execute(query)\n",
    "print(cur.fetchall())\n",
    "\n",
    "remote.close()"
   ]
  },
  {
   "cell_type": "markdown",
   "metadata": {},
   "source": [
    "#### 성북 경찰서에서 가장 낮은 범죄 발생 건수를 검색하고 확인하세요."
   ]
  },
  {
   "cell_type": "code",
   "execution_count": 56,
   "metadata": {},
   "outputs": [
    {
     "name": "stdout",
     "output_type": "stream",
     "text": [
      "[(0,)]\n"
     ]
    }
   ],
   "source": [
    "remote = mysql.connector.connect(\n",
    "    host= '192.168.35.159',\n",
    "    port = 3306,\n",
    "    user = 'newrandom',\n",
    "    password=password,\n",
    "    database = 'zerobase'\n",
    ")\n",
    "\n",
    "cur = remote.cursor(buffered=True)\n",
    "\n",
    "\n",
    "query = \"SELECT MIN(CASE_NUMBER) FROM CRIME_STATUS\\\n",
    "        WHERE POLICE_STATION = '성북'\\\n",
    "        AND STATUS_TYPE = '발생'\"\n",
    "\n",
    "cur.execute(query)\n",
    "print(cur.fetchall())\n",
    "\n",
    "remote.close()"
   ]
  },
  {
   "cell_type": "markdown",
   "metadata": {},
   "source": [
    "#### 영등포경찰서의 가장 높은 범죄 발생 건수를 검색하고 확인하세요."
   ]
  },
  {
   "cell_type": "code",
   "execution_count": 57,
   "metadata": {},
   "outputs": [
    {
     "name": "stdout",
     "output_type": "stream",
     "text": [
      "[(2701,)]\n"
     ]
    }
   ],
   "source": [
    "remote = mysql.connector.connect(\n",
    "    host= '192.168.35.159',\n",
    "    port = 3306,\n",
    "    user = 'newrandom',\n",
    "    password=password,\n",
    "    database = 'zerobase'\n",
    ")\n",
    "\n",
    "cur = remote.cursor(buffered=True)\n",
    "\n",
    "\n",
    "query = \"SELECT MAX(CASE_NUMBER) FROM CRIME_STATUS\\\n",
    "        WHERE POLICE_STATION = '영등포'\\\n",
    "        AND STATUS_TYPE = '발생'\"\n",
    "\n",
    "cur.execute(query)\n",
    "print(cur.fetchall())\n",
    "\n",
    "remote.close()"
   ]
  },
  {
   "cell_type": "markdown",
   "metadata": {},
   "source": [
    "#### 절도 검거가 가장 많은 건수를 검색하고 확인하세요."
   ]
  },
  {
   "cell_type": "code",
   "execution_count": 59,
   "metadata": {},
   "outputs": [
    {
     "name": "stdout",
     "output_type": "stream",
     "text": [
      "[(1137,)]\n"
     ]
    }
   ],
   "source": [
    "remote = mysql.connector.connect(\n",
    "    host= '192.168.35.159',\n",
    "    port = 3306,\n",
    "    user = 'newrandom',\n",
    "    password=password,\n",
    "    database = 'zerobase'\n",
    ")\n",
    "\n",
    "cur = remote.cursor(buffered=True)\n",
    "\n",
    "\n",
    "query = \"SELECT MAX(CASE_NUMBER) FROM CRIME_STATUS\\\n",
    "        WHERE CRIME_TYPE = '절도'\\\n",
    "        AND STATUS_TYPE = '검거'\"\n",
    "\n",
    "cur.execute(query)\n",
    "print(cur.fetchall())\n",
    "\n",
    "remote.close()"
   ]
  },
  {
   "cell_type": "markdown",
   "metadata": {},
   "source": [
    "### 6. GROUP BY"
   ]
  },
  {
   "cell_type": "code",
   "execution_count": 60,
   "metadata": {},
   "outputs": [
    {
     "name": "stdout",
     "output_type": "stream",
     "text": [
      "[('강남',), ('강동',), ('강북',), ('강서',), ('관악',), ('광진',), ('구로',), ('금천',), ('남대문',), ('노원',), ('도봉',), ('동대문',), ('동작',), ('마포',), ('방배',), ('서대문',), ('서부',), ('서초',), ('성동',), ('성북',), ('송파',), ('수서',), ('양천',), ('영등포',), ('용산',), ('은평',), ('종로',), ('종암',), ('중랑',), ('중부',), ('혜화',)]\n"
     ]
    }
   ],
   "source": [
    "remote = mysql.connector.connect(\n",
    "    host= '192.168.35.159',\n",
    "    port = 3306,\n",
    "    user = 'newrandom',\n",
    "    password=password,\n",
    "    database = 'zerobase'\n",
    ")\n",
    "\n",
    "cur = remote.cursor(buffered=True)\n",
    "\n",
    "\n",
    "query = \"SELECT POLICE_STATION FROM CRIME_STATUS\\\n",
    "        GROUP BY POLICE_STATION\\\n",
    "        ORDER BY POLICE_STATION\"\n",
    "\n",
    "cur.execute(query)\n",
    "print(cur.fetchall())\n",
    "\n",
    "remote.close()"
   ]
  },
  {
   "cell_type": "code",
   "execution_count": 61,
   "metadata": {},
   "outputs": [
    {
     "name": "stdout",
     "output_type": "stream",
     "text": [
      "[('중부',), ('종로',), ('남대문',), ('서대문',), ('혜화',)]\n"
     ]
    }
   ],
   "source": [
    "remote = mysql.connector.connect(\n",
    "    host= '192.168.35.159',\n",
    "    port = 3306,\n",
    "    user = 'newrandom',\n",
    "    password=password,\n",
    "    database = 'zerobase'\n",
    ")\n",
    "\n",
    "cur = remote.cursor(buffered=True)\n",
    "\n",
    "## DISTINCT 는 ORDER BY 를 사용할 수 없다.\n",
    "query = \"SELECT DISTINCT POLICE_STATION FROM CRIME_STATUS LIMIT 5\"\n",
    "\n",
    "cur.execute(query)\n",
    "print(cur.fetchall())\n",
    "\n",
    "remote.close()"
   ]
  },
  {
   "cell_type": "markdown",
   "metadata": {},
   "source": [
    "#### 경찰서 별로 총 발생 범죄 건수를 검색\n"
   ]
  },
  {
   "cell_type": "code",
   "execution_count": 63,
   "metadata": {},
   "outputs": [
    {
     "name": "stdout",
     "output_type": "stream",
     "text": [
      "[('강남', Decimal('4754')), ('강동', Decimal('3788')), ('강북', Decimal('2770')), ('강서', Decimal('4415')), ('관악', Decimal('5261')), ('광진', Decimal('3601')), ('구로', Decimal('4175')), ('금천', Decimal('2598')), ('남대문', Decimal('1354')), ('노원', Decimal('3743')), ('도봉', Decimal('2179')), ('동대문', Decimal('3401')), ('동작', Decimal('3200')), ('마포', Decimal('3688')), ('방배', Decimal('836')), ('서대문', Decimal('2533')), ('서부', Decimal('1362')), ('서초', Decimal('3765')), ('성동', Decimal('2362')), ('성북', Decimal('1208')), ('송파', Decimal('5410')), ('수서', Decimal('2602')), ('양천', Decimal('3216')), ('영등포', Decimal('5217')), ('용산', Decimal('2969')), ('은평', Decimal('2028')), ('종로', Decimal('1694')), ('종암', Decimal('1359')), ('중랑', Decimal('3726')), ('중부', Decimal('2057')), ('혜화', Decimal('1408'))]\n"
     ]
    }
   ],
   "source": [
    "remote = mysql.connector.connect(\n",
    "    host = '192.168.35.159',\n",
    "    port = 3306,\n",
    "    user = 'newrandom',\n",
    "    password = password,\n",
    "    database='zerobase'\n",
    ")\n",
    "\n",
    "cur = remote.cursor(buffered=True)\n",
    "query = 'SELECT POLICE_STATION, SUM(CASE_NUMBER)\\\n",
    "        FROM CRIME_STATUS\\\n",
    "            WHERE STATUS_TYPE=\\'발생\\'\\\n",
    "                GROUP BY POLICE_STATION'\n",
    "\n",
    "cur.execute(query)\n",
    "print(cur.fetchall())\n",
    "\n",
    "remote.close()\n"
   ]
  },
  {
   "cell_type": "markdown",
   "metadata": {},
   "source": [
    "#### 경찰서 별로 평균 범죄 검거 건수를 검색\n"
   ]
  },
  {
   "cell_type": "code",
   "execution_count": 64,
   "metadata": {},
   "outputs": [
    {
     "name": "stdout",
     "output_type": "stream",
     "text": [
      "[('강남', Decimal('674.6000')), ('강동', Decimal('532.4000')), ('강북', Decimal('451.8000')), ('강서', Decimal('678.6000')), ('관악', Decimal('771.6000')), ('광진', Decimal('502.2000')), ('구로', Decimal('596.8000')), ('금천', Decimal('393.2000')), ('남대문', Decimal('183.4000')), ('노원', Decimal('516.2000')), ('도봉', Decimal('298.0000')), ('동대문', Decimal('493.0000')), ('동작', Decimal('417.2000')), ('마포', Decimal('506.8000')), ('방배', Decimal('115.2000')), ('서대문', Decimal('341.2000')), ('서부', Decimal('213.0000')), ('서초', Decimal('495.2000')), ('성동', Decimal('354.8000')), ('성북', Decimal('184.4000')), ('송파', Decimal('708.8000')), ('수서', Decimal('374.4000')), ('양천', Decimal('417.2000')), ('영등포', Decimal('674.2000')), ('용산', Decimal('411.2000')), ('은평', Decimal('293.2000')), ('종로', Decimal('235.8000')), ('종암', Decimal('205.0000')), ('중랑', Decimal('556.2000')), ('중부', Decimal('281.2000')), ('혜화', Decimal('198.8000'))]\n"
     ]
    }
   ],
   "source": [
    "remote = mysql.connector.connect(\n",
    "    host = '192.168.35.159',\n",
    "    port = 3306,\n",
    "    user = 'newrandom',\n",
    "    password = password,\n",
    "    database='zerobase'\n",
    ")\n",
    "\n",
    "cur = remote.cursor(buffered=True)\n",
    "query = 'SELECT POLICE_STATION, AVG(CASE_NUMBER) AS \"평균건수\" FROM CRIME_STATUS\\\n",
    "    WHERE STATUS_TYPE = \"검거\"\\\n",
    "        GROUP BY POLICE_STATION'\n",
    "\n",
    "cur.execute(query)\n",
    "print(cur.fetchall())\n",
    "\n",
    "remote.close()\n"
   ]
  },
  {
   "cell_type": "markdown",
   "metadata": {},
   "source": [
    "#### 경찰서 별 평균 범죄 발생건수와 평균 범죄 검거 건수를 검색"
   ]
  },
  {
   "cell_type": "code",
   "execution_count": 67,
   "metadata": {},
   "outputs": [
    {
     "name": "stdout",
     "output_type": "stream",
     "text": [
      "[('강남', '검거', Decimal('674.6000')), ('강남', '발생', Decimal('950.8000')), ('강동', '검거', Decimal('532.4000')), ('강동', '발생', Decimal('757.6000')), ('강북', '검거', Decimal('451.8000')), ('강북', '발생', Decimal('554.0000')), ('강서', '검거', Decimal('678.6000')), ('강서', '발생', Decimal('883.0000')), ('관악', '검거', Decimal('771.6000')), ('관악', '발생', Decimal('1052.2000')), ('광진', '검거', Decimal('502.2000')), ('광진', '발생', Decimal('720.2000')), ('구로', '검거', Decimal('596.8000')), ('구로', '발생', Decimal('835.0000')), ('금천', '검거', Decimal('393.2000')), ('금천', '발생', Decimal('519.6000')), ('남대문', '검거', Decimal('183.4000')), ('남대문', '발생', Decimal('270.8000')), ('노원', '검거', Decimal('516.2000')), ('노원', '발생', Decimal('748.6000')), ('도봉', '검거', Decimal('298.0000')), ('도봉', '발생', Decimal('435.8000')), ('동대문', '검거', Decimal('493.0000')), ('동대문', '발생', Decimal('680.2000')), ('동작', '검거', Decimal('417.2000')), ('동작', '발생', Decimal('640.0000')), ('마포', '검거', Decimal('506.8000')), ('마포', '발생', Decimal('737.6000')), ('방배', '검거', Decimal('115.2000')), ('방배', '발생', Decimal('167.2000')), ('서대문', '검거', Decimal('341.2000')), ('서대문', '발생', Decimal('506.6000')), ('서부', '검거', Decimal('213.0000')), ('서부', '발생', Decimal('272.4000')), ('서초', '검거', Decimal('495.2000')), ('서초', '발생', Decimal('753.0000')), ('성동', '검거', Decimal('354.8000')), ('성동', '발생', Decimal('472.4000')), ('성북', '검거', Decimal('184.4000')), ('성북', '발생', Decimal('241.6000')), ('송파', '검거', Decimal('708.8000')), ('송파', '발생', Decimal('1082.0000')), ('수서', '검거', Decimal('374.4000')), ('수서', '발생', Decimal('520.4000')), ('양천', '검거', Decimal('417.2000')), ('양천', '발생', Decimal('643.2000')), ('영등포', '검거', Decimal('674.2000')), ('영등포', '발생', Decimal('1043.4000')), ('용산', '검거', Decimal('411.2000')), ('용산', '발생', Decimal('593.8000')), ('은평', '검거', Decimal('293.2000')), ('은평', '발생', Decimal('405.6000')), ('종로', '검거', Decimal('235.8000')), ('종로', '발생', Decimal('338.8000')), ('종암', '검거', Decimal('205.0000')), ('종암', '발생', Decimal('271.8000')), ('중랑', '검거', Decimal('556.2000')), ('중랑', '발생', Decimal('745.2000')), ('중부', '검거', Decimal('281.2000')), ('중부', '발생', Decimal('411.4000')), ('혜화', '검거', Decimal('198.8000')), ('혜화', '발생', Decimal('281.6000'))]\n"
     ]
    }
   ],
   "source": [
    "remote = mysql.connector.connect(\n",
    "    host = '192.168.35.159',\n",
    "    port = 3306,\n",
    "    user = 'newrandom',\n",
    "    password = password,\n",
    "    database='zerobase'\n",
    ")\n",
    "\n",
    "cur = remote.cursor(buffered=True)\n",
    "# query = 'SELECT POLICE_STATION, STATUS_TYPE, AVG(CASE_NUMBER) FROM CRIME_STATUS\\\n",
    "#     GROUP BY POLICE_STATION'        ## 발생 한 경우만 조회됨\n",
    "query = 'SELECT POLICE_STATION, STATUS_TYPE, AVG(CASE_NUMBER) FROM CRIME_STATUS\\\n",
    "    GROUP BY POLICE_STATION, STATUS_TYPE'\n",
    "\n",
    "cur.execute(query)\n",
    "print(cur.fetchall())\n",
    "\n",
    "remote.close()\n"
   ]
  },
  {
   "cell_type": "markdown",
   "metadata": {},
   "source": [
    "### 7. HAVING"
   ]
  },
  {
   "cell_type": "markdown",
   "metadata": {},
   "source": [
    "#### 경찰서 별로 발생한 범죄 건수의 합이 4000 건보다 큰 경우를 검색"
   ]
  },
  {
   "cell_type": "code",
   "execution_count": 68,
   "metadata": {},
   "outputs": [],
   "source": [
    "import pandas as pd"
   ]
  },
  {
   "cell_type": "code",
   "execution_count": 72,
   "metadata": {},
   "outputs": [
    {
     "name": "stdout",
     "output_type": "stream",
     "text": [
      "     0     1\n",
      "0   송파  5410\n",
      "1   관악  5261\n",
      "2  영등포  5217\n",
      "3   강남  4754\n",
      "4   강서  4415\n",
      "5   구로  4175\n"
     ]
    }
   ],
   "source": [
    "remote = mysql.connector.connect(\n",
    "    host = '192.168.35.159',\n",
    "    port = 3306,\n",
    "    user = 'newrandom',\n",
    "    password = password,\n",
    "    database='zerobase'\n",
    ")\n",
    "\n",
    "cur = remote.cursor(buffered=True)\n",
    "query = 'SELECT POLICE_STATION, SUM(CASE_NUMBER) FROM CRIME_STATUS\\\n",
    "        WHERE STATUS_TYPE = \"발생\"\\\n",
    "        GROUP BY POLICE_STATION\\\n",
    "            HAVING SUM(CASE_NUMBER) > 4000\\\n",
    "                ORDER BY SUM(CASE_NUMBER) DESC'\n",
    "\n",
    "cur.execute(query)\n",
    "answer = cur.fetchall()\n",
    "\n",
    "df = pd.DataFrame(answer)\n",
    "print(df.head(6))\n",
    "\n",
    "remote.close()\n"
   ]
  },
  {
   "cell_type": "markdown",
   "metadata": {},
   "source": [
    "#### 경찰서 별로 발생한 폭력과 절도의 범죄 건수 평균이 2000 이상인 경우를 검색"
   ]
  },
  {
   "cell_type": "code",
   "execution_count": 76,
   "metadata": {},
   "outputs": [
    {
     "name": "stdout",
     "output_type": "stream",
     "text": [
      "     0   1          2\n",
      "0   강남  절도  2112.0000\n",
      "1   강서  절도  2067.0000\n",
      "2   관악  절도  2421.5000\n",
      "3   송파  절도  2552.0000\n",
      "4  영등포  절도  2444.5000\n"
     ]
    }
   ],
   "source": [
    "remote = mysql.connector.connect(\n",
    "    host = '192.168.35.159',\n",
    "    port = 3306,\n",
    "    user = 'newrandom',\n",
    "    password = password,\n",
    "    database='zerobase'\n",
    ")\n",
    "\n",
    "cur = remote.cursor(buffered=True)\n",
    "        ## 폭력과 절도 범죄의 건수 평균이 각각 2000 이상인 경우를 검색\n",
    "# query = \"SELECT POLICE_STATION, CRIME_TYPE, AVG(CASE_NUMBER) '범죄건수평균' FROM CRIME_STATUS\\\n",
    "#     WHERE STATUS_TYPE='발생' \\\n",
    "#     AND CRIME_TYPE IN ('폭력', '절도')\\\n",
    "#     GROUP BY POLICE_STATION, CRIME_TYPE\\\n",
    "#     HAVING 범죄건수평균 >= 2000\"\n",
    "\n",
    "## 폭력과 절도의 범죄를 합한 평균이 2000 이상인 경우를 검색\n",
    "query = \"SELECT POLICE_STATION, CRIME_TYPE, AVG(CASE_NUMBER) FROM CRIME_STATUS\\\n",
    "    WHERE CRIME_TYPE IN ('폭력', '절도') AND STATUS_TYPE = '발생'\\\n",
    "        GROUP BY POLICE_STATION\\\n",
    "            HAVING AVG(CASE_NUMBER) >= 2000\"\n",
    "cur.execute(query)\n",
    "answer = cur.fetchall()\n",
    "\n",
    "df = pd.DataFrame(answer)\n",
    "print(df.head(6))\n",
    "\n",
    "remote.close()\n"
   ]
  },
  {
   "cell_type": "markdown",
   "metadata": {},
   "source": [
    "------------------------------\n",
    "### Quiz"
   ]
  },
  {
   "cell_type": "markdown",
   "metadata": {},
   "source": [
    "#### 1. 경찰서 별로 절도 범죄 평균 발생 건수를 가장 많은 건수 순으로 10개 검색하고 확인하세요."
   ]
  },
  {
   "cell_type": "code",
   "execution_count": 83,
   "metadata": {},
   "outputs": [
    {
     "name": "stdout",
     "output_type": "stream",
     "text": [
      "   경찰서 범죄유형   평균 발생 건수\n",
      "0   송파   절도  2429.0000\n",
      "1   관악   절도  2229.0000\n",
      "2  영등포   절도  2188.0000\n",
      "3   강남   절도  1941.0000\n",
      "4   구로   절도  1763.0000\n",
      "5   강서   절도  1689.0000\n",
      "6   서초   절도  1673.0000\n",
      "7   광진   절도  1664.0000\n",
      "8   강동   절도  1640.0000\n",
      "9   양천   절도  1517.0000\n"
     ]
    }
   ],
   "source": [
    "con = mysql.connector.connect(host = '192.168.35.159', port = 3306, user = 'newrandom', password=password, database = 'zerobase')\n",
    "cur = con.cursor(buffered=True)\n",
    "\n",
    "query = \"SELECT POLICE_STATION, CRIME_TYPE, AVG(CASE_NUMBER) FROM CRIME_STATUS\\\n",
    "        WHERE CRIME_TYPE LIKE '%절도%'\\\n",
    "        AND STATUS_TYPE = '발생'\\\n",
    "        GROUP BY POLICE_STATION\\\n",
    "        ORDER BY AVG(CASE_NUMBER) DESC\\\n",
    "        LIMIT 10\"\n",
    "\n",
    "cur.execute(query)\n",
    "answer = cur.fetchall()\n",
    "df = pd.DataFrame(answer, columns=['경찰서' ,'범죄유형', '평균 발생 건수'])\n",
    "print(df)\n",
    "\n",
    "con.close()"
   ]
  },
  {
   "cell_type": "markdown",
   "metadata": {},
   "source": [
    "#### 경찰서 별로 가장 많이 검거한 범죄 건수를 가장 적은 건수 순으로 5개 검색하세요."
   ]
  },
  {
   "cell_type": "code",
   "execution_count": 89,
   "metadata": {},
   "outputs": [
    {
     "name": "stdout",
     "output_type": "stream",
     "text": [
      "   경찰서  유형  검거횟수\n",
      "0   방배  살인   365\n",
      "1  남대문  살인   494\n",
      "2   성북  살인   610\n",
      "3   혜화  살인   628\n",
      "4   종암  살인   630\n"
     ]
    }
   ],
   "source": [
    "con = mysql.connector.connect(host = '192.168.35.159', port = 3306, user = 'newrandom', password=password, database = 'zerobase')\n",
    "cur = con.cursor(buffered=True)\n",
    "\n",
    "# query = \"SELECT POLICE_STATION, CRIME_TYPE, MAX(CASE_NUMBER) FROM CRIME_STATUS\\\n",
    "#          WHERE STATUS_TYPE='검거' \\\n",
    "#          GROUP BY POLICE_STATION, CRIME_TYPE\\\n",
    "#          ORDER BY MAX(CASE_NUMBER) ASC\\\n",
    "#          LIMIT 5\"\n",
    "#                    # // 경찰서 별로 라는 조건 하나만 들어있는건데, crime_type 조건은 들어가 있지 않기 때문에, 묶어줄 필요 없음.\n",
    "#                    # // crime_type을 묶으면, 경찰서 별로 + 범죄유형별로 결과값을 출력하기 때문에, 모든 범죄유형을 찾게 될 것임.\n",
    "query = \"SELECT POLICE_STATION, CRIME_TYPE, MAX(CASE_NUMBER) FROM CRIME_STATUS\\\n",
    "    WHERE STATUS_TYPE = '검거'\\\n",
    "        GROUP BY POLICE_STATION\\\n",
    "            ORDER BY MAX(CASE_NUMBER) ASC\\\n",
    "                LIMIT 5\"\n",
    "\n",
    "cur.execute(query)\n",
    "answer = cur.fetchall()\n",
    "df = pd.DataFrame(answer, columns=['경찰서', '유형', '검거횟수'])\n",
    "print(df)\n",
    "\n",
    "con.close()"
   ]
  },
  {
   "cell_type": "markdown",
   "metadata": {},
   "source": [
    "#### 경찰서 별로 가장 적게 검거한 건수 중 4건보다 큰 경우를 건수가 큰 순으로 정렬하여 검색하세요.\n"
   ]
  },
  {
   "cell_type": "code",
   "execution_count": 92,
   "metadata": {},
   "outputs": [
    {
     "name": "stdout",
     "output_type": "stream",
     "text": [
      "   경찰서 범죄유형  검거횟수\n",
      "0   중랑   살인     6\n",
      "1   송파   살인     6\n",
      "2   강서   살인     5\n",
      "3   구로   살인     5\n",
      "4  동대문   살인     5\n"
     ]
    }
   ],
   "source": [
    "con = mysql.connector.connect(host = '192.168.35.159', port = 3306, user = 'newrandom', password=password, database = 'zerobase')\n",
    "cur = con.cursor(buffered=True)\n",
    "\n",
    "query = \"SELECT POLICE_STATION, CRIME_TYPE, MIN(CASE_NUMBER) FROM CRIME_STATUS\"     # 경찰서, 범죄유형, 검거 건수가 가장 작은것\n",
    "query += \" WHERE STATUS_TYPE = '검거'\"\n",
    "query += \" GROUP BY POLICE_STATION\"\n",
    "query += \" HAVING MIN(CASE_NUMBER) > 4\"\n",
    "query += \" ORDER BY MIN(CASE_NUMBER) DESC\"\n",
    "\n",
    "cur.execute(query)\n",
    "answer = cur.fetchall()\n",
    "df = pd.DataFrame(answer, columns=['경찰서', '범죄유형', '검거횟수'])\n",
    "print(df)\n",
    "\n",
    "con.close()"
   ]
  },
  {
   "cell_type": "markdown",
   "metadata": {},
   "source": [
    "#### '대문' 으로 끝나는 이름의 경찰서 별 범죄발생 건수의 평균이 500건 이상인 경우를 검색하세요."
   ]
  },
  {
   "cell_type": "code",
   "execution_count": 94,
   "metadata": {},
   "outputs": [
    {
     "name": "stdout",
     "output_type": "stream",
     "text": [
      "   경찰서  유형    평균발생건수\n",
      "0  동대문  살인  680.2000\n",
      "1  서대문  살인  506.6000\n"
     ]
    }
   ],
   "source": [
    "con = mysql.connector.connect(host = '192.168.35.159', port = 3306, user = 'newrandom', password=password, database = 'zerobase')\n",
    "cur = con.cursor(buffered=True)\n",
    "\n",
    "query = \"SELECT POLICE_STATION, CRIME_TYPE, AVG(CASE_NUMBER) FROM CRIME_STATUS\\\n",
    "    WHERE STATUS_TYPE = '발생' \\\n",
    "        AND POLICE_STATION LIKE '%대문'\\\n",
    "            GROUP BY POLICE_STATION\\\n",
    "                HAVING AVG(CASE_NUMBER) >= 500\\\n",
    "        \"\n",
    "\n",
    "cur.execute(query)\n",
    "answer = cur.fetchall()\n",
    "df = pd.DataFrame(answer, columns=['경찰서','유형','평균발생건수'])\n",
    "print(df)\n",
    "\n",
    "con.close()"
   ]
  },
  {
   "cell_type": "markdown",
   "metadata": {},
   "source": []
  },
  {
   "cell_type": "code",
   "execution_count": null,
   "metadata": {},
   "outputs": [],
   "source": []
  }
 ],
 "metadata": {
  "kernelspec": {
   "display_name": "practice310",
   "language": "python",
   "name": "practice310"
  },
  "language_info": {
   "codemirror_mode": {
    "name": "ipython",
    "version": 3
   },
   "file_extension": ".py",
   "mimetype": "text/x-python",
   "name": "python",
   "nbconvert_exporter": "python",
   "pygments_lexer": "ipython3",
   "version": "3.10.4"
  },
  "orig_nbformat": 4,
  "vscode": {
   "interpreter": {
    "hash": "aee8b7b246df8f9039afb4144a1f6fd8d2ca17a180786b69acc140d282b71a49"
   }
  }
 },
 "nbformat": 4,
 "nbformat_minor": 2
}
