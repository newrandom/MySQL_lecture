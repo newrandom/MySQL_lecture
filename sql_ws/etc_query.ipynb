{
 "cells": [
  {
   "cell_type": "markdown",
   "metadata": {},
   "source": [
    "# 문제1. AWS RDS (database-1) 의 zerobase 데이터베이스를 백업하세요.\n",
    " * 주의) AWS RDS database를 백업할 경우 다음의 옵션을 추가해야 합니다.\\\n",
    ">       --set-gtid-purged=OFF\n",
    "        "
   ]
  },
  {
   "cell_type": "markdown",
   "metadata": {},
   "source": [
    "terminal >> `mysqldump --set-gtid-purged=OFF -h '' -P 3306 -u root -p zerobase > zerobase_database_backup.sql`"
   ]
  },
  {
   "cell_type": "markdown",
   "metadata": {},
   "source": [
    "# 문제2. AWS RDS (database-1) 에 admin 계정으로 로그인하세요."
   ]
  },
  {
   "cell_type": "markdown",
   "metadata": {},
   "source": [
    "terminal >> `mysql -h ' ' -P 3306 -u admin -p`"
   ]
  },
  {
   "cell_type": "markdown",
   "metadata": {},
   "source": [
    "# 문제 3. Database (zerodb)를 생성하세요.\n",
    "> `(DEFAULT CHARACTER SET utf8mb4)`"
   ]
  },
  {
   "cell_type": "markdown",
   "metadata": {},
   "source": [
    "mysql >> `CREATE DATABASE zerodb DEFAULT CHARACTER SET utf8mb4;`"
   ]
  },
  {
   "cell_type": "markdown",
   "metadata": {},
   "source": [
    "# 문제 4. 앞서 생성한 사용자 (zero@'%') 에게 zerodb의 모든 권한을 부여하세요."
   ]
  },
  {
   "cell_type": "markdown",
   "metadata": {},
   "source": [
    "mysql >> `GRANT ALL PREVILEAGES ON zerodb.* TO 'zero'@'%';`\n"
   ]
  },
  {
   "cell_type": "markdown",
   "metadata": {},
   "source": [
    "# 문제 5. 앞서 백업한 zerobase 백업파일을 zerodb에서 실행하세요."
   ]
  },
  {
   "cell_type": "markdown",
   "metadata": {},
   "source": [
    "mysql >> `SOURCE zerobase_database_backup.sql`"
   ]
  },
  {
   "cell_type": "markdown",
   "metadata": {},
   "source": [
    "# 문제 6. police_station 테이블에 아래 데이터를 insert 하기 위한 sql 파일을 생성하세요."
   ]
  },
  {
   "cell_type": "markdown",
   "metadata": {},
   "source": [
    "### police_station_insert.sql >>\n",
    "\n",
    "-- 각 쿼리문 마다 세미콜론(;)으로 닫아줘야 다음 작업을 진행할 수 있다.!\n",
    "\n",
    "`INSERT INTO police_station VALUES ('서울특별시경찰청','서울시 종로구 사직로8길 31');`\\\n",
    "`INSERT INTO police_station VALUES ('서울중부경찰서','서울특별시 중구 수표로 27');`\\\n",
    "`INSERT INTO police_station VALUES ('서울종로경찰서','서울특별시 종로구 율곡로 46');`\\\n",
    "`INSERT INTO police_station VALUES ('서울남대문경찰서','서울특별시 중구 한강대로 410');`\n"
   ]
  },
  {
   "cell_type": "markdown",
   "metadata": {},
   "source": [
    "# 문제 7. SQL 파일을 실행하여 AWS RDS (database-1) zerobase의 police_station 테이블에 데이터를 INSERT 하고 확인하세요."
   ]
  },
  {
   "cell_type": "markdown",
   "metadata": {},
   "source": [
    "mysql >> `use zerobase`\\\n",
    "mysql >> `source police_station_insert.sql`\n",
    "\n",
    "mysql >> `select * from police_station`"
   ]
  },
  {
   "cell_type": "markdown",
   "metadata": {},
   "source": [
    "# 문제 8. AWS RDS (database-1) zerobase 의 police_station 테이블을 SQL 파일로 백업하세요."
   ]
  },
  {
   "cell_type": "markdown",
   "metadata": {},
   "source": [
    "terminal >>  `mysqldump --set-gtid-purged=OFF -h ' ' -P3306 -u root -p zerobase police_station > AWS_police_station_table_backup.sql`"
   ]
  },
  {
   "cell_type": "markdown",
   "metadata": {},
   "source": [
    "# 문제 9. SQL 파일을 실행하여 AWS RDS (database-1) zerodb의 police_station 테이블을 zerobase 와 동일하게 만들고 확인하세요."
   ]
  },
  {
   "cell_type": "markdown",
   "metadata": {},
   "source": [
    "mysql >> `use zerodb`\\\n",
    "mysql >> `source AWS_police_station_table_backup.sql`\n",
    "\n",
    "mysql >> `SELECT * FROM police_station`"
   ]
  }
 ],
 "metadata": {
  "kernelspec": {
   "display_name": "practice310",
   "language": "python",
   "name": "practice310"
  },
  "language_info": {
   "name": "python",
   "version": "3.10.4"
  },
  "orig_nbformat": 4
 },
 "nbformat": 4,
 "nbformat_minor": 2
}
